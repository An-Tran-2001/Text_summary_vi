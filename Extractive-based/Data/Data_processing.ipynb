{
 "cells": [
  {
   "cell_type": "code",
   "execution_count": 83,
   "metadata": {},
   "outputs": [],
   "source": [
    "import pandas as pd\n",
    "import numpy as np \n",
    "import os\n",
    "import re \n",
    "from underthesea import word_tokenize, sent_tokenize\n",
    "path = os.path.abspath(os.curdir)+'/datasets_vi/'\n",
    "folder = os.listdir(path)"
   ]
  },
  {
   "cell_type": "code",
   "execution_count": 84,
   "metadata": {},
   "outputs": [
    {
     "name": "stdout",
     "output_type": "stream",
     "text": [
      "{'Title': ' Máy bay Ai Cập rơi: Những câu hỏi cho chính phủ Pháp và Ai Cập', 'Source': ' Người Đưa Tin', 'Link': ' http://www.nguoiduatin.vn/may-bay-ai-cap-roi-nhung-cau-hoi-cho-chinh-phu-phap-va-ai-cap-a241581.html', 'Published Date': ' 20.05.2016 | 10:49 AM', 'Author': ' Phong Lan', 'Tags': ' IS, máy bay rơi, Ai Cập, hàng không, tai nạn', 'Summary': ' Có những câu hỏi đặt ra cho cả chính phủ Pháp và Ai Cập khi chiếc máy bay Ai Cập bị rơi có thể do một quả bom hẹn giờ của IS.', 'Content': 'Chiếc Airbus A320-232 số hiệu MS804 của hãng hàng không EgyptAir khởi hành lúc 23:09 phút ngày 18/5 từ sân bay Charles de Gaulle, Paris, Pháp tới Cairo, Ai Cập.Tuy nhiên, nó đã biến mất khỏi màn hình radar của trung tâm điều khiển không lưu của Hy Lạp và Ai Cập lúc 2h45 và rơi vào Địa Trung Hải khoảng 10 dặm bên trong vùng lãnh hải Ai Cập.Trên chiếc máy bay có 66 người bao gồm 7 thành viên phi hành đoàn, 3 nhân viên bảo vệ, 30 công dân Ai Cập, 17 công dân Pháp cũng như các công dân của Iraq, Arab Saudi và các nước khác.Chiếc máy bay này được sản xuất năm 2003, được điều khiển bởi hai phi công đã có hàng ngàn giờ kinh nghiệm trong buồng lái.Báo cáo của các cơ quan sân bay Ai Cập cho biết, hàng hóa không chứa các vật liệu nguy hiểm hoặc bất cứ thứ gì khác thường.Thủ tướng Ai Cập Sherif Ismail cho biết khả năng máy bay bị khủng bố là không thể tránh khỏi. Ông nhấn mạnh rằng không có cuộc gọi cứu nạn nào từ buồng lái và không có báo cáo cho thấy máy bay bị lệch khỏi đường bay hoặc độ cao trước khi biến mất.Phát ngôn viên của quân đội Ai Cập, Chuẩn Tướng Mohammed Samir khẳng định trong một bài viết trên trang Facebook của quân đội cho biết các phi công đã không gửi tín hiệu cấp cứu.Sau khi máy bay biến mất, Tổng thống Pháp Francois Hollande đã triệu tập một cuộc họp khẩn cấp tại điện Elysee.Trong khi đó, một số nhân chứng ở Hy Lạp đã quay được 1 video cho thấy khoảnh khắc một quả cầu lửa khổng lồ xuất hiện trên bầu trời tại khu vực máy bay Ai Cập mang số hiệu MS804 bị mất tích.Điều đó cho thấy giả định MS804 mang một quả bom hẹn giờ phát nổ khi máy bay đang ở trong không phận Ai Cập là hoàn toàn có cơ sở.Nguồn tin quân sự, tình báo chống khủng bố DEBKAfile cho rằng nếu máy bay bị rơi bởi một hành động khủng bố, nó sẽ là cú sốc lớn nhất của IS đến ngành hàng không quốc tế dân sự, du lịch Ai Cập, và các dịch vụ an ninh, kiểm soát của Pháp và Ai Cập.Đây là lần thứ hai trong vòng chưa đầy một năm, IS đã thành công sử dụng bom hẹn giờ trên một máy bay chở khách liên quan đến Ai Cập.Chiếc đầu tiên là một chiếc Airbus A321 của Nga cất cánh từ Sharm al-Sheikh và bị nổ trên bán đảo Sinai vào ngày 31/10. Tất cả 224 hành khách và phi hành đoàn đã thiệt mạng.Một trong những câu hỏi chính trong việc điều tra thảm họa máy bay mới nhất sẽ là thiết bị nổ được đưa lên máy bay ở Cairo hay Paris. Nếu nó đã xảy ra ở Paris, nó sẽ đặt ra câu hỏi liệu phần tử khủng bố IS đã thâm nhập vào đội mặt đất tại sân bay Charles de Gaulle?Nếu điều đó là đúng, nó sẽ đem tới một nguy cơ nghiêm trọng nhất cho chính phủ và người dân Pháp kể từ sau vụ tấn công khủng bố tháng 11 năm 2015 tại Paris khiến 130 người thiệt mạng và hàng trăm người bị thương.Đây cũng là một dấu hiệu cho thấy sự leo thang khủng bố của IS khi đây là vụ khủng bố thứ hai trong vòng 3 tháng vào một mục tiêu hàng không dân sự ở Tây Âu.Trước đó, sân bay quốc tế Brussels, Bỉ bị đánh bom vào tháng 3 khiến 31 người thiệt mạng và khoảng 200 người bị thương.Nhưng nếu việc điều tra thấy quả bom đã được đưa lên máy bay ở Cairo trước khi nó khởi hành đi Paris, nó sẽ cho thấy sự leo thang nghiêm trọng và nguy hiểm của IS ở Ai Cập.Điều đó chứng tỏ IS đã xâm nhập sâu của IS và khả năng hoạt động không lường trước được của tổ chức khủng bố này ở Ai CậpĐó là một mối đe dọa lớn đối với sự ổn định của chế độ của Tổng thống Abel Fattah al-Sisi.'}\n",
      "{'Title': [], 'Source': [], 'Link': [], 'Published Date': [], 'Author': [], 'Tags': [], 'Summary': [], 'Content': [], 'Cluster': [], 'File_name': []}\n",
      " Có những câu hỏi đặt ra cho cả chính phủ Pháp và Ai Cập khi chiếc máy bay Ai Cập bị rơi có thể do một quả bom hẹn giờ của IS.\n",
      "Chiếc Airbus A320-232 số hiệu MS804 của hãng hàng không EgyptAir khởi hành lúc 23:09 phút ngày 18/5 từ sân bay Charles de Gaulle, Paris, Pháp tới Cairo, Ai Cập.Tuy nhiên, nó đã biến mất khỏi màn hình radar của trung tâm điều khiển không lưu của Hy Lạp và Ai Cập lúc 2h45 và rơi vào Địa Trung Hải khoảng 10 dặm bên trong vùng lãnh hải Ai Cập.Trên chiếc máy bay có 66 người bao gồm 7 thành viên phi hành đoàn, 3 nhân viên bảo vệ, 30 công dân Ai Cập, 17 công dân Pháp cũng như các công dân của Iraq, Arab Saudi và các nước khác.Chiếc máy bay này được sản xuất năm 2003, được điều khiển bởi hai phi công đã có hàng ngàn giờ kinh nghiệm trong buồng lái.Báo cáo của các cơ quan sân bay Ai Cập cho biết, hàng hóa không chứa các vật liệu nguy hiểm hoặc bất cứ thứ gì khác thường.Thủ tướng Ai Cập Sherif Ismail cho biết khả năng máy bay bị khủng bố là không thể tránh khỏi. Ông nhấn mạnh rằng không có cuộc gọi cứu nạn nào từ buồng lái và không có báo cáo cho thấy máy bay bị lệch khỏi đường bay hoặc độ cao trước khi biến mất.Phát ngôn viên của quân đội Ai Cập, Chuẩn Tướng Mohammed Samir khẳng định trong một bài viết trên trang Facebook của quân đội cho biết các phi công đã không gửi tín hiệu cấp cứu.Sau khi máy bay biến mất, Tổng thống Pháp Francois Hollande đã triệu tập một cuộc họp khẩn cấp tại điện Elysee.Trong khi đó, một số nhân chứng ở Hy Lạp đã quay được 1 video cho thấy khoảnh khắc một quả cầu lửa khổng lồ xuất hiện trên bầu trời tại khu vực máy bay Ai Cập mang số hiệu MS804 bị mất tích.Điều đó cho thấy giả định MS804 mang một quả bom hẹn giờ phát nổ khi máy bay đang ở trong không phận Ai Cập là hoàn toàn có cơ sở.Nguồn tin quân sự, tình báo chống khủng bố DEBKAfile cho rằng nếu máy bay bị rơi bởi một hành động khủng bố, nó sẽ là cú sốc lớn nhất của IS đến ngành hàng không quốc tế dân sự, du lịch Ai Cập, và các dịch vụ an ninh, kiểm soát của Pháp và Ai Cập.Đây là lần thứ hai trong vòng chưa đầy một năm, IS đã thành công sử dụng bom hẹn giờ trên một máy bay chở khách liên quan đến Ai Cập.Chiếc đầu tiên là một chiếc Airbus A321 của Nga cất cánh từ Sharm al-Sheikh và bị nổ trên bán đảo Sinai vào ngày 31/10. Tất cả 224 hành khách và phi hành đoàn đã thiệt mạng.Một trong những câu hỏi chính trong việc điều tra thảm họa máy bay mới nhất sẽ là thiết bị nổ được đưa lên máy bay ở Cairo hay Paris. Nếu nó đã xảy ra ở Paris, nó sẽ đặt ra câu hỏi liệu phần tử khủng bố IS đã thâm nhập vào đội mặt đất tại sân bay Charles de Gaulle?Nếu điều đó là đúng, nó sẽ đem tới một nguy cơ nghiêm trọng nhất cho chính phủ và người dân Pháp kể từ sau vụ tấn công khủng bố tháng 11 năm 2015 tại Paris khiến 130 người thiệt mạng và hàng trăm người bị thương.Đây cũng là một dấu hiệu cho thấy sự leo thang khủng bố của IS khi đây là vụ khủng bố thứ hai trong vòng 3 tháng vào một mục tiêu hàng không dân sự ở Tây Âu.Trước đó, sân bay quốc tế Brussels, Bỉ bị đánh bom vào tháng 3 khiến 31 người thiệt mạng và khoảng 200 người bị thương.Nhưng nếu việc điều tra thấy quả bom đã được đưa lên máy bay ở Cairo trước khi nó khởi hành đi Paris, nó sẽ cho thấy sự leo thang nghiêm trọng và nguy hiểm của IS ở Ai Cập.Điều đó chứng tỏ IS đã xâm nhập sâu của IS và khả năng hoạt động không lường trước được của tổ chức khủng bố này ở Ai CậpĐó là một mối đe dọa lớn đối với sự ổn định của chế độ của Tổng thống Abel Fattah al-Sisi.\n"
     ]
    }
   ],
   "source": [
    "# load file txt dưới dạng dictionary\n",
    "def load_file(path): # load file , path đường dẫn đến file\n",
    "    with open(path, 'r', encoding='utf-8') as f: # Đọc file với encoding utf-8 và read mode \n",
    "        data = f.read() # Đọc toàn bộ file\n",
    "    data = data.split('\\n') # Tách các dòng trong file\n",
    "    data = [i for i in data if i != ''] # Xóa các dòng trống\n",
    "    for i in range(len(data)): # Gộp các dòng bị xuống sau content khi tách dòng\n",
    "        if i > 7 :\n",
    "            data[7] += data[i]\n",
    "    data = [i.split(':') for i in data] # Tách câu với dấu :\n",
    "    for i in data: # Gộp lại các câu khi khi bị tách ra và thêm dấu : mục đích chỉ biến list chỉ có 2 giá trị thành dict với key và value nội dung ko thay đổi\n",
    "        for j in range(len(i)):\n",
    "            if j>=2:\n",
    "                i[1] += ':'+i[j]\n",
    "    data = [data[i] for i in range(len(data)) if i <= 7] #xóa các dòng bị thừa sau content(nội dung)\n",
    "    new_data = [[i[0],i[1]] for i in data] # lấy giá trị key và value sau khi gộp lại nội dung(khi gộp nội dung thì cácmangr vẫn còn giá trị h chỉ lấy giá giá trị đầu key à giá trị thứ 2  value khi gộp)\n",
    "    new_data = {i[0]:i[1] for i in new_data} # Tạo 1 cái dict đc trả về với key và value của líst new_data\n",
    "    return new_data\n",
    "\n",
    "# load thử 1 file \n",
    "data = load_file(path +'Cluster_001/original/10.txt')\n",
    "print(data)\n",
    "dataframe = {i:[] for i in list(data.keys())} # Tạo 1 dict với key là các key của dict data và value là 1 list rỗng (muốn chuyển sang dataframe thì phải có cấu trúc như vậy key và1 list giá trị value)\n",
    "dataframe['Cluster'] = []\n",
    "dataframe['File_name'] = []\n",
    "print(dataframe)\n",
    "print(data['Summary'])\n",
    "print(data['Content'])"
   ]
  },
  {
   "cell_type": "code",
   "execution_count": 85,
   "metadata": {},
   "outputs": [],
   "source": [
    "def load_folder(folder):\n",
    "    for folder in folder:\n",
    "        for file in os.listdir(path + folder  + '/original/'):\n",
    "            if file.endswith(\".txt\"):\n",
    "                dict = load_file(path + folder  + '/original/' + file)\n",
    "                for key in dataframe:\n",
    "                    if key in dict:\n",
    "                        dataframe[key].append(dict[key])\n",
    "                    elif key == 'Cluster':\n",
    "                        dataframe[key].append(folder)\n",
    "                    elif key == 'File_name':\n",
    "                        dataframe[key].append(file)\n",
    "    return dataframe\n",
    "dataframe = load_folder(folder)\n",
    "df = pd.DataFrame(data = dataframe)\n",
    "df.to_csv('Dataframe_sentencecs_vi.csv',index=True)"
   ]
  }
 ],
 "metadata": {
  "kernelspec": {
   "display_name": "Python 3",
   "language": "python",
   "name": "python3"
  },
  "language_info": {
   "codemirror_mode": {
    "name": "ipython",
    "version": 3
   },
   "file_extension": ".py",
   "mimetype": "text/x-python",
   "name": "python",
   "nbconvert_exporter": "python",
   "pygments_lexer": "ipython3",
   "version": "3.10.9"
  },
  "orig_nbformat": 4,
  "vscode": {
   "interpreter": {
    "hash": "cdfbf7b7304e05408e799db5ef32899d3a083826c8173734f898b7fad24dd3fd"
   }
  }
 },
 "nbformat": 4,
 "nbformat_minor": 2
}
