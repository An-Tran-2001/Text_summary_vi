{
 "cells": [
  {
   "cell_type": "code",
   "execution_count": 353,
   "metadata": {},
   "outputs": [],
   "source": [
    "import pandas as pd\n",
    "import numpy as np\n",
    "from bs4 import BeautifulSoup\n",
    "import requests\n",
    "import warnings\n",
    "import os\n",
    "import re\n",
    "warnings.filterwarnings(\"ignore\")"
   ]
  },
  {
   "cell_type": "code",
   "execution_count": 354,
   "metadata": {},
   "outputs": [],
   "source": [
    "stop_words = open(os.getcwd() + '/Data/stop_word/vietnamese-stopwords.txt', 'r', encoding='utf-8').read()\n",
    "stop_words = stop_words.split()"
   ]
  },
  {
   "cell_type": "code",
   "execution_count": 355,
   "metadata": {},
   "outputs": [
    {
     "data": {
      "text/plain": [
       "'TP.HCM đang nỗ lực thay đổi chính mình theo hướng thay đổi đẳng cấp, đua tranh để vươn lên ngang tầm những TP lớn, hiện đại trong khu vực.Sẽ phải có rất nhiều tuyến giải pháp cụ thể ở tầm chiến lược và chiến thuật cho TP.HCM (giải pháp trong từng bước đi và các giải pháp xử lý vấn đề cụ thể hay tình thế).Trong phạm vi bài viết ngắn này, chỉ xin đề xuất một số giải pháp mang tính tổng quát, có ý nghĩa định hướng và gợi ý.1. Đặc biệt đề cao định hướng hiện đại hóa trong mục tiêu phát triển và phải nghiêm khắc, kiên trì tuân thủ định hướng này. Để thực hiện định hướng, cần giải quyết cả ba nhóm vấn đề lớn:* Về dân số - dân cư: phải có giải pháp kinh tế ngăn chặn dòng người ồ ạt di cư vào TP vô điều kiện, đặc biệt là lực lượng lao động trình độ thấp, tránh quá tải dân số và tránh xu hướng “nông thôn hóa”. Dân số gắn với dân cư: phân bố dân cư theo nghề, theo tuyến phát triển, bảo đảm trình độ văn hóa - văn minh tương xứng với mục tiêu phát triển.* Về cơ cấu ngành nghề: chỉ chấp nhận những ngành công nghệ cao hoặc có đẳng cấp nghề nghiệp cao (các ngành dịch vụ). Giới hạn lao động ngành nghề dịch vụ trình độ thấp (vệ sinh, môi trường, cấp thoát nước đô thị), nỗ lực hiện đại hóa các dịch vụ ở mức cao nhất có thể.* Về kết cấu hạ tầng: nếu lấy mức độ tắc nghẽn giao thông làm một thước số đo điển hình trình độ hiện đại hóa của TP thì nhìn từ góc độ hạ tầng, rõ ràng chỉ số đo này tùy thuộc vào: i) quy mô và cơ cấu - trình độ dân số; ii) định hướng quy hoạch không gian TP, quy tụ lại trong quy hoạch giao thông (TP tập trung phát triển trên mặt đất hay phát triển theo cả chiều sâu/phát triển đô thị ngầm); iii) định hướng văn hóa giao thông đô thị: rút ngắn “thời đại văn minh xe máy” để chuyển nhanh qua “nền văn minh ôtô”, hoặc sớm định hướng “giao thông thông minh” - hay tiếp tục duy trì “nền văn minh xe máy” như hiện nay?2. Không gian đô thị của TP.HCM phải là không gian kết nối hạ tầng tối ưu, làm nền tảng và phục vụ một TP thông minh, phát triển bền vững. Tiêu chuẩn nền tảng của “hòn ngọc Viễn Đông” hiện đại là không bị ngập lụt, ít (hoặc không) bị kẹt xe, ít bị tắc nghẽn giao thông. Để giải quyết vấn đề này, trên cơ sở kinh nghiệm đã có, TP cần định hướng phát triển của mình theo ba tuyến:Một là hạn chế mở TP ra hướng đông nam, tiến về phía biển (nguy cơ bịt hết đường thoát nước nội thành, hoặc phải đầu tư cực lớn để giải quyết căn bản vấn đề thoát nước - ngập lụt).Hay ngược lại, nên chọn hướng phát triển chính của TP là tây bắc?Hai là tăng cường “ngầm hóa” đô thị, đặc biệt ở những vùng đô thị mới. Lưu ý rằng không chỉ “ngầm hóa” các công trình giao thông mà còn phải “ngầm hóa” cả không gian đô thị.Ba là tích cực ứng dụng “giao thông thông minh”.3. Xây dựng TP.HCM thành trung tâm giáo dục - đào tạo và nghiên cứu - phát triển đẳng cấp quốc tế và khu vực. Singapore rõ ràng là một hình mẫu thích hợp và có tính thuyết phục cao.4. Định hướng quy hoạch phát triển đô thị vùng TP.HCM theo “chùm” và “chuỗi”, có xu hướng “ly tâm”, thoát khỏi xu hướng “hướng tâm” đang thống trị hiện nay.Hai điều kiện là: các đô thị mới đủ hiện đại, tiện nghi để tạo sức hấp dẫn “ly tâm”; hệ thống giao thông kết nối trung tâm - ngoại vi phải thuận lợi (tiện nghi và thông suốt, bảo đảm tốc độ lưu thông cao).5. Giao thông kết nối tốt các tọa độ kết nối quốc tế (sân bay và cảng trung chuyển quốc tế) với trung tâm TP.6. Xây dựng TP.HCM thành trung tâm “khởi nghiệp”, khuyến khích đầu tư mạo hiểm, coi đây là một giải pháp quan trọng bậc nhất, vừa để thúc đẩy tinh thần sáng tạo kinh doanh vừa tăng cường các phẩm chất nhân văn của người TP.7. Xây dựng thể chế chính quyền đô thị, theo các hình mẫu hiện đại (các nước phát triển), yếu tố cơ bản để có một đô thị thượng tôn pháp luật, công khai minh bạch và bảo đảm dân chủ.8. Tạo lập lực lượng doanh nghiệp mạnh, coi một số tập đoàn doanh nghiệp tư nhân mạnh làm trụ cột, tích cực thu hút đầu tư nước ngoài, trong đó các tập đoàn lớn - nhà đầu tư chiến lược, có khả năng mở rộng kết nối chuỗi toàn cầu - là mục tiêu ưu tiên.Chú trọng lôi kéo, thu hút lực lượng người Việt ở nước ngoài có gốc rễ Sài Gòn, lực lượng Hoa kiều trên địa bàn TP, coi đây là những nhân tố lan tỏa và kết nối đầu tư - thương mại toàn cầu hiệu quả nhất.Rút kinh nghiệm các đô thị trên thế giớiTrong xu hướng tích cực thu hút đầu tư nước ngoài của Việt Nam, TP.HCM với tư cách là trung tâm kinh tế, công nghiệp, trục nan hoa của ASEAN, chắc chắn còn phát triển mạnh mẽ thời gian tới.Trong bối cảnh đó, nhiều vấn đề liên quan đến môi trường sống đang cùng lúc xuất hiện.Tuy nhiên, may mắn là có thể đoán trước các vấn đề nào sẽ phát sinh dễ dàng khi nhìn vào lịch sử phát triển của các đô thị trong quá khứ, đồng thời nếu dành thời gian nhìn vào lịch sử các vấn đề này được giải quyết thì cũng có thể dễ dàng tìm thấy phương pháp giải quyết.Vấn đề của TP.HCM hiện nay là có thể có lựa chọn tốt nhất, đảm bảo kinh phí thực hiện và thực hiện được hay không mà thôi.Ví dụ như tình trạng giao thông đô thị trở nên quá đông đúc. Do dân cư tập trung và xe hơi ngày càng phổ biến dẫn đến tình trạng tắc nghẽn. Cầu vượt ở các điểm giao lộ không phải là giải pháp căn bản.Có nhiều điều có thể học từ những kinh nghiệm của các nước khác, nhưng phải dựa trên hình thái đô thị và tập quán sinh hoạt của người dân...Đầu tiên là hoàn thiện các tuyến xe buýt, đường sắt đô thị, LRT (Light Rail Transit - tàu điện mặt đất) để chuyển từ xe máy, xe hơi sang các phương tiện giao thông công cộng.Thứ hai, giảm lượng giao thông qua trung tâm TP bằng các tuyến đường vành đai để phương tiện giao thông đi vòng qua.Thứ ba, mở rộng chiều ngang của đường và cao tốc hóa để làm tăng dung lượng giao thông cho các tuyến đường chính trong TP.Thứ tư, hoàn thiện đường cho người đi bộ sao cho dễ đi, hạn chế việc đỗ xe ở các điểm đỗ xe, đậu xe, tiến tới cho phép đi bộ đi làm, đi học.Thứ năm, ưu tiên xe đạp và các phương tiện giao thông công cộng vào trong trung tâm TP để bảo vệ môi trường...Ông YASUZUMI HIROTAKA (trưởng đại diện Tổ chức Xúc tiến ngoại thương Nhật Bản tại TP.HCM)'"
      ]
     },
     "execution_count": 355,
     "metadata": {},
     "output_type": "execute_result"
    }
   ],
   "source": [
    "# url = 'https://phunuvietnam.vn/nhung-nguoi-phu-nu-dat-cuoc-song-vao-che-do-im-lang-ho-thuong-khong-don-gian-512022112114044393.htm'\n",
    "# result = requests.get(url)\n",
    "# c = result.content\n",
    "# soup = BeautifulSoup(c,\"lxml\")\n",
    "\n",
    "# content = soup.find('div',class_=\"content-detail\")\n",
    "# content = content.find_all('p')\n",
    "# content = content[1:-1]\n",
    "# content = [i.text for i in content]\n",
    "# content = ' '.join(content)\n",
    "# content = 'Ngày 24/05 vừa qua, Mỹ Linh đã vinh dự trình bày Quốc ca Việt Nam trước bài phát biểu của Tổng thống Mỹ Obama tại Trung tâm Hội nghị Quốc gia. Tuy nhiên, tiết mục trình bày không nhạc đệm, không dàn bè của ca sỹ Mỹ Linh vấp phải luồng ý kiến trái chiều của dư luận và truyền thông.Nhiều khán giả và nhạc sĩ cho rằng Mỹ Linh hát theo phong cách opera đã làm mất đi sự bi hùng của Quốc ca. Mặt khác, một bộ phận khán giả lẫn giới chuyên môn cho rằng ‘cái mới bao giờ cũng gây tranh cãi’ và việc hát quốc ca theo phong cách opera là rất hay, phù hợp trong điều kiện phải hát Quốc ca không có nhạc nền và hợp xướng.Giữa tâm bão dư luận, Mỹ Linh đã thẳng thắn lên tiếng trước những lời chê bai về việc phần trình diễn Quốc ca của mình: \"Đã qua rồi thời chiến tranh bom đạn nên tôi hát quốc ca với thông điệp của thời bình, với tinh thần hàn gắn và chia sẻ yêu thương chứ không hừng hực kháng chiến như ngày nào\". Nữ ca sĩ cũng thừa nhận, cô đã gặp \"tai nạn nghề nghiệp\" tại phần trình diễn này bởi lên cô bắt tone hơi thấp. Mỹ Linh cảm thấy rất tiếc vì có thể làm tốt hơn nếu có cơ hội hát lại.Cách đây ít phút, Diva Hồng Nhung đã đăng tải một dòng trạng thái dài lên tiếng bảo vệ cho Mỹ Linh – người đồng nghiệp đồng thời cũng là người bạn thân thiết của cô. Theo cô Bống, câu chuyện này đã bị thổi phồng quá xa trong những tranh cãi gay gắt mang tính tiêu cực.Diva Hồng Nhung cho rằng việc chọn Mỹ Linh hát Quốc ca trước bài phát biểu của Tổng thống Obama ‘là lựa chọn tối ưu’. Vì việc đứng hát trực tiếp, không nhạc đệm, không hợp xướng trước Tổng thống Obama – người đàn ông quyền lực nhất thế giới, trước hàng trăm ống kính máy quay, được phát trực tiếp không chỉ trong nước mà còn ở quốc tế đòi hỏi một bản lĩnh sân khấu thật sự vững vàng. Nên ‘Nếu không phải là một ca sĩ đẳng cấp cỡ Mỹ Linh thì... khả năng \"cấm khẩu\", không hát nên lời là hoàn toàn có thể xảy ra.’ – Hồng Nhung nhận xét.Hồng Nhung cho biết chị rất buồn vì ‘chuyện phê bình, chê bai gay gắt vượt ra quá xa trong khung văn hóa ứng xử cho phép của một số đông dành cho Mỹ Linh, đã trở nên không công bằng, rồi đến mức ác, cố ý vùi dập’. Đáng lẽ ca sĩ Mỹ Linh không đáng bị mọi người vùi dập như thế vì ‘Mỹ Linh đã hát với một trách nhiệm nghiêm túc, thể hiện sự trân trọng, tình cảm yêu nước của mình trong từng câu hát, không sai một từ, không chênh một nốt’.Kết lại tâm thư dài, cô Bống Hồng Nhung không quên dành lời động viên cho người đồng nghiệp, cũng là người bạn thân thiết của mình: ‘Tôi hãnh diện vì Mỹ Linh, một tài năng đủ lớn để sống vượt lên mọi vỏ bọc bên ngoài, trung thành với giá trị nhân văn mà mình tin tưởng, mặc những thị phi’.Trước Hồng Nhung, không ít nhạc sĩ như nhạc sĩ Hồ Hoài Anh, nhạc sĩ Thanh Phương, nhạc sĩ Trí Minh, nhạc sĩ Ngọc Châu, ca sĩ Thái Thùy Linh... đã lên tiếng ủng hộ và bảo vệ màn trình diễn Quốc ca phá cách mới mẻ của Mỹ Linh.'\n",
    "# content = 'Tổng thư ký Tổ chức Hiệp ước Bắc Đại Tây Dương (NATO) Jens Stoltenberg ngày 19/5 cho biết, nếu Ai Cập đề nghị, liên minh này sẽ hỗ trợ công tác tìm kiếm chiếc máy bay mang số hiệu MS 804 của hãng hàng không Ai Cập chở 66 người mất tích trước đó cùng ngày.“Tôi gửi lời chia buồn sâu sắc nhất đến những ai bị ảnh hưởng bởi vụ việc này.Chúng tôi sẽ tiếp tục theo dõi chặt chẽ diễn biến và nếu được đề nghị, NATO luôn sẵn sàng giúp đỡ”, ông Jens Stoltenberg nói.Thủ tướng Italy Matteo Renzi ngày 19/5 cũng đã gửi lời chia buồn, đồng thời bày tỏ sự đoàn kết với Ai Cập sau vụ máy bay của hãng hàng không Ai Cập mất tích trên Địa Trung Hải khi đang trên đường bay từ Paris đến Cairo.Trước đó, Hãng hàng không quốc gia Ai Cập (EgyptAir) xác nhận phía Hy Lạp đã tìm thấy mảnh vỡ từ chiếc máy bay này ở phía Nam đảo Karpathos, thuộc vùng Nam Địa Trung Hải.Hãng cũng cam kết sẽ triển khai mọi biện pháp giải quyết tình hình hiện nay cũng như tiến hành một cuộc điều tra tổng thể.Người đứng đầu cơ quan điều tra tai nạn hàng không Ai Cập Ayman al-Moqadem ngày 19/5 cho biết, nước này sẽ dẫn đầu một ủy ban điều tra về vụ mất tích chiếc máy bay mang số hiệu MS 804.Ủy ban này bao gồm cả nhân sự phía Pháp, nước sản xuất chiếc Airbus 320 này và cũng là nước có số nạn nhân nhiều thứ hai sau Ai Cập.Hiện Mỹ đã cử máy bay P-3 Orion hỗ trợ công tác tìm kiếm chiếc máy bay mất tích của Ai Cập.Lúc này, ứng viên Tổng thống đảng Cộng hòa Mỹ Donald Trump đã lên tiếng bày tỏ nghi ngờ đây là một vụ tấn công khủng bố song chính phủ Mỹ cho rằng, vụ tai nạn máy bay vẫn đang được điều tra và còn quá sớm để xác định nguyên nhân khiến máy bay gặp nạn.Thủ tướng Ai Cập Sherif Ismail thì nhận định còn quá sớm đề loại bỏ bất cứ giả thuyết nào, kể cả trường hợp máy bay bị khủng bố.Bộ trưởng Bộ Hàng không dân dụng Ai Cập Sherif Phathi cũng cho rằng, khả năng máy bay bị khủng bố cao hơn khả năng xảy ra lỗi kỹ thuật dù ông chưa đưa ra bằng chứng cụ thể nào.Tổng thống Ai Cập Mohamed Morsi đã yêu cầu Bộ Hàng không dân dụng và quân đội phối hợp nhanh chóng định vị nơi chiếc máy bay mang số hiệu MS 804 rơi và tiến hành một cuộc điều tra thấu đáo.Trong khi đó, Ngoại trưởng Canada Stephane Dion ngày 19/5 cho biết trong số những hành khách đi chuyến bay mang số hiệu MS 804 của Hãng hàng không quốc gia Ai Cập (EgyptAir) bị mất tích cùng ngày có ít nhất 2 công dân nước này.Ông cũng cho biết Bộ Ngoại giao Canada đang phối hợp với các đối tác Pháp và Ai Cập, cũng như các nước liên quan khác để đánh giá tình hình và xem xét các yêu cầu hỗ trợ.Trước đó, hãng hàng không quốc gia Ai Cập đã công bố quốc tịch của những hành khách đi trên chuyến bay MS 804 bị mất tích, bao gồm 56 hành khách, trong đó có 30 người Ai Cập, 15 người Pháp, 2 người I-rắc, 1 người Anh, 1 người Bỉ, 1 người Kuwait, 1 người Saudi Arabia, 1 người Sudan, 1 người Cộng hòa Chad, 1 người Bồ Đào Nha, 1 người Angeria và 1 người Canada.'\n",
    "# content ='Pascal Hess, người Pháp là một trong số 66 người, trong đó có 15 công dân Pháp, được cho là đã chết khi chuyến bay MS804 của Hãng hàng không Ai Cập biến mất trên đường đến Cairo hôm 19-5.Bạn bè của Hess cho biết, ông ấy gần như không thể đáp được chuyến bay MS804 của EgyptAir vì bị mất hộ chiếu.“Hess, một người mê bóng chuyền và là nhiếp ảnh gia đến từ Evreux ở Normandy đã không ngủ 3 ngày vì ông vô cùng lo lắng khi hộ chiếu của mình bị mất mà chưa được tìm thấy. Cho đến khi có một người nhìn thấy nó trên đường phố, và đem trả cho Hess, khi đó Hess lại lưỡng lự không muốn đi nữa. Ông ấy rời Paris để đi nghỉ 10 ngày trên Biển Đỏ của Ai Cập một cách miễn cưỡng\", một người bạn của Hess nói với tờ báo Pháp ngữ địa phương, La Depeche.Ông Ahmed Helal, Giám đốc Công ty Procter và Gamble ở thành phố Amien, Pháp, và một gia đình người Pháp gồm 2 trẻ nhỏ, một người ông 74 tuổi tên là Pierre Heslouin đến từ Nogent-sur-Marne cũng được cho là thiệt mạng trong vụ máy bay mất tích bí ẩn này.Theo The Telegraph, một người Anh có tên là Richard Osman, 40 tuổi, cũng được cho là không còn sống. Ông vừa mới trở thành người cha lần thứ hai với người vợ Pháp Aurelie. Con gái ông là Olympe mới khoảng một tháng tuổi.Theo CNN, một người cha của bốn đứa con, Joao David e Silva, là một trong những người được biết đã có mặt trên chuyến bay đó.Silva đang làm việc cho công ty xây dựng Mota-Engil ở Bồ Đào Nha. Ông ấy được bố trí ở Johannesburg vì công việc của mình mặc dù gia đình ông vẫn sống ở Lisbon, nguồn tin chính phủ Bồ Đào Nha cho biết.AP đưa tin rằng, một học sinh đến từ Chad đang học tại một trường học ở Pháp, cũng là một trong số các hành khách được cho là đã thiệt mạng.Một người khác tên là Abdulmohsen al-Muteiri, người Kuwait, một giáo sư kinh tế, đang trên đường đi dự một hội nghị. Ông cũng đã từng giữ những vị trí cấp cao trong chính phủ Kuwait.Một hành khách khác là một người Ai Cập đang trên đường trở về nhà, sau khi trải qua một đợt điều trị bệnh tại Pháp, theo AP.EgyptAir vẫn chưa công bố tên của những người rất có thể đã chết trên chuyến bay đã được nhìn thấy lần cuối trên Địa Trung Hải.Chuyến bay của EgyptAir mang số hiệu MS804 xuất phát lúc 23h09 đêm 18-5 từ Paris đến Hy Lạp. Thời gian hạ cánh dự kiến vào lúc 3h15 sáng ngày hôm sau, tuy nhiên nó đã biến mất khỏi màn hình rada theo dõi vào khoảng 30 phút trước giờ đó.Theo BBC, một cuộc điều tra quy mô lớn đang được tiến hành sau khi chiếc A320 của hãng hàng không Ai Cập biến mất cùng 69 người trên khoang vào sáng sớm hôm 19-5'\n",
    "content ='TP.HCM đang nỗ lực thay đổi chính mình theo hướng thay đổi đẳng cấp, đua tranh để vươn lên ngang tầm những TP lớn, hiện đại trong khu vực.Sẽ phải có rất nhiều tuyến giải pháp cụ thể ở tầm chiến lược và chiến thuật cho TP.HCM (giải pháp trong từng bước đi và các giải pháp xử lý vấn đề cụ thể hay tình thế).Trong phạm vi bài viết ngắn này, chỉ xin đề xuất một số giải pháp mang tính tổng quát, có ý nghĩa định hướng và gợi ý.1. Đặc biệt đề cao định hướng hiện đại hóa trong mục tiêu phát triển và phải nghiêm khắc, kiên trì tuân thủ định hướng này. Để thực hiện định hướng, cần giải quyết cả ba nhóm vấn đề lớn:* Về dân số - dân cư: phải có giải pháp kinh tế ngăn chặn dòng người ồ ạt di cư vào TP vô điều kiện, đặc biệt là lực lượng lao động trình độ thấp, tránh quá tải dân số và tránh xu hướng “nông thôn hóa”. Dân số gắn với dân cư: phân bố dân cư theo nghề, theo tuyến phát triển, bảo đảm trình độ văn hóa - văn minh tương xứng với mục tiêu phát triển.* Về cơ cấu ngành nghề: chỉ chấp nhận những ngành công nghệ cao hoặc có đẳng cấp nghề nghiệp cao (các ngành dịch vụ). Giới hạn lao động ngành nghề dịch vụ trình độ thấp (vệ sinh, môi trường, cấp thoát nước đô thị), nỗ lực hiện đại hóa các dịch vụ ở mức cao nhất có thể.* Về kết cấu hạ tầng: nếu lấy mức độ tắc nghẽn giao thông làm một thước số đo điển hình trình độ hiện đại hóa của TP thì nhìn từ góc độ hạ tầng, rõ ràng chỉ số đo này tùy thuộc vào: i) quy mô và cơ cấu - trình độ dân số; ii) định hướng quy hoạch không gian TP, quy tụ lại trong quy hoạch giao thông (TP tập trung phát triển trên mặt đất hay phát triển theo cả chiều sâu/phát triển đô thị ngầm); iii) định hướng văn hóa giao thông đô thị: rút ngắn “thời đại văn minh xe máy” để chuyển nhanh qua “nền văn minh ôtô”, hoặc sớm định hướng “giao thông thông minh” - hay tiếp tục duy trì “nền văn minh xe máy” như hiện nay?2. Không gian đô thị của TP.HCM phải là không gian kết nối hạ tầng tối ưu, làm nền tảng và phục vụ một TP thông minh, phát triển bền vững. Tiêu chuẩn nền tảng của “hòn ngọc Viễn Đông” hiện đại là không bị ngập lụt, ít (hoặc không) bị kẹt xe, ít bị tắc nghẽn giao thông. Để giải quyết vấn đề này, trên cơ sở kinh nghiệm đã có, TP cần định hướng phát triển của mình theo ba tuyến:Một là hạn chế mở TP ra hướng đông nam, tiến về phía biển (nguy cơ bịt hết đường thoát nước nội thành, hoặc phải đầu tư cực lớn để giải quyết căn bản vấn đề thoát nước - ngập lụt).Hay ngược lại, nên chọn hướng phát triển chính của TP là tây bắc?Hai là tăng cường “ngầm hóa” đô thị, đặc biệt ở những vùng đô thị mới. Lưu ý rằng không chỉ “ngầm hóa” các công trình giao thông mà còn phải “ngầm hóa” cả không gian đô thị.Ba là tích cực ứng dụng “giao thông thông minh”.3. Xây dựng TP.HCM thành trung tâm giáo dục - đào tạo và nghiên cứu - phát triển đẳng cấp quốc tế và khu vực. Singapore rõ ràng là một hình mẫu thích hợp và có tính thuyết phục cao.4. Định hướng quy hoạch phát triển đô thị vùng TP.HCM theo “chùm” và “chuỗi”, có xu hướng “ly tâm”, thoát khỏi xu hướng “hướng tâm” đang thống trị hiện nay.Hai điều kiện là: các đô thị mới đủ hiện đại, tiện nghi để tạo sức hấp dẫn “ly tâm”; hệ thống giao thông kết nối trung tâm - ngoại vi phải thuận lợi (tiện nghi và thông suốt, bảo đảm tốc độ lưu thông cao).5. Giao thông kết nối tốt các tọa độ kết nối quốc tế (sân bay và cảng trung chuyển quốc tế) với trung tâm TP.6. Xây dựng TP.HCM thành trung tâm “khởi nghiệp”, khuyến khích đầu tư mạo hiểm, coi đây là một giải pháp quan trọng bậc nhất, vừa để thúc đẩy tinh thần sáng tạo kinh doanh vừa tăng cường các phẩm chất nhân văn của người TP.7. Xây dựng thể chế chính quyền đô thị, theo các hình mẫu hiện đại (các nước phát triển), yếu tố cơ bản để có một đô thị thượng tôn pháp luật, công khai minh bạch và bảo đảm dân chủ.8. Tạo lập lực lượng doanh nghiệp mạnh, coi một số tập đoàn doanh nghiệp tư nhân mạnh làm trụ cột, tích cực thu hút đầu tư nước ngoài, trong đó các tập đoàn lớn - nhà đầu tư chiến lược, có khả năng mở rộng kết nối chuỗi toàn cầu - là mục tiêu ưu tiên.Chú trọng lôi kéo, thu hút lực lượng người Việt ở nước ngoài có gốc rễ Sài Gòn, lực lượng Hoa kiều trên địa bàn TP, coi đây là những nhân tố lan tỏa và kết nối đầu tư - thương mại toàn cầu hiệu quả nhất.Rút kinh nghiệm các đô thị trên thế giớiTrong xu hướng tích cực thu hút đầu tư nước ngoài của Việt Nam, TP.HCM với tư cách là trung tâm kinh tế, công nghiệp, trục nan hoa của ASEAN, chắc chắn còn phát triển mạnh mẽ thời gian tới.Trong bối cảnh đó, nhiều vấn đề liên quan đến môi trường sống đang cùng lúc xuất hiện.Tuy nhiên, may mắn là có thể đoán trước các vấn đề nào sẽ phát sinh dễ dàng khi nhìn vào lịch sử phát triển của các đô thị trong quá khứ, đồng thời nếu dành thời gian nhìn vào lịch sử các vấn đề này được giải quyết thì cũng có thể dễ dàng tìm thấy phương pháp giải quyết.Vấn đề của TP.HCM hiện nay là có thể có lựa chọn tốt nhất, đảm bảo kinh phí thực hiện và thực hiện được hay không mà thôi.Ví dụ như tình trạng giao thông đô thị trở nên quá đông đúc. Do dân cư tập trung và xe hơi ngày càng phổ biến dẫn đến tình trạng tắc nghẽn. Cầu vượt ở các điểm giao lộ không phải là giải pháp căn bản.Có nhiều điều có thể học từ những kinh nghiệm của các nước khác, nhưng phải dựa trên hình thái đô thị và tập quán sinh hoạt của người dân...Đầu tiên là hoàn thiện các tuyến xe buýt, đường sắt đô thị, LRT (Light Rail Transit - tàu điện mặt đất) để chuyển từ xe máy, xe hơi sang các phương tiện giao thông công cộng.Thứ hai, giảm lượng giao thông qua trung tâm TP bằng các tuyến đường vành đai để phương tiện giao thông đi vòng qua.Thứ ba, mở rộng chiều ngang của đường và cao tốc hóa để làm tăng dung lượng giao thông cho các tuyến đường chính trong TP.Thứ tư, hoàn thiện đường cho người đi bộ sao cho dễ đi, hạn chế việc đỗ xe ở các điểm đỗ xe, đậu xe, tiến tới cho phép đi bộ đi làm, đi học.Thứ năm, ưu tiên xe đạp và các phương tiện giao thông công cộng vào trong trung tâm TP để bảo vệ môi trường...Ông YASUZUMI HIROTAKA (trưởng đại diện Tổ chức Xúc tiến ngoại thương Nhật Bản tại TP.HCM)'\n",
    "content"
   ]
  },
  {
   "cell_type": "code",
   "execution_count": 356,
   "metadata": {},
   "outputs": [],
   "source": [
    "# Load modul \n",
    "import os\n",
    "from gensim.models import KeyedVectors \n",
    "\n",
    "w2v = KeyedVectors.load_word2vec_format('Word2Vec/vi.vec')"
   ]
  },
  {
   "cell_type": "code",
   "execution_count": 357,
   "metadata": {},
   "outputs": [],
   "source": [
    "from underthesea import sent_tokenize,word_tokenize\n",
    "import string \n",
    "#  convert sentence to vector / Hàm chuyển câu thành vector\n",
    "def sent2vec(s):\n",
    "    words = str(s).lower()\n",
    "    words = word_tokenize(words)\n",
    "    words = [w for w in words if w.isalpha()]\n",
    "    M = []\n",
    "    for w in words:\n",
    "        try:\n",
    "            M.append(w2v[w])\n",
    "        except:\n",
    "            continue\n",
    "    M = np.array(M)\n",
    "    v = M.sum(axis=0)\n",
    "    try:\n",
    "        vec = v / np.sqrt((v ** 2).sum())\n",
    "    except:\n",
    "        pass\n",
    "    return vec\n",
    "\n",
    "#  chuyển văn bản thành từng câu / Convert text to sentences\n",
    "def text2sent(text):\n",
    "    #Loại bỏ các ký tự đặc biệt trừ dấu chấm\n",
    "    text = re.sub(r'[^\\w\\s.]','',text)\n",
    "    print(text)\n",
    "    # tách câu bằng slip\n",
    "    sentences = [[sentences.lower()] for sentences in text.split('.')]\n",
    "    # Xóa các phần tử rỗng\n",
    "    sentences = [x for x in sentences if x != ['']]\n",
    "    # Xóa các phần tử có độ dài nhỏ hơn 3\n",
    "    sentences = [x for x in sentences if len(x[0]) > 3]\n",
    "    # Xóa các phần tử có chứa số\n",
    "    sentences = [x for x in sentences if not any(c.isdigit() for c in x[0])]\n",
    "    # Xóa các phần tử có chứa ký tự đặc biệt\n",
    "    sentences = [x for x in sentences if not any(c in string.punctuation for c in x[0])]\n",
    "    return sentences\n",
    "\n",
    "\n",
    "\n",
    "#  tính độ tương tự giữa 2 câu / Calculate the similarity between 2 sentences\n",
    "def similarity(s1, s2):\n",
    "    return np.dot(s1, s2)\n",
    "\n",
    "#  tính độ tương tự giữa 1 câu với tất cả các câu khác / Calculate the similarity between 1 sentence and all other sentences\n",
    "def sim_matrix(sentences):\n",
    "    n = len(sentences)\n",
    "    A = np.zeros((n, n))\n",
    "    for i in range(n):\n",
    "        for j in range(n):\n",
    "            if i == j:\n",
    "                continue\n",
    "            A[i][j] = similarity(sentences[i], sentences[j])\n",
    "    return A\n"
   ]
  },
  {
   "cell_type": "code",
   "execution_count": 358,
   "metadata": {},
   "outputs": [
    {
     "name": "stdout",
     "output_type": "stream",
     "text": [
      "TP.HCM đang nỗ lực thay đổi chính mình theo hướng thay đổi đẳng cấp đua tranh để vươn lên ngang tầm những TP lớn hiện đại trong khu vực.Sẽ phải có rất nhiều tuyến giải pháp cụ thể ở tầm chiến lược và chiến thuật cho TP.HCM giải pháp trong từng bước đi và các giải pháp xử lý vấn đề cụ thể hay tình thế.Trong phạm vi bài viết ngắn này chỉ xin đề xuất một số giải pháp mang tính tổng quát có ý nghĩa định hướng và gợi ý.1. Đặc biệt đề cao định hướng hiện đại hóa trong mục tiêu phát triển và phải nghiêm khắc kiên trì tuân thủ định hướng này. Để thực hiện định hướng cần giải quyết cả ba nhóm vấn đề lớn Về dân số  dân cư phải có giải pháp kinh tế ngăn chặn dòng người ồ ạt di cư vào TP vô điều kiện đặc biệt là lực lượng lao động trình độ thấp tránh quá tải dân số và tránh xu hướng nông thôn hóa. Dân số gắn với dân cư phân bố dân cư theo nghề theo tuyến phát triển bảo đảm trình độ văn hóa  văn minh tương xứng với mục tiêu phát triển. Về cơ cấu ngành nghề chỉ chấp nhận những ngành công nghệ cao hoặc có đẳng cấp nghề nghiệp cao các ngành dịch vụ. Giới hạn lao động ngành nghề dịch vụ trình độ thấp vệ sinh môi trường cấp thoát nước đô thị nỗ lực hiện đại hóa các dịch vụ ở mức cao nhất có thể. Về kết cấu hạ tầng nếu lấy mức độ tắc nghẽn giao thông làm một thước số đo điển hình trình độ hiện đại hóa của TP thì nhìn từ góc độ hạ tầng rõ ràng chỉ số đo này tùy thuộc vào i quy mô và cơ cấu  trình độ dân số ii định hướng quy hoạch không gian TP quy tụ lại trong quy hoạch giao thông TP tập trung phát triển trên mặt đất hay phát triển theo cả chiều sâuphát triển đô thị ngầm iii định hướng văn hóa giao thông đô thị rút ngắn thời đại văn minh xe máy để chuyển nhanh qua nền văn minh ôtô hoặc sớm định hướng giao thông thông minh  hay tiếp tục duy trì nền văn minh xe máy như hiện nay2. Không gian đô thị của TP.HCM phải là không gian kết nối hạ tầng tối ưu làm nền tảng và phục vụ một TP thông minh phát triển bền vững. Tiêu chuẩn nền tảng của hòn ngọc Viễn Đông hiện đại là không bị ngập lụt ít hoặc không bị kẹt xe ít bị tắc nghẽn giao thông. Để giải quyết vấn đề này trên cơ sở kinh nghiệm đã có TP cần định hướng phát triển của mình theo ba tuyếnMột là hạn chế mở TP ra hướng đông nam tiến về phía biển nguy cơ bịt hết đường thoát nước nội thành hoặc phải đầu tư cực lớn để giải quyết căn bản vấn đề thoát nước  ngập lụt.Hay ngược lại nên chọn hướng phát triển chính của TP là tây bắcHai là tăng cường ngầm hóa đô thị đặc biệt ở những vùng đô thị mới. Lưu ý rằng không chỉ ngầm hóa các công trình giao thông mà còn phải ngầm hóa cả không gian đô thị.Ba là tích cực ứng dụng giao thông thông minh.3. Xây dựng TP.HCM thành trung tâm giáo dục  đào tạo và nghiên cứu  phát triển đẳng cấp quốc tế và khu vực. Singapore rõ ràng là một hình mẫu thích hợp và có tính thuyết phục cao.4. Định hướng quy hoạch phát triển đô thị vùng TP.HCM theo chùm và chuỗi có xu hướng ly tâm thoát khỏi xu hướng hướng tâm đang thống trị hiện nay.Hai điều kiện là các đô thị mới đủ hiện đại tiện nghi để tạo sức hấp dẫn ly tâm hệ thống giao thông kết nối trung tâm  ngoại vi phải thuận lợi tiện nghi và thông suốt bảo đảm tốc độ lưu thông cao.5. Giao thông kết nối tốt các tọa độ kết nối quốc tế sân bay và cảng trung chuyển quốc tế với trung tâm TP.6. Xây dựng TP.HCM thành trung tâm khởi nghiệp khuyến khích đầu tư mạo hiểm coi đây là một giải pháp quan trọng bậc nhất vừa để thúc đẩy tinh thần sáng tạo kinh doanh vừa tăng cường các phẩm chất nhân văn của người TP.7. Xây dựng thể chế chính quyền đô thị theo các hình mẫu hiện đại các nước phát triển yếu tố cơ bản để có một đô thị thượng tôn pháp luật công khai minh bạch và bảo đảm dân chủ.8. Tạo lập lực lượng doanh nghiệp mạnh coi một số tập đoàn doanh nghiệp tư nhân mạnh làm trụ cột tích cực thu hút đầu tư nước ngoài trong đó các tập đoàn lớn  nhà đầu tư chiến lược có khả năng mở rộng kết nối chuỗi toàn cầu  là mục tiêu ưu tiên.Chú trọng lôi kéo thu hút lực lượng người Việt ở nước ngoài có gốc rễ Sài Gòn lực lượng Hoa kiều trên địa bàn TP coi đây là những nhân tố lan tỏa và kết nối đầu tư  thương mại toàn cầu hiệu quả nhất.Rút kinh nghiệm các đô thị trên thế giớiTrong xu hướng tích cực thu hút đầu tư nước ngoài của Việt Nam TP.HCM với tư cách là trung tâm kinh tế công nghiệp trục nan hoa của ASEAN chắc chắn còn phát triển mạnh mẽ thời gian tới.Trong bối cảnh đó nhiều vấn đề liên quan đến môi trường sống đang cùng lúc xuất hiện.Tuy nhiên may mắn là có thể đoán trước các vấn đề nào sẽ phát sinh dễ dàng khi nhìn vào lịch sử phát triển của các đô thị trong quá khứ đồng thời nếu dành thời gian nhìn vào lịch sử các vấn đề này được giải quyết thì cũng có thể dễ dàng tìm thấy phương pháp giải quyết.Vấn đề của TP.HCM hiện nay là có thể có lựa chọn tốt nhất đảm bảo kinh phí thực hiện và thực hiện được hay không mà thôi.Ví dụ như tình trạng giao thông đô thị trở nên quá đông đúc. Do dân cư tập trung và xe hơi ngày càng phổ biến dẫn đến tình trạng tắc nghẽn. Cầu vượt ở các điểm giao lộ không phải là giải pháp căn bản.Có nhiều điều có thể học từ những kinh nghiệm của các nước khác nhưng phải dựa trên hình thái đô thị và tập quán sinh hoạt của người dân...Đầu tiên là hoàn thiện các tuyến xe buýt đường sắt đô thị LRT Light Rail Transit  tàu điện mặt đất để chuyển từ xe máy xe hơi sang các phương tiện giao thông công cộng.Thứ hai giảm lượng giao thông qua trung tâm TP bằng các tuyến đường vành đai để phương tiện giao thông đi vòng qua.Thứ ba mở rộng chiều ngang của đường và cao tốc hóa để làm tăng dung lượng giao thông cho các tuyến đường chính trong TP.Thứ tư hoàn thiện đường cho người đi bộ sao cho dễ đi hạn chế việc đỗ xe ở các điểm đỗ xe đậu xe tiến tới cho phép đi bộ đi làm đi học.Thứ năm ưu tiên xe đạp và các phương tiện giao thông công cộng vào trong trung tâm TP để bảo vệ môi trường...Ông YASUZUMI HIROTAKA trưởng đại diện Tổ chức Xúc tiến ngoại thương Nhật Bản tại TP.HCM\n"
     ]
    },
    {
     "data": {
      "text/plain": [
       "[['hcm đang nỗ lực thay đổi chính mình theo hướng thay đổi đẳng cấp đua tranh để vươn lên ngang tầm những tp lớn hiện đại trong khu vực'],\n",
       " ['sẽ phải có rất nhiều tuyến giải pháp cụ thể ở tầm chiến lược và chiến thuật cho tp'],\n",
       " ['hcm giải pháp trong từng bước đi và các giải pháp xử lý vấn đề cụ thể hay tình thế'],\n",
       " ['trong phạm vi bài viết ngắn này chỉ xin đề xuất một số giải pháp mang tính tổng quát có ý nghĩa định hướng và gợi ý'],\n",
       " [' đặc biệt đề cao định hướng hiện đại hóa trong mục tiêu phát triển và phải nghiêm khắc kiên trì tuân thủ định hướng này'],\n",
       " [' để thực hiện định hướng cần giải quyết cả ba nhóm vấn đề lớn về dân số  dân cư phải có giải pháp kinh tế ngăn chặn dòng người ồ ạt di cư vào tp vô điều kiện đặc biệt là lực lượng lao động trình độ thấp tránh quá tải dân số và tránh xu hướng nông thôn hóa'],\n",
       " [' dân số gắn với dân cư phân bố dân cư theo nghề theo tuyến phát triển bảo đảm trình độ văn hóa  văn minh tương xứng với mục tiêu phát triển'],\n",
       " [' về cơ cấu ngành nghề chỉ chấp nhận những ngành công nghệ cao hoặc có đẳng cấp nghề nghiệp cao các ngành dịch vụ'],\n",
       " [' giới hạn lao động ngành nghề dịch vụ trình độ thấp vệ sinh môi trường cấp thoát nước đô thị nỗ lực hiện đại hóa các dịch vụ ở mức cao nhất có thể'],\n",
       " [' không gian đô thị của tp'],\n",
       " ['hcm phải là không gian kết nối hạ tầng tối ưu làm nền tảng và phục vụ một tp thông minh phát triển bền vững'],\n",
       " [' tiêu chuẩn nền tảng của hòn ngọc viễn đông hiện đại là không bị ngập lụt ít hoặc không bị kẹt xe ít bị tắc nghẽn giao thông'],\n",
       " [' để giải quyết vấn đề này trên cơ sở kinh nghiệm đã có tp cần định hướng phát triển của mình theo ba tuyếnmột là hạn chế mở tp ra hướng đông nam tiến về phía biển nguy cơ bịt hết đường thoát nước nội thành hoặc phải đầu tư cực lớn để giải quyết căn bản vấn đề thoát nước  ngập lụt'],\n",
       " ['hay ngược lại nên chọn hướng phát triển chính của tp là tây bắchai là tăng cường ngầm hóa đô thị đặc biệt ở những vùng đô thị mới'],\n",
       " [' lưu ý rằng không chỉ ngầm hóa các công trình giao thông mà còn phải ngầm hóa cả không gian đô thị'],\n",
       " ['ba là tích cực ứng dụng giao thông thông minh'],\n",
       " [' xây dựng tp'],\n",
       " ['hcm thành trung tâm giáo dục  đào tạo và nghiên cứu  phát triển đẳng cấp quốc tế và khu vực'],\n",
       " [' singapore rõ ràng là một hình mẫu thích hợp và có tính thuyết phục cao'],\n",
       " [' định hướng quy hoạch phát triển đô thị vùng tp'],\n",
       " ['hcm theo chùm và chuỗi có xu hướng ly tâm thoát khỏi xu hướng hướng tâm đang thống trị hiện nay'],\n",
       " ['hai điều kiện là các đô thị mới đủ hiện đại tiện nghi để tạo sức hấp dẫn ly tâm hệ thống giao thông kết nối trung tâm  ngoại vi phải thuận lợi tiện nghi và thông suốt bảo đảm tốc độ lưu thông cao'],\n",
       " [' giao thông kết nối tốt các tọa độ kết nối quốc tế sân bay và cảng trung chuyển quốc tế với trung tâm tp'],\n",
       " [' xây dựng tp'],\n",
       " ['hcm thành trung tâm khởi nghiệp khuyến khích đầu tư mạo hiểm coi đây là một giải pháp quan trọng bậc nhất vừa để thúc đẩy tinh thần sáng tạo kinh doanh vừa tăng cường các phẩm chất nhân văn của người tp'],\n",
       " [' xây dựng thể chế chính quyền đô thị theo các hình mẫu hiện đại các nước phát triển yếu tố cơ bản để có một đô thị thượng tôn pháp luật công khai minh bạch và bảo đảm dân chủ'],\n",
       " [' tạo lập lực lượng doanh nghiệp mạnh coi một số tập đoàn doanh nghiệp tư nhân mạnh làm trụ cột tích cực thu hút đầu tư nước ngoài trong đó các tập đoàn lớn  nhà đầu tư chiến lược có khả năng mở rộng kết nối chuỗi toàn cầu  là mục tiêu ưu tiên'],\n",
       " ['chú trọng lôi kéo thu hút lực lượng người việt ở nước ngoài có gốc rễ sài gòn lực lượng hoa kiều trên địa bàn tp coi đây là những nhân tố lan tỏa và kết nối đầu tư  thương mại toàn cầu hiệu quả nhất'],\n",
       " ['rút kinh nghiệm các đô thị trên thế giớitrong xu hướng tích cực thu hút đầu tư nước ngoài của việt nam tp'],\n",
       " ['hcm với tư cách là trung tâm kinh tế công nghiệp trục nan hoa của asean chắc chắn còn phát triển mạnh mẽ thời gian tới'],\n",
       " ['trong bối cảnh đó nhiều vấn đề liên quan đến môi trường sống đang cùng lúc xuất hiện'],\n",
       " ['tuy nhiên may mắn là có thể đoán trước các vấn đề nào sẽ phát sinh dễ dàng khi nhìn vào lịch sử phát triển của các đô thị trong quá khứ đồng thời nếu dành thời gian nhìn vào lịch sử các vấn đề này được giải quyết thì cũng có thể dễ dàng tìm thấy phương pháp giải quyết'],\n",
       " ['vấn đề của tp'],\n",
       " ['hcm hiện nay là có thể có lựa chọn tốt nhất đảm bảo kinh phí thực hiện và thực hiện được hay không mà thôi'],\n",
       " ['ví dụ như tình trạng giao thông đô thị trở nên quá đông đúc'],\n",
       " [' do dân cư tập trung và xe hơi ngày càng phổ biến dẫn đến tình trạng tắc nghẽn'],\n",
       " [' cầu vượt ở các điểm giao lộ không phải là giải pháp căn bản'],\n",
       " ['có nhiều điều có thể học từ những kinh nghiệm của các nước khác nhưng phải dựa trên hình thái đô thị và tập quán sinh hoạt của người dân'],\n",
       " ['đầu tiên là hoàn thiện các tuyến xe buýt đường sắt đô thị lrt light rail transit  tàu điện mặt đất để chuyển từ xe máy xe hơi sang các phương tiện giao thông công cộng'],\n",
       " ['thứ hai giảm lượng giao thông qua trung tâm tp bằng các tuyến đường vành đai để phương tiện giao thông đi vòng qua'],\n",
       " ['thứ ba mở rộng chiều ngang của đường và cao tốc hóa để làm tăng dung lượng giao thông cho các tuyến đường chính trong tp'],\n",
       " ['thứ tư hoàn thiện đường cho người đi bộ sao cho dễ đi hạn chế việc đỗ xe ở các điểm đỗ xe đậu xe tiến tới cho phép đi bộ đi làm đi học'],\n",
       " ['thứ năm ưu tiên xe đạp và các phương tiện giao thông công cộng vào trong trung tâm tp để bảo vệ môi trường'],\n",
       " ['ông yasuzumi hirotaka trưởng đại diện tổ chức xúc tiến ngoại thương nhật bản tại tp']]"
      ]
     },
     "execution_count": 358,
     "metadata": {},
     "output_type": "execute_result"
    }
   ],
   "source": [
    "#  chuyển văn bản thành từng câu / Convert text to sentences\n",
    "sentences = text2sent(content)\n",
    "sentences"
   ]
  },
  {
   "cell_type": "code",
   "execution_count": 359,
   "metadata": {},
   "outputs": [],
   "source": [
    "#  Chuyển câu thành vector / Convert sentences to vector\n",
    "sentences_vec = [sent2vec(i) for i in sentences]\n",
    "# xóa các giá trị nan / Remove all nan values\n",
    "\n",
    "sentences_vec = [i for i in sentences_vec if str(i) != 'nan']\n",
    "# xóa các arraar rỗng / Remove all empty arrays\n",
    "sentences_vec = [i for i in sentences_vec if i.size != 0]\n"
   ]
  },
  {
   "cell_type": "markdown",
   "metadata": {},
   "source": [
    "# Tóm tắt văn bản thông thường theo cách tính trọng số"
   ]
  },
  {
   "cell_type": "code",
   "execution_count": 360,
   "metadata": {},
   "outputs": [],
   "source": [
    "#  Tính ma trận độ tương tự / Calculate similarity matrix\n",
    "A = sim_matrix(sentences_vec)\n",
    "\n",
    "#  Tính độ tương tự trung bình của câu / Calculate the average similarity of the sentence\n",
    "avg = A.sum(axis=1) / (A.shape[0] - 1)\n"
   ]
  },
  {
   "cell_type": "code",
   "execution_count": 361,
   "metadata": {},
   "outputs": [],
   "source": [
    "#  Xây dựng trọng số cho từng câu / Build weight for each sentence\n",
    "weighted_avg = ((avg - avg.min()) / (avg.max() - avg.min()))\n",
    "#  Tính điểm cho từng câu / Calculate the score for each sentence\n",
    "score = (A.dot(weighted_avg)) / weighted_avg.sum()\n",
    "#  Sắp xếp câu theo thứ tự giảm dần / Sort sentences in descending order\n",
    "ranked_sentences = sorted(((score[i],s) for i,s in enumerate(sentences_vec)), key=lambda x: x[0], reverse=True)\n",
    "# a = []\n",
    "# for i , s in enumerate(sentences_vec):\n",
    "#     a.append([score[i],s])\n",
    "# ranked_sentences = sorted(a, key=lambda x: x[0], reverse=True)\n",
    "    "
   ]
  },
  {
   "cell_type": "code",
   "execution_count": 362,
   "metadata": {},
   "outputs": [
    {
     "name": "stdout",
     "output_type": "stream",
     "text": [
      "[ 0.06556024  0.12156218 -0.00653097  0.03626221  0.05556455 -0.0400275\n",
      " -0.14517756  0.01826271 -0.13597588  0.11994341  0.01105071  0.09059454\n",
      " -0.02006015 -0.06464273 -0.05573252 -0.02783555 -0.05152947 -0.14442955\n",
      "  0.12121829 -0.03785096 -0.05632067  0.148281   -0.14205131 -0.01698144\n",
      " -0.06920788  0.09162109  0.05158269 -0.13892771  0.05127351  0.07779705\n",
      " -0.13388447  0.01678453  0.02306749 -0.0229928   0.05835264 -0.14707287\n",
      "  0.01112353  0.00412102  0.01044696 -0.02079663  0.03893433 -0.03569328\n",
      " -0.05500388 -0.05531414 -0.02549758 -0.24915269  0.04784602 -0.2293797\n",
      " -0.06074376 -0.0672407   0.0681596  -0.0509364   0.07676633 -0.12530887\n",
      "  0.04580811 -0.15019406  0.03760713  0.0656114  -0.04207926 -0.18850902\n",
      " -0.02753893  0.16307838 -0.02620249  0.06447899 -0.01882613  0.14638177\n",
      " -0.22034131  0.17908093  0.00462491  0.04176933  0.02455656 -0.19416888\n",
      " -0.06578032  0.16892754  0.04939637 -0.12543459 -0.09588276  0.0989211\n",
      "  0.0566408   0.13214837  0.19389862 -0.02976279 -0.03477396 -0.01876037\n",
      " -0.10611221 -0.06540085 -0.00489242 -0.06532066 -0.00825699 -0.16741705\n",
      "  0.12742186  0.07604796  0.12158735 -0.04089161  0.03785954  0.21009743\n",
      " -0.0767767  -0.01576482 -0.14321786 -0.18561831]\n",
      "[-0.01777006  0.03169139 -0.10471676  0.06176822  0.00244796 -0.10896532\n",
      " -0.06464638 -0.03928297 -0.06679786  0.16883744 -0.1273513   0.07383163\n",
      " -0.02895561 -0.10788345 -0.13178134 -0.0905481  -0.05561427 -0.12364963\n",
      "  0.12914887 -0.12460659  0.03961928  0.12048014 -0.10759488 -0.01632755\n",
      " -0.07861938  0.10193864  0.00972345 -0.00203525  0.06487304  0.04929107\n",
      " -0.07270095 -0.01812589  0.01447012 -0.07630499  0.07807285 -0.06031425\n",
      " -0.02109224  0.01204987 -0.08525167 -0.01798457  0.13953769 -0.02075745\n",
      " -0.07331749 -0.07170161 -0.07236636 -0.23968151  0.20199002 -0.2067452\n",
      " -0.06346938 -0.03616685 -0.01753416 -0.13264406  0.09858479 -0.15228365\n",
      " -0.02819653 -0.14670709  0.01221287  0.04494109  0.00403925 -0.18680798\n",
      "  0.04048784  0.17618409 -0.01000565  0.03865872 -0.00842481  0.13446073\n",
      " -0.1324271   0.1963377  -0.01765076  0.01415259  0.04936707 -0.15911432\n",
      " -0.0938125   0.09400557  0.07076824 -0.12809601  0.05916649  0.03897341\n",
      "  0.12753747  0.13376452  0.16379426 -0.02437274 -0.06406331  0.04168306\n",
      " -0.03740705 -0.030857   -0.04340227 -0.03017502  0.02307458 -0.19734538\n",
      "  0.10769144  0.06043321  0.12909056 -0.10719661  0.08937363  0.2550296\n",
      "  0.02245422 -0.06313137 -0.07783168 -0.17366317]\n",
      "[ 1.26527302e-04  6.71870261e-02 -2.69712489e-02  5.90484478e-02\n",
      " -5.83101111e-03 -1.10050343e-01 -6.70506656e-02  7.12565929e-02\n",
      "  1.44204395e-02  2.18790308e-01 -1.58938512e-01  4.00245972e-02\n",
      "  6.32241415e-03 -4.73685712e-02 -7.78136775e-02 -1.00551290e-03\n",
      " -3.58452238e-02 -1.08690143e-01  1.42010659e-01 -1.00983851e-01\n",
      "  9.92734730e-02  1.35191575e-01 -7.25614801e-02 -1.43872993e-02\n",
      " -1.05310954e-01  3.73575836e-02  8.58524665e-02 -1.96769135e-03\n",
      "  2.18737572e-02  7.68612176e-02 -8.01107213e-02  3.62672545e-02\n",
      "  4.19315062e-02 -4.42809165e-02  1.30346105e-01 -1.25475228e-01\n",
      " -7.70359114e-02  2.08133347e-02 -3.91924642e-02 -3.79052125e-02\n",
      "  1.11338973e-01  2.62442068e-03 -1.83226187e-02 -3.91376540e-02\n",
      " -6.35086447e-02 -1.87924504e-01  1.56072661e-01 -1.82396591e-01\n",
      " -5.30029833e-02 -5.51404525e-03 -4.60846582e-03 -9.15888920e-02\n",
      "  1.30758494e-01 -9.43077579e-02  9.30186212e-02 -1.99679643e-01\n",
      "  7.38135353e-02  5.87243512e-02  5.09462692e-02 -1.84657604e-01\n",
      "  6.33378467e-03  1.67077959e-01 -3.47613059e-02 -3.21040377e-02\n",
      " -7.25038126e-02  1.15053646e-01 -1.02997988e-01  2.02126741e-01\n",
      " -4.02164785e-03  3.65779884e-02  2.24065352e-02 -1.71364367e-01\n",
      " -1.30099148e-01  1.48196340e-01  1.12427868e-01 -1.28332913e-01\n",
      "  8.48581791e-02  9.75146219e-02  8.36763009e-02  1.41185522e-01\n",
      "  1.57007739e-01 -2.67510042e-02 -4.02873494e-02  1.02751046e-01\n",
      " -1.01236887e-01 -3.51668596e-02  1.09235914e-02  3.24316509e-02\n",
      " -6.55562580e-02 -1.29184097e-01  1.68134660e-01  3.37450318e-02\n",
      "  1.45866215e-01 -1.37903616e-01  7.28345439e-02  1.94080532e-01\n",
      " -8.37756768e-02  6.03790320e-02 -6.25527054e-02 -2.13002861e-01]\n",
      "[-0.0294219   0.08879575 -0.09498324  0.00876226  0.01515462 -0.06642974\n",
      " -0.10721108  0.00772312 -0.06765495  0.11383476 -0.02487497  0.1488709\n",
      "  0.03912283 -0.03686181 -0.04151944 -0.02769722 -0.02186909 -0.06307085\n",
      "  0.1566855  -0.08678072  0.01710876  0.10806859 -0.0936176  -0.0615176\n",
      " -0.05479355  0.14802112  0.1775705  -0.0303148   0.05790498  0.06520892\n",
      " -0.06792599  0.08142831 -0.09388059 -0.06662676  0.09573559 -0.1278303\n",
      " -0.02881648 -0.04508724 -0.05163343 -0.02864123  0.06932545  0.00618787\n",
      " -0.04561153 -0.03479733 -0.01645576 -0.19825034  0.11709376 -0.18663082\n",
      " -0.05525871 -0.05516712 -0.0095194  -0.05452174  0.05365058 -0.18779716\n",
      "  0.09358628 -0.20344147  0.03214145 -0.01788026 -0.01563686 -0.17815723\n",
      " -0.02290108  0.17949592  0.02826689 -0.07799773 -0.08333613  0.04049812\n",
      " -0.15225768  0.14251919  0.01482538  0.03057405  0.06548288 -0.15525149\n",
      " -0.04348682  0.16295311  0.13133712 -0.17252524  0.0082893   0.07837472\n",
      "  0.09671724  0.13044383  0.18332274 -0.05080203  0.00429276  0.09975354\n",
      " -0.09321275  0.03301123  0.0265728  -0.01419187  0.05812714 -0.2110754\n",
      "  0.2038976   0.02969586  0.12446285 -0.04178703  0.09191381  0.23324715\n",
      "  0.06767327 -0.03775204 -0.11292787 -0.1883295 ]\n",
      "[ 3.24388780e-02  1.19047761e-01 -8.53843093e-02  3.29739135e-03\n",
      " -4.50269505e-02 -1.12859435e-01 -7.34424740e-02 -8.39960277e-02\n",
      " -3.81208919e-02  2.17695996e-01 -5.66590652e-02  1.04095228e-01\n",
      " -6.73375279e-02 -1.59224868e-01 -1.96351573e-01 -6.92750067e-02\n",
      " -6.70735538e-02 -1.30628303e-01  1.00372963e-01 -1.18233219e-01\n",
      " -9.98130366e-02  1.00436337e-01 -7.46900812e-02 -3.10559236e-02\n",
      " -9.88641158e-02  4.88443375e-02  8.58907104e-02 -1.76365953e-02\n",
      "  3.86662334e-02  4.97493781e-02 -1.01999298e-01  5.40445410e-02\n",
      " -2.72937734e-02 -6.54797703e-02  5.39619997e-02 -8.41354132e-02\n",
      " -4.45425464e-03 -2.10707262e-02 -7.78600276e-02  1.92027520e-02\n",
      "  4.09613550e-02  1.26594350e-01 -9.72146094e-02 -1.14820361e-01\n",
      " -1.09525219e-01 -1.96600690e-01  1.31163329e-01 -2.09047556e-01\n",
      " -7.20089972e-02  1.41214216e-02 -8.93737748e-03 -2.42723934e-02\n",
      "  5.30903153e-02 -7.45515004e-02  4.62975577e-02 -1.62216187e-01\n",
      "  5.36270849e-02  1.18928394e-04  2.33409349e-02 -2.20814541e-01\n",
      "  9.25499387e-03  1.06938571e-01 -7.10173044e-03  3.95032279e-02\n",
      " -5.87018356e-02  7.92071894e-02 -1.84955001e-01  1.74079537e-01\n",
      " -5.22036739e-02  9.46365148e-02  1.37793431e-02 -1.45785913e-01\n",
      " -7.17599466e-02  5.77366091e-02  6.64252490e-02 -7.16701895e-02\n",
      "  2.31410246e-02  1.11173108e-01  7.51612782e-02  6.80500790e-02\n",
      "  1.47346675e-01 -8.94395355e-03 -5.98752014e-02  1.61747783e-02\n",
      "  1.38754221e-02 -1.23768589e-02  2.26621125e-02 -4.92780581e-02\n",
      " -6.64270222e-02 -1.79190785e-01  1.45781174e-01  8.91766772e-02\n",
      "  1.48029834e-01 -6.65211231e-02  7.02978596e-02  2.98972100e-01\n",
      " -7.22938180e-02 -9.17438418e-02  4.27899789e-03 -2.12667868e-01]\n",
      "[ 0.00093611  0.11292114  0.06800567  0.06528991  0.06289692 -0.04013036\n",
      " -0.10197444  0.05810637 -0.04912193  0.18694292 -0.09165602  0.01754836\n",
      "  0.03017623 -0.06561691 -0.08304124 -0.0347409  -0.01678013 -0.09556084\n",
      "  0.13670173 -0.09203115  0.0301054   0.10215984 -0.07081216 -0.03454545\n",
      " -0.06098435  0.10546532  0.12033194 -0.12263029 -0.00400593  0.05988184\n",
      " -0.09270427  0.057153   -0.03530383 -0.02346968  0.09264871 -0.06870022\n",
      " -0.04621406 -0.01522919  0.05593314 -0.00489028  0.08421888 -0.00166555\n",
      " -0.06528064  0.0108589  -0.02096201 -0.22280978  0.1002835  -0.17982672\n",
      " -0.05965466 -0.00442506  0.0301549  -0.03010862  0.06019494 -0.05155155\n",
      "  0.01955345 -0.18065903  0.11218271  0.1648741   0.06170506 -0.2353209\n",
      "  0.00855289  0.13005845 -0.08076455 -0.05384328 -0.00903337  0.11213812\n",
      " -0.07848608  0.19092555  0.0285942   0.06576516  0.07207596 -0.11475509\n",
      " -0.03954849  0.08019914  0.19523178 -0.06826182 -0.05582437  0.09006398\n",
      "  0.12629211  0.12514935  0.18617931 -0.0007062  -0.01143387  0.08281669\n",
      " -0.08544188  0.06777956  0.10677799 -0.00110394  0.08042192 -0.22341143\n",
      "  0.19855925  0.05786872  0.12178198 -0.09206057  0.02425734  0.21921507\n",
      " -0.00150489  0.07243033 -0.14905657 -0.23483698]\n",
      "[ 0.00231263  0.10336466 -0.02827565  0.04241731 -0.00831783 -0.02517448\n",
      " -0.02966973  0.07171453  0.00935182  0.1469722  -0.08809824  0.02670627\n",
      "  0.01857331 -0.07320316 -0.05269449 -0.11011239 -0.06153754 -0.141408\n",
      "  0.13812184 -0.07049035 -0.01967142  0.17960705 -0.03658068 -0.02374646\n",
      " -0.01441616  0.04210512  0.10976224 -0.0474597   0.05643209  0.09467149\n",
      " -0.14132226  0.05510484 -0.06532123 -0.06254686  0.12821944 -0.07532017\n",
      " -0.02450398  0.01633137 -0.05921179  0.0090648   0.09772711 -0.02248984\n",
      " -0.00980491 -0.02206131 -0.113377   -0.18930472  0.1040458  -0.1921492\n",
      " -0.01013348 -0.02488494  0.08753461 -0.07484914  0.11526621 -0.01437491\n",
      "  0.02005969 -0.12420271 -0.0204787   0.01634681  0.02412317 -0.0955795\n",
      "  0.01049713  0.18687052 -0.00787005  0.06686666 -0.03758224  0.2220795\n",
      " -0.17431943  0.21127108  0.00997496  0.03337379  0.00435527 -0.17983846\n",
      " -0.04767467  0.13452177  0.03918419 -0.18995613 -0.04815558  0.07325263\n",
      "  0.08616374  0.24374323  0.16482253 -0.02836657 -0.01347515  0.00778462\n",
      "  0.01068617 -0.10458875  0.01444466  0.01510379  0.03024644 -0.14036562\n",
      "  0.15527274  0.076142    0.2104994  -0.02838443  0.04829533  0.21747668\n",
      " -0.09615294  0.0170233  -0.1149899  -0.24644887]\n",
      "[ 0.07435408  0.08111107 -0.03429798 -0.00802784  0.01899686  0.00557663\n",
      " -0.05894356 -0.04678521 -0.11669632  0.12148564 -0.0283066   0.17525913\n",
      "  0.03700846 -0.11974608 -0.032942   -0.02759324 -0.04793466 -0.15697142\n",
      "  0.11090595 -0.087356   -0.0718217   0.09419689 -0.15098685 -0.01796923\n",
      " -0.09781308  0.03411115  0.03286915 -0.04904133  0.10279298  0.06156524\n",
      " -0.0186474   0.00722385  0.01032746 -0.0973404   0.1076026  -0.13761696\n",
      "  0.03610926  0.00490677 -0.03195861 -0.09358581  0.00900892  0.05918006\n",
      " -0.16912821 -0.01428414 -0.02527064 -0.21860418  0.10758336 -0.2721833\n",
      " -0.06617728 -0.06139541 -0.03301838 -0.09572206 -0.00418283 -0.11050026\n",
      " -0.00383676 -0.16105022  0.02558333 -0.10002828  0.07453626 -0.17341189\n",
      " -0.01180491  0.14915055  0.00184354  0.05490456 -0.04828839  0.00866961\n",
      " -0.23452471  0.20938958  0.01244589  0.00931936 -0.02783105 -0.21994364\n",
      " -0.10524511  0.11977225  0.03991626 -0.18133561 -0.04776129  0.11359124\n",
      "  0.09760497  0.09383631  0.17410287 -0.01693492 -0.05378938 -0.01314271\n",
      " -0.08471993  0.02158973 -0.01689146 -0.03244038  0.05734284 -0.1704457\n",
      "  0.15734057  0.05007897  0.13775797 -0.04095047  0.07114126  0.19113772\n",
      " -0.00860307 -0.05246757 -0.0953692  -0.15401483]\n",
      "[-0.01344502  0.11832554 -0.07235683  0.09784085  0.01192439 -0.05927113\n",
      " -0.08417919  0.07878457 -0.09340763  0.15470465 -0.07197418  0.07646271\n",
      " -0.037103   -0.11665265 -0.02595282  0.00857336 -0.01385912 -0.17847306\n",
      "  0.14720765 -0.07212187  0.0854542   0.17627111 -0.09068012 -0.07362409\n",
      " -0.06402265  0.07020124  0.08678278 -0.02101076  0.06319815  0.02753384\n",
      " -0.12913169  0.05507428 -0.07976446  0.00761913  0.08287942 -0.17527369\n",
      " -0.08306306  0.02878707 -0.02621509 -0.00535324  0.03825894 -0.02788872\n",
      " -0.0385384  -0.04236399 -0.03396977 -0.20386463  0.06323455 -0.17706747\n",
      " -0.0302913  -0.01534464  0.02510037 -0.1926514   0.13095914 -0.05825213\n",
      "  0.13786122 -0.16895406  0.09055451  0.04968401  0.03831735 -0.21106061\n",
      "  0.00896731  0.11005463 -0.02891834  0.04608699 -0.09152142  0.06801475\n",
      " -0.08031021  0.22691832  0.05369454  0.00412954  0.06453146 -0.15977205\n",
      " -0.02767617  0.15043043  0.11671636 -0.13064064 -0.02308737  0.1005723\n",
      "  0.08770355  0.13982555  0.14789848 -0.0402935   0.0054615   0.09990729\n",
      " -0.08067074 -0.09729633  0.02607199  0.01034719  0.00657165 -0.24354173\n",
      "  0.17317542  0.04964311  0.16053118 -0.11929332 -0.01614316  0.037926\n",
      "  0.00136476  0.0319927  -0.15424316 -0.15255374]\n",
      "[-0.04024749  0.11747915  0.01996194  0.04739739  0.0157087  -0.1322463\n",
      " -0.10320207 -0.00488297 -0.03931727  0.24975477 -0.1106926   0.00784907\n",
      " -0.08369745 -0.1598152  -0.12353709 -0.0841549  -0.07252785 -0.07278439\n",
      "  0.17376588 -0.10762952 -0.10926302  0.04117703 -0.07156351  0.05829404\n",
      " -0.09130592  0.09627765  0.05801881 -0.10210783 -0.04455159  0.07954912\n",
      " -0.02679964  0.02673991  0.00575455 -0.07070746  0.07222439 -0.10175959\n",
      " -0.06622878  0.01637267 -0.06461212  0.03797254  0.08559818  0.00542663\n",
      " -0.03050441 -0.12006826 -0.10600057 -0.23858729  0.17240621 -0.15156005\n",
      " -0.10473835  0.03744777  0.09031357 -0.03816833  0.06824409  0.05418563\n",
      "  0.00886666 -0.16016465  0.07500724  0.03959817 -0.01258634 -0.17086188\n",
      "  0.02440176  0.14457421 -0.00387665  0.04702805 -0.05297674  0.11400787\n",
      " -0.1566631   0.22087932 -0.01243469  0.05428676 -0.0297372  -0.11056186\n",
      " -0.08954674  0.09035876  0.12617534 -0.13520288  0.02439133  0.06822784\n",
      "  0.03323402  0.11587987  0.13311338 -0.03202924 -0.07718419  0.05319894\n",
      " -0.00665871 -0.00643405  0.0085785  -0.02951924 -0.01103312 -0.09807098\n",
      "  0.10742994  0.04747099  0.20500071 -0.17269278  0.07524247  0.290447\n",
      " -0.06478234 -0.04041076 -0.05862132 -0.1341795 ]\n",
      "[ 0.02730553  0.17287762 -0.08984999 -0.021768    0.03418753 -0.05447114\n",
      " -0.05846491  0.09248356 -0.03084639  0.06888606  0.01357318  0.10673179\n",
      "  0.04496261 -0.05732802 -0.05519002 -0.06973539 -0.08897987 -0.16262966\n",
      "  0.16163875 -0.1080971  -0.10063171  0.08125521 -0.0513681  -0.08029887\n",
      " -0.04695076  0.09077694  0.08811614 -0.03696862  0.06314438  0.08479927\n",
      " -0.17154768  0.06265815 -0.03535798 -0.0661227   0.09012803 -0.12352352\n",
      "  0.0215678   0.04277345 -0.0319233   0.02118456 -0.00318194 -0.01610298\n",
      " -0.08306126 -0.0861453  -0.06971044 -0.18401177  0.05629646 -0.21276744\n",
      " -0.01522879 -0.0498716   0.00815926 -0.08447046  0.04164203 -0.13019232\n",
      "  0.00685326 -0.188086   -0.00710175 -0.02320232 -0.0424898  -0.1516675\n",
      " -0.01701202  0.12247098 -0.05532548  0.12828615 -0.04156965  0.09505805\n",
      " -0.22785236  0.16363584 -0.02450933  0.00956178  0.02034522 -0.1527216\n",
      "  0.012214    0.037137   -0.00332446 -0.09071948 -0.07092182  0.18185823\n",
      " -0.00209467  0.1974618   0.17253011 -0.02515078 -0.09314064 -0.05179799\n",
      " -0.02629491 -0.11298104  0.01562467 -0.01229778 -0.00797734 -0.19528109\n",
      "  0.16152173  0.03537486  0.19726127 -0.04051513  0.07992473  0.24249282\n",
      " -0.07715774  0.00189292 -0.12635556 -0.20929605]\n"
     ]
    }
   ],
   "source": [
    "#  In ra 5 câu có điểm cao nhất / Print the top 5 sentences\n",
    "# for i in range(2):\n",
    "#     print(ranked_sentences[i][1])\n",
    "# In ra các câucos trọng số lớn hơn 1.05 lần trọng số trung bình / Print sentences with weight greater than 1.2 times the average weight\n",
    "for i in range(len(ranked_sentences)):\n",
    "    if ranked_sentences[i][0] > 1.05 * weighted_avg.mean():\n",
    "        print(ranked_sentences[i][1])\n"
   ]
  },
  {
   "cell_type": "code",
   "execution_count": 363,
   "metadata": {},
   "outputs": [
    {
     "name": "stdout",
     "output_type": "stream",
     "text": [
      "hcm thành trung tâm khởi nghiệp khuyến khích đầu tư mạo hiểm coi đây là một giải pháp quan trọng bậc nhất vừa để thúc đẩy tinh thần sáng tạo kinh doanh vừa tăng cường các phẩm chất nhân văn của người tp.  để thực hiện định hướng cần giải quyết cả ba nhóm vấn đề lớn về dân số  dân cư phải có giải pháp kinh tế ngăn chặn dòng người ồ ạt di cư vào tp vô điều kiện đặc biệt là lực lượng lao động trình độ thấp tránh quá tải dân số và tránh xu hướng nông thôn hóa.  để giải quyết vấn đề này trên cơ sở kinh nghiệm đã có tp cần định hướng phát triển của mình theo ba tuyếnmột là hạn chế mở tp ra hướng đông nam tiến về phía biển nguy cơ bịt hết đường thoát nước nội thành hoặc phải đầu tư cực lớn để giải quyết căn bản vấn đề thoát nước  ngập lụt. sẽ phải có rất nhiều tuyến giải pháp cụ thể ở tầm chiến lược và chiến thuật cho tp. có nhiều điều có thể học từ những kinh nghiệm của các nước khác nhưng phải dựa trên hình thái đô thị và tập quán sinh hoạt của người dân. thứ ba mở rộng chiều ngang của đường và cao tốc hóa để làm tăng dung lượng giao thông cho các tuyến đường chính trong tp. hay ngược lại nên chọn hướng phát triển chính của tp là tây bắchai là tăng cường ngầm hóa đô thị đặc biệt ở những vùng đô thị mới. hcm hiện nay là có thể có lựa chọn tốt nhất đảm bảo kinh phí thực hiện và thực hiện được hay không mà thôi. hcm đang nỗ lực thay đổi chính mình theo hướng thay đổi đẳng cấp đua tranh để vươn lên ngang tầm những tp lớn hiện đại trong khu vực.  xây dựng thể chế chính quyền đô thị theo các hình mẫu hiện đại các nước phát triển yếu tố cơ bản để có một đô thị thượng tôn pháp luật công khai minh bạch và bảo đảm dân chủ. chú trọng lôi kéo thu hút lực lượng người việt ở nước ngoài có gốc rễ sài gòn lực lượng hoa kiều trên địa bàn tp coi đây là những nhân tố lan tỏa và kết nối đầu tư  thương mại toàn cầu hiệu quả nhất. \n"
     ]
    }
   ],
   "source": [
    "#  Tạo ra văn bản tóm tắt với vector tương ứng / Create a summary text with the corresponding vector\n",
    "summary_wv = ''\n",
    "for i in range(len(ranked_sentences)):\n",
    "    if ranked_sentences[i][0] > 1.05 * weighted_avg.mean():\n",
    "        summary_wv += sentences[np.where(sentences_vec == ranked_sentences[i][1])[0][0]][0] + '. '\n",
    "print(summary_wv)\n"
   ]
  },
  {
   "cell_type": "markdown",
   "metadata": {},
   "source": [
    "# Sử dụng TFIDF và độ đo cosine"
   ]
  },
  {
   "cell_type": "code",
   "execution_count": 364,
   "metadata": {},
   "outputs": [
    {
     "name": "stdout",
     "output_type": "stream",
     "text": [
      " xây dựng thể chế chính quyền đô thị theo các hình mẫu hiện đại các nước phát triển yếu tố cơ bản để có một đô thị thượng tôn pháp luật công khai minh bạch và bảo đảm dân chủ.  để giải quyết vấn đề này trên cơ sở kinh nghiệm đã có tp cần định hướng phát triển của mình theo ba tuyếnmột là hạn chế mở tp ra hướng đông nam tiến về phía biển nguy cơ bịt hết đường thoát nước nội thành hoặc phải đầu tư cực lớn để giải quyết căn bản vấn đề thoát nước  ngập lụt.  để thực hiện định hướng cần giải quyết cả ba nhóm vấn đề lớn về dân số  dân cư phải có giải pháp kinh tế ngăn chặn dòng người ồ ạt di cư vào tp vô điều kiện đặc biệt là lực lượng lao động trình độ thấp tránh quá tải dân số và tránh xu hướng nông thôn hóa.  không gian đô thị của tp. hai điều kiện là các đô thị mới đủ hiện đại tiện nghi để tạo sức hấp dẫn ly tâm hệ thống giao thông kết nối trung tâm  ngoại vi phải thuận lợi tiện nghi và thông suốt bảo đảm tốc độ lưu thông cao. hay ngược lại nên chọn hướng phát triển chính của tp là tây bắchai là tăng cường ngầm hóa đô thị đặc biệt ở những vùng đô thị mới. thứ năm ưu tiên xe đạp và các phương tiện giao thông công cộng vào trong trung tâm tp để bảo vệ môi trường. thứ ba mở rộng chiều ngang của đường và cao tốc hóa để làm tăng dung lượng giao thông cho các tuyến đường chính trong tp. có nhiều điều có thể học từ những kinh nghiệm của các nước khác nhưng phải dựa trên hình thái đô thị và tập quán sinh hoạt của người dân. hcm phải là không gian kết nối hạ tầng tối ưu làm nền tảng và phục vụ một tp thông minh phát triển bền vững. rút kinh nghiệm các đô thị trên thế giớitrong xu hướng tích cực thu hút đầu tư nước ngoài của việt nam tp. tuy nhiên may mắn là có thể đoán trước các vấn đề nào sẽ phát sinh dễ dàng khi nhìn vào lịch sử phát triển của các đô thị trong quá khứ đồng thời nếu dành thời gian nhìn vào lịch sử các vấn đề này được giải quyết thì cũng có thể dễ dàng tìm thấy phương pháp giải quyết.  lưu ý rằng không chỉ ngầm hóa các công trình giao thông mà còn phải ngầm hóa cả không gian đô thị.  đặc biệt đề cao định hướng hiện đại hóa trong mục tiêu phát triển và phải nghiêm khắc kiên trì tuân thủ định hướng này.  giới hạn lao động ngành nghề dịch vụ trình độ thấp vệ sinh môi trường cấp thoát nước đô thị nỗ lực hiện đại hóa các dịch vụ ở mức cao nhất có thể.  định hướng quy hoạch phát triển đô thị vùng tp. vấn đề của tp. thứ hai giảm lượng giao thông qua trung tâm tp bằng các tuyến đường vành đai để phương tiện giao thông đi vòng qua. hcm giải pháp trong từng bước đi và các giải pháp xử lý vấn đề cụ thể hay tình thế. \n"
     ]
    }
   ],
   "source": [
    "from sklearn.feature_extraction.text import TfidfVectorizer\n",
    "from sklearn.metrics.pairwise import cosine_similarity\n",
    "\n",
    "#  Tạo ma trận tf-idf / Create tf-idf matrix\n",
    "vectorizer = TfidfVectorizer()\n",
    "tf_idf_matrix = vectorizer.fit_transform([s[0] for s in sentences])\n",
    "\n",
    "#  Tính độ tương tự giữa các câu / Calculate the similarity between sentences\n",
    "sim_mat = cosine_similarity(tf_idf_matrix, tf_idf_matrix)\n",
    "\n",
    "#  Tính điểm cho từng câu / Calculate the score for each sentence\n",
    "sim_scores = sim_mat.sum(axis=0)\n",
    "ranked_sentences = sorted(((sim_scores[i],s) for i,s in enumerate(sentences)), reverse=True)\n",
    "\n",
    "#  Chuyển các câu có điểm cao hơn 1.2 lần trọng số trung bình thành văn bản tóm tắt / Convert sentences with scores greater than 1.2 times the average weight to a summary text\n",
    "summary_tfvec = ''\n",
    "for i in range(len(ranked_sentences)):\n",
    "    if ranked_sentences[i][0] > 1.05 * sim_scores.mean():\n",
    "        summary_tfvec += ranked_sentences[i][1][0] + '. '\n",
    "\n",
    "\n",
    "print(summary_tfvec)\n",
    "\n"
   ]
  },
  {
   "cell_type": "markdown",
   "metadata": {},
   "source": [
    "# Sử dụng Count vector thay cho tfidfvector"
   ]
  },
  {
   "cell_type": "code",
   "execution_count": 365,
   "metadata": {},
   "outputs": [
    {
     "name": "stdout",
     "output_type": "stream",
     "text": [
      " xây dựng thể chế chính quyền đô thị theo các hình mẫu hiện đại các nước phát triển yếu tố cơ bản để có một đô thị thượng tôn pháp luật công khai minh bạch và bảo đảm dân chủ.  để giải quyết vấn đề này trên cơ sở kinh nghiệm đã có tp cần định hướng phát triển của mình theo ba tuyếnmột là hạn chế mở tp ra hướng đông nam tiến về phía biển nguy cơ bịt hết đường thoát nước nội thành hoặc phải đầu tư cực lớn để giải quyết căn bản vấn đề thoát nước  ngập lụt. thứ năm ưu tiên xe đạp và các phương tiện giao thông công cộng vào trong trung tâm tp để bảo vệ môi trường. hai điều kiện là các đô thị mới đủ hiện đại tiện nghi để tạo sức hấp dẫn ly tâm hệ thống giao thông kết nối trung tâm  ngoại vi phải thuận lợi tiện nghi và thông suốt bảo đảm tốc độ lưu thông cao. thứ ba mở rộng chiều ngang của đường và cao tốc hóa để làm tăng dung lượng giao thông cho các tuyến đường chính trong tp. hay ngược lại nên chọn hướng phát triển chính của tp là tây bắchai là tăng cường ngầm hóa đô thị đặc biệt ở những vùng đô thị mới.  để thực hiện định hướng cần giải quyết cả ba nhóm vấn đề lớn về dân số  dân cư phải có giải pháp kinh tế ngăn chặn dòng người ồ ạt di cư vào tp vô điều kiện đặc biệt là lực lượng lao động trình độ thấp tránh quá tải dân số và tránh xu hướng nông thôn hóa.  không gian đô thị của tp. hcm phải là không gian kết nối hạ tầng tối ưu làm nền tảng và phục vụ một tp thông minh phát triển bền vững. có nhiều điều có thể học từ những kinh nghiệm của các nước khác nhưng phải dựa trên hình thái đô thị và tập quán sinh hoạt của người dân. rút kinh nghiệm các đô thị trên thế giớitrong xu hướng tích cực thu hút đầu tư nước ngoài của việt nam tp. tuy nhiên may mắn là có thể đoán trước các vấn đề nào sẽ phát sinh dễ dàng khi nhìn vào lịch sử phát triển của các đô thị trong quá khứ đồng thời nếu dành thời gian nhìn vào lịch sử các vấn đề này được giải quyết thì cũng có thể dễ dàng tìm thấy phương pháp giải quyết.  định hướng quy hoạch phát triển đô thị vùng tp. thứ hai giảm lượng giao thông qua trung tâm tp bằng các tuyến đường vành đai để phương tiện giao thông đi vòng qua. hcm thành trung tâm khởi nghiệp khuyến khích đầu tư mạo hiểm coi đây là một giải pháp quan trọng bậc nhất vừa để thúc đẩy tinh thần sáng tạo kinh doanh vừa tăng cường các phẩm chất nhân văn của người tp. đầu tiên là hoàn thiện các tuyến xe buýt đường sắt đô thị lrt light rail transit  tàu điện mặt đất để chuyển từ xe máy xe hơi sang các phương tiện giao thông công cộng.  giao thông kết nối tốt các tọa độ kết nối quốc tế sân bay và cảng trung chuyển quốc tế với trung tâm tp. vấn đề của tp.  đặc biệt đề cao định hướng hiện đại hóa trong mục tiêu phát triển và phải nghiêm khắc kiên trì tuân thủ định hướng này.  lưu ý rằng không chỉ ngầm hóa các công trình giao thông mà còn phải ngầm hóa cả không gian đô thị. \n"
     ]
    }
   ],
   "source": [
    "from sklearn.feature_extraction.text import CountVectorizer\n",
    "from sklearn.metrics.pairwise import cosine_similarity\n",
    "\n",
    "#  Tạo ma trận tf-idf / Create tf-idf matrix\n",
    "vectorizer = CountVectorizer()\n",
    "tf_idf_matrix = vectorizer.fit_transform([s[0] for s in sentences])\n",
    "\n",
    "#  Tính độ tương tự giữa các câu / Calculate the similarity between sentences\n",
    "sim_mat = cosine_similarity(tf_idf_matrix, tf_idf_matrix)\n",
    "\n",
    "#  Tính điểm cho từng câu / Calculate the score for each sentence\n",
    "sim_scores = sim_mat.sum(axis=0)\n",
    "ranked_sentences = sorted(((sim_scores[i],s) for i,s in enumerate(sentences)), reverse=True)\n",
    "\n",
    "#  Chuyển các câu có điểm cao hơn 1.2 lần trọng số trung bình thành văn bản tóm tắt / Convert sentences with scores greater than 1.2 times the average weight to a summary text\n",
    "summary_countvec = ''\n",
    "for i in range(len(ranked_sentences)):\n",
    "    if ranked_sentences[i][0] > 1.05 * sim_scores.mean():\n",
    "        summary_countvec += ranked_sentences[i][1][0] + '. '\n",
    "\n",
    "print(summary_countvec)"
   ]
  },
  {
   "cell_type": "markdown",
   "metadata": {},
   "source": [
    "# Sử dụng model kmeans dự đoán"
   ]
  },
  {
   "cell_type": "code",
   "execution_count": 366,
   "metadata": {},
   "outputs": [
    {
     "name": "stdout",
     "output_type": "stream",
     "text": [
      " không gian đô thị của tp. tuy nhiên may mắn là có thể đoán trước các vấn đề nào sẽ phát sinh dễ dàng khi nhìn vào lịch sử phát triển của các đô thị trong quá khứ đồng thời nếu dành thời gian nhìn vào lịch sử các vấn đề này được giải quyết thì cũng có thể dễ dàng tìm thấy phương pháp giải quyết.  để thực hiện định hướng cần giải quyết cả ba nhóm vấn đề lớn về dân số  dân cư phải có giải pháp kinh tế ngăn chặn dòng người ồ ạt di cư vào tp vô điều kiện đặc biệt là lực lượng lao động trình độ thấp tránh quá tải dân số và tránh xu hướng nông thôn hóa.  tạo lập lực lượng doanh nghiệp mạnh coi một số tập đoàn doanh nghiệp tư nhân mạnh làm trụ cột tích cực thu hút đầu tư nước ngoài trong đó các tập đoàn lớn  nhà đầu tư chiến lược có khả năng mở rộng kết nối chuỗi toàn cầu  là mục tiêu ưu tiên. hai điều kiện là các đô thị mới đủ hiện đại tiện nghi để tạo sức hấp dẫn ly tâm hệ thống giao thông kết nối trung tâm  ngoại vi phải thuận lợi tiện nghi và thông suốt bảo đảm tốc độ lưu thông cao. chú trọng lôi kéo thu hút lực lượng người việt ở nước ngoài có gốc rễ sài gòn lực lượng hoa kiều trên địa bàn tp coi đây là những nhân tố lan tỏa và kết nối đầu tư  thương mại toàn cầu hiệu quả nhất. hcm thành trung tâm khởi nghiệp khuyến khích đầu tư mạo hiểm coi đây là một giải pháp quan trọng bậc nhất vừa để thúc đẩy tinh thần sáng tạo kinh doanh vừa tăng cường các phẩm chất nhân văn của người tp.  về cơ cấu ngành nghề chỉ chấp nhận những ngành công nghệ cao hoặc có đẳng cấp nghề nghiệp cao các ngành dịch vụ.  xây dựng tp.  để giải quyết vấn đề này trên cơ sở kinh nghiệm đã có tp cần định hướng phát triển của mình theo ba tuyếnmột là hạn chế mở tp ra hướng đông nam tiến về phía biển nguy cơ bịt hết đường thoát nước nội thành hoặc phải đầu tư cực lớn để giải quyết căn bản vấn đề thoát nước  ngập lụt. thứ tư hoàn thiện đường cho người đi bộ sao cho dễ đi hạn chế việc đỗ xe ở các điểm đỗ xe đậu xe tiến tới cho phép đi bộ đi làm đi học. hcm hiện nay là có thể có lựa chọn tốt nhất đảm bảo kinh phí thực hiện và thực hiện được hay không mà thôi.  dân số gắn với dân cư phân bố dân cư theo nghề theo tuyến phát triển bảo đảm trình độ văn hóa  văn minh tương xứng với mục tiêu phát triển. hcm theo chùm và chuỗi có xu hướng ly tâm thoát khỏi xu hướng hướng tâm đang thống trị hiện nay.  xây dựng thể chế chính quyền đô thị theo các hình mẫu hiện đại các nước phát triển yếu tố cơ bản để có một đô thị thượng tôn pháp luật công khai minh bạch và bảo đảm dân chủ.  giao thông kết nối tốt các tọa độ kết nối quốc tế sân bay và cảng trung chuyển quốc tế với trung tâm tp.  giới hạn lao động ngành nghề dịch vụ trình độ thấp vệ sinh môi trường cấp thoát nước đô thị nỗ lực hiện đại hóa các dịch vụ ở mức cao nhất có thể. thứ hai giảm lượng giao thông qua trung tâm tp bằng các tuyến đường vành đai để phương tiện giao thông đi vòng qua. có nhiều điều có thể học từ những kinh nghiệm của các nước khác nhưng phải dựa trên hình thái đô thị và tập quán sinh hoạt của người dân. đầu tiên là hoàn thiện các tuyến xe buýt đường sắt đô thị lrt light rail transit  tàu điện mặt đất để chuyển từ xe máy xe hơi sang các phương tiện giao thông công cộng.  đặc biệt đề cao định hướng hiện đại hóa trong mục tiêu phát triển và phải nghiêm khắc kiên trì tuân thủ định hướng này.  tiêu chuẩn nền tảng của hòn ngọc viễn đông hiện đại là không bị ngập lụt ít hoặc không bị kẹt xe ít bị tắc nghẽn giao thông. \n"
     ]
    }
   ],
   "source": [
    "from sklearn.cluster import KMeans\n",
    "from sklearn.metrics import pairwise_distances_argmin_min\n",
    "\n",
    "#  Tạo ma trận tf-idf / Create tf-idf matrix\n",
    "vectorizer_C = CountVectorizer()\n",
    "tf_idf_matrix_C = vectorizer_C.fit_transform([s[0] for s in sentences])\n",
    "\n",
    "#  Tạo model KMeans / Create KMeans model\n",
    "kmeans = KMeans(n_clusters=int(len(sentences)/2), random_state=0).fit(tf_idf_matrix_C)\n",
    "\n",
    "#  Tìm ra các câu có cùng cluster / Find sentences with the same cluster\n",
    "closest, _ = pairwise_distances_argmin_min(kmeans.cluster_centers_, tf_idf_matrix_C)\n",
    "\n",
    "#  Chuyển các câu có cùng cluster thành văn bản tóm tắt / Convert sentences with the same cluster to a summary text\n",
    "summary_KM_C = ''\n",
    "for i in closest:\n",
    "    summary_KM_C += sentences[i][0] + '. '\n",
    "\n",
    "print(summary_KM_C)"
   ]
  },
  {
   "cell_type": "code",
   "execution_count": 367,
   "metadata": {},
   "outputs": [
    {
     "name": "stdout",
     "output_type": "stream",
     "text": [
      " tạo lập lực lượng doanh nghiệp mạnh coi một số tập đoàn doanh nghiệp tư nhân mạnh làm trụ cột tích cực thu hút đầu tư nước ngoài trong đó các tập đoàn lớn  nhà đầu tư chiến lược có khả năng mở rộng kết nối chuỗi toàn cầu  là mục tiêu ưu tiên.  không gian đô thị của tp. trong phạm vi bài viết ngắn này chỉ xin đề xuất một số giải pháp mang tính tổng quát có ý nghĩa định hướng và gợi ý. hcm giải pháp trong từng bước đi và các giải pháp xử lý vấn đề cụ thể hay tình thế.  xây dựng tp.  xây dựng thể chế chính quyền đô thị theo các hình mẫu hiện đại các nước phát triển yếu tố cơ bản để có một đô thị thượng tôn pháp luật công khai minh bạch và bảo đảm dân chủ. đầu tiên là hoàn thiện các tuyến xe buýt đường sắt đô thị lrt light rail transit  tàu điện mặt đất để chuyển từ xe máy xe hơi sang các phương tiện giao thông công cộng. hai điều kiện là các đô thị mới đủ hiện đại tiện nghi để tạo sức hấp dẫn ly tâm hệ thống giao thông kết nối trung tâm  ngoại vi phải thuận lợi tiện nghi và thông suốt bảo đảm tốc độ lưu thông cao.  giao thông kết nối tốt các tọa độ kết nối quốc tế sân bay và cảng trung chuyển quốc tế với trung tâm tp.  dân số gắn với dân cư phân bố dân cư theo nghề theo tuyến phát triển bảo đảm trình độ văn hóa  văn minh tương xứng với mục tiêu phát triển. vấn đề của tp. thứ hai giảm lượng giao thông qua trung tâm tp bằng các tuyến đường vành đai để phương tiện giao thông đi vòng qua.  tiêu chuẩn nền tảng của hòn ngọc viễn đông hiện đại là không bị ngập lụt ít hoặc không bị kẹt xe ít bị tắc nghẽn giao thông. hcm đang nỗ lực thay đổi chính mình theo hướng thay đổi đẳng cấp đua tranh để vươn lên ngang tầm những tp lớn hiện đại trong khu vực. ví dụ như tình trạng giao thông đô thị trở nên quá đông đúc. ông yasuzumi hirotaka trưởng đại diện tổ chức xúc tiến ngoại thương nhật bản tại tp.  giới hạn lao động ngành nghề dịch vụ trình độ thấp vệ sinh môi trường cấp thoát nước đô thị nỗ lực hiện đại hóa các dịch vụ ở mức cao nhất có thể.  định hướng quy hoạch phát triển đô thị vùng tp. hcm hiện nay là có thể có lựa chọn tốt nhất đảm bảo kinh phí thực hiện và thực hiện được hay không mà thôi. hcm theo chùm và chuỗi có xu hướng ly tâm thoát khỏi xu hướng hướng tâm đang thống trị hiện nay. hcm thành trung tâm khởi nghiệp khuyến khích đầu tư mạo hiểm coi đây là một giải pháp quan trọng bậc nhất vừa để thúc đẩy tinh thần sáng tạo kinh doanh vừa tăng cường các phẩm chất nhân văn của người tp. hcm phải là không gian kết nối hạ tầng tối ưu làm nền tảng và phục vụ một tp thông minh phát triển bền vững. \n"
     ]
    }
   ],
   "source": [
    "#  Tạo ma trận tf-idf / Create tf-idf matrix\n",
    "vectorizer_T = TfidfVectorizer()\n",
    "tf_idf_matrix_T = vectorizer_T.fit_transform([s[0] for s in sentences])\n",
    "\n",
    "#  Tạo model KMeans / Create KMeans model\n",
    "kmeans = KMeans(n_clusters=int(len(sentences)/2), random_state=0).fit(tf_idf_matrix_T)\n",
    "\n",
    "#  Tìm ra các câu có cùng cluster / Find sentences with the same cluster\n",
    "closest, _ = pairwise_distances_argmin_min(kmeans.cluster_centers_, tf_idf_matrix_T)\n",
    "\n",
    "#  Chuyển các câu có cùng cluster thành văn bản tóm tắt / Convert sentences with the same cluster to a summary text\n",
    "summary_KM_T = ''\n",
    "for i in closest:\n",
    "    summary_KM_T += sentences[i][0] + '. '\n",
    "\n",
    "print(summary_KM_T)\n"
   ]
  },
  {
   "cell_type": "code",
   "execution_count": 368,
   "metadata": {},
   "outputs": [
    {
     "name": "stdout",
     "output_type": "stream",
     "text": [
      "hcm giải pháp trong từng bước đi và các giải pháp xử lý vấn đề cụ thể hay tình thế.  định hướng quy hoạch phát triển đô thị vùng tp. tuy nhiên may mắn là có thể đoán trước các vấn đề nào sẽ phát sinh dễ dàng khi nhìn vào lịch sử phát triển của các đô thị trong quá khứ đồng thời nếu dành thời gian nhìn vào lịch sử các vấn đề này được giải quyết thì cũng có thể dễ dàng tìm thấy phương pháp giải quyết. hcm thành trung tâm khởi nghiệp khuyến khích đầu tư mạo hiểm coi đây là một giải pháp quan trọng bậc nhất vừa để thúc đẩy tinh thần sáng tạo kinh doanh vừa tăng cường các phẩm chất nhân văn của người tp. hcm phải là không gian kết nối hạ tầng tối ưu làm nền tảng và phục vụ một tp thông minh phát triển bền vững. thứ ba mở rộng chiều ngang của đường và cao tốc hóa để làm tăng dung lượng giao thông cho các tuyến đường chính trong tp.  để thực hiện định hướng cần giải quyết cả ba nhóm vấn đề lớn về dân số  dân cư phải có giải pháp kinh tế ngăn chặn dòng người ồ ạt di cư vào tp vô điều kiện đặc biệt là lực lượng lao động trình độ thấp tránh quá tải dân số và tránh xu hướng nông thôn hóa.  xây dựng tp.  để giải quyết vấn đề này trên cơ sở kinh nghiệm đã có tp cần định hướng phát triển của mình theo ba tuyếnmột là hạn chế mở tp ra hướng đông nam tiến về phía biển nguy cơ bịt hết đường thoát nước nội thành hoặc phải đầu tư cực lớn để giải quyết căn bản vấn đề thoát nước  ngập lụt. ba là tích cực ứng dụng giao thông thông minh.  do dân cư tập trung và xe hơi ngày càng phổ biến dẫn đến tình trạng tắc nghẽn.  dân số gắn với dân cư phân bố dân cư theo nghề theo tuyến phát triển bảo đảm trình độ văn hóa  văn minh tương xứng với mục tiêu phát triển. ví dụ như tình trạng giao thông đô thị trở nên quá đông đúc.  lưu ý rằng không chỉ ngầm hóa các công trình giao thông mà còn phải ngầm hóa cả không gian đô thị. ông yasuzumi hirotaka trưởng đại diện tổ chức xúc tiến ngoại thương nhật bản tại tp.  giao thông kết nối tốt các tọa độ kết nối quốc tế sân bay và cảng trung chuyển quốc tế với trung tâm tp. hcm với tư cách là trung tâm kinh tế công nghiệp trục nan hoa của asean chắc chắn còn phát triển mạnh mẽ thời gian tới.  giới hạn lao động ngành nghề dịch vụ trình độ thấp vệ sinh môi trường cấp thoát nước đô thị nỗ lực hiện đại hóa các dịch vụ ở mức cao nhất có thể.  về cơ cấu ngành nghề chỉ chấp nhận những ngành công nghệ cao hoặc có đẳng cấp nghề nghiệp cao các ngành dịch vụ. trong phạm vi bài viết ngắn này chỉ xin đề xuất một số giải pháp mang tính tổng quát có ý nghĩa định hướng và gợi ý. trong bối cảnh đó nhiều vấn đề liên quan đến môi trường sống đang cùng lúc xuất hiện. rút kinh nghiệm các đô thị trên thế giớitrong xu hướng tích cực thu hút đầu tư nước ngoài của việt nam tp. \n"
     ]
    }
   ],
   "source": [
    "kmeans = KMeans(n_clusters=int(len(sentences)/2), random_state=0).fit(sentences_vec)\n",
    "\n",
    "#  Tìm ra các câu có cùng cluster / Find sentences with the same cluster\n",
    "closest, _ = pairwise_distances_argmin_min(kmeans.cluster_centers_, sentences_vec)\n",
    "\n",
    "#  Chuyển các câu có cùng cluster thành văn bản tóm tắt / Convert sentences with the same cluster to a summary text\n",
    "\n",
    "summary_KM_WV = ''\n",
    "for i in closest:\n",
    "    summary_KM_WV += sentences[i][0] + '. '\n",
    "\n",
    "print(summary_KM_WV)\n"
   ]
  },
  {
   "attachments": {},
   "cell_type": "markdown",
   "metadata": {},
   "source": [
    "# Lex_rank"
   ]
  },
  {
   "cell_type": "code",
   "execution_count": 369,
   "metadata": {},
   "outputs": [
    {
     "name": "stdout",
     "output_type": "stream",
     "text": [
      "* Về kết cấu hạ tầng: nếu lấy mức độ tắc nghẽn giao thông làm một thước số đo điển hình trình độ hiện đại hóa của TP thì nhìn từ góc độ hạ tầng, rõ ràng chỉ số đo này tùy thuộc vào: i) quy mô và cơ cấu - trình độ dân số; ii) định hướng quy hoạch không gian TP, quy tụ lại trong quy hoạch giao thông (TP tập trung phát triển trên mặt đất hay phát triển theo cả chiều sâu/phát triển đô thị ngầm); iii) định hướng văn hóa giao thông đô thị: rút ngắn “thời đại văn minh xe máy” để chuyển nhanh qua “nền văn minh ôtô”, hoặc sớm định hướng “giao thông thông minh” - hay tiếp tục duy trì “nền văn minh xe máy” như hiện nay?2.  Không gian đô thị của TP.  Định hướng quy hoạch phát triển đô thị vùng TP. \n"
     ]
    }
   ],
   "source": [
    "from lexrank import LexRank\n",
    "sentences_ = content.split('.')\n",
    "lxr = LexRank(sentences_, stopwords=set(stop_words))\n",
    "\n",
    "summary_LexRank = ''\n",
    "for i in lxr.get_summary(sentences_, summary_size=3, threshold=None):\n",
    "    summary_LexRank += i + '. '\n",
    "print(summary_LexRank)"
   ]
  },
  {
   "attachments": {},
   "cell_type": "markdown",
   "metadata": {},
   "source": [
    "# Frequency"
   ]
  },
  {
   "cell_type": "code",
   "execution_count": 370,
   "metadata": {},
   "outputs": [
    {
     "name": "stdout",
     "output_type": "stream",
     "text": [
      "TP.HCM đang nỗ lực thay đổi chính mình theo hướng thay đổi đẳng cấp, đua tranh để vươn lên ngang tầm những TP lớn, hiện đại trong khu vực.Sẽ phải có rất nhiều tuyến giải pháp cụ thể ở tầm chiến lược và chiến thuật cho TP.HCM (giải pháp trong từng bước đi và các giải pháp xử lý vấn đề cụ thể hay tình thế).Trong phạm vi bài viết ngắn này, chỉ xin đề xuất một số giải pháp mang tính tổng quát, có ý nghĩa định hướng và gợi ý.1.Để thực hiện định hướng, cần giải quyết cả ba nhóm vấn đề lớn:* Về dân số - dân cư: phải có giải pháp kinh tế ngăn chặn dòng người ồ ạt di cư vào TP vô điều kiện, đặc biệt là lực lượng lao động trình độ thấp, tránh quá tải dân số và tránh xu hướng “nông thôn hóa”.* Về kết cấu hạ tầng: nếu lấy mức độ tắc nghẽn giao thông làm một thước số đo điển hình trình độ hiện đại hóa của TP thì nhìn từ góc độ hạ tầng, rõ ràng chỉ số đo này tùy thuộc vào: i) quy mô và cơ cấu - trình độ dân số; ii) định hướng quy hoạch không gian TP, quy tụ lại trong quy hoạch giao thông (TP tập trung phát triển trên mặt đất hay phát triển theo cả chiều sâu/phát triển đô thị ngầm); iii) định hướng văn hóa giao thông đô thị: rút ngắn “thời đại văn minh xe máy” để chuyển nhanh qua “nền văn minh ôtô”, hoặc sớm định hướng “giao thông thông minh” - hay tiếp tục duy trì “nền văn minh xe máy” như hiện nay?2.Để giải quyết vấn đề này, trên cơ sở kinh nghiệm đã có, TP cần định hướng phát triển của mình theo ba tuyến:Một là hạn chế mở TP ra hướng đông nam, tiến về phía biển (nguy cơ bịt hết đường thoát nước nội thành, hoặc phải đầu tư cực lớn để giải quyết căn bản vấn đề thoát nước - ngập lụt).Hay ngược lại, nên chọn hướng phát triển chính của TP là tây bắc?Hai là tăng cường “ngầm hóa” đô thị, đặc biệt ở những vùng đô thị mới.Định hướng quy hoạch phát triển đô thị vùng TP.HCM theo “chùm” và “chuỗi”, có xu hướng “ly tâm”, thoát khỏi xu hướng “hướng tâm” đang thống trị hiện nay.Hai điều kiện là: các đô thị mới đủ hiện đại, tiện nghi để tạo sức hấp dẫn “ly tâm”; hệ thống giao thông kết nối trung tâm - ngoại vi phải thuận lợi (tiện nghi và thông suốt, bảo đảm tốc độ lưu thông cao).5.Tạo lập lực lượng doanh nghiệp mạnh, coi một số tập đoàn doanh nghiệp tư nhân mạnh làm trụ cột, tích cực thu hút đầu tư nước ngoài, trong đó các tập đoàn lớn - nhà đầu tư chiến lược, có khả năng mở rộng kết nối chuỗi toàn cầu - là mục tiêu ưu tiên.Chú trọng lôi kéo, thu hút lực lượng người Việt ở nước ngoài có gốc rễ Sài Gòn, lực lượng Hoa kiều trên địa bàn TP, coi đây là những nhân tố lan tỏa và kết nối đầu tư - thương mại toàn cầu hiệu quả nhất.Rút kinh nghiệm các đô thị trên thế giớiTrong xu hướng tích cực thu hút đầu tư nước ngoài của Việt Nam, TP.HCM với tư cách là trung tâm kinh tế, công nghiệp, trục nan hoa của ASEAN, chắc chắn còn phát triển mạnh mẽ thời gian tới.Trong bối cảnh đó, nhiều vấn đề liên quan đến môi trường sống đang cùng lúc xuất hiện.Tuy nhiên, may mắn là có thể đoán trước các vấn đề nào sẽ phát sinh dễ dàng khi nhìn vào lịch sử phát triển của các đô thị trong quá khứ, đồng thời nếu dành thời gian nhìn vào lịch sử các vấn đề này được giải quyết thì cũng có thể dễ dàng tìm thấy phương pháp giải quyết.Vấn đề của TP.HCM hiện nay là có thể có lựa chọn tốt nhất, đảm bảo kinh phí thực hiện và thực hiện được hay không mà thôi.Ví dụ như tình trạng giao thông đô thị trở nên quá đông đúc.Cầu vượt ở các điểm giao lộ không phải là giải pháp căn bản.Có nhiều điều có thể học từ những kinh nghiệm của các nước khác, nhưng phải dựa trên hình thái đô thị và tập quán sinh hoạt của người dân...Đầu tiên là hoàn thiện các tuyến xe buýt, đường sắt đô thị, LRT (Light Rail Transit - tàu điện mặt đất) để chuyển từ xe máy, xe hơi sang các phương tiện giao thông công cộng.Thứ hai, giảm lượng giao thông qua trung tâm TP bằng các tuyến đường vành đai để phương tiện giao thông đi vòng qua.Thứ ba, mở rộng chiều ngang của đường và cao tốc hóa để làm tăng dung lượng giao thông cho các tuyến đường chính trong TP.Thứ tư, hoàn thiện đường cho người đi bộ sao cho dễ đi, hạn chế việc đỗ xe ở các điểm đỗ xe, đậu xe, tiến tới cho phép đi bộ đi làm, đi học.Thứ năm, ưu tiên xe đạp và các phương tiện giao thông công cộng vào trong trung tâm TP để bảo vệ môi trường...Ông YASUZUMI HIROTAKA (trưởng đại diện Tổ chức Xúc tiến ngoại thương Nhật Bản tại TP.HCM)\n"
     ]
    }
   ],
   "source": [
    "# from Method import frequency\n",
    "# frequency.solve(content)\n",
    "\n",
    "def solve(text):\n",
    "    words = word_tokenize(text) # Tách từ\n",
    "    freqTable = {}# Tạo bảng tần suất(là 1 cái dict)\n",
    "    for word in words:# Đếm số lần xuất hiện của từ trong văn bản\n",
    "        word = word.lower()# Chuyển về chữ thường\n",
    "        if word in stop_words:# Nếu từ là stop word thì bỏ qua\n",
    "            continue# Bỏ qua các từ không có nghĩa\n",
    "        if word in freqTable:# Nếu từ đã có trong bảng tần suất thì tăng số lần xuất hiện lên 1\n",
    "            freqTable[word] += 1\n",
    "        else :# Nếu từ chưa có trong bảng tần suất thì thêm vào bảng tần suất\n",
    "           freqTable[word] = 1\n",
    "\n",
    "    sentences = sent_tokenize(text)# Tách câu\n",
    "    sentenceValue = {}# Tạo bảng giá trị câu(là 1 cái dict)\n",
    "    for sentence in sentences:# Tính giá trị của câu\n",
    "        for word, freq in freqTable.items():# Duyệt từng từ trong bảng tần suất\n",
    "            if word in sentence.lower():# Nếu từ có trong câu thì cộng giá trị của từ vào giá trị của câu\n",
    "                if sentence in sentenceValue:# Nếu câu đã có trong bảng giá trị câu thì cộng giá trị của từ vào giá trị của câu\n",
    "                    sentenceValue[sentence] += freq\n",
    "                else :# Nếu câu chưa có trong bảng giá trị câu thì thêm vào bảng giá trị câu\n",
    "                    sentenceValue[sentence] = freq\n",
    "    \n",
    "    sumValues = 0# Tổng giá trị của tất cả các câu\n",
    "    for sentence in sentenceValue:# Tính tổng giá trị của tất cả các câu\n",
    "        sumValues += sentenceValue[sentence]# Cộng giá trị của từng câu vào tổng giá trị của tất cả các câu\n",
    "    average = int(sumValues / len(sentenceValue))# Tính giá trị trung bình của tất cả các câu\n",
    "\n",
    "    summary = ''# Chuỗi tóm tắt\n",
    "    for sentence in sentences:# Tạo tóm tắt\n",
    "        if (sentence in sentenceValue) and(sentenceValue[sentence] > (1.05 * average)):# Nếu giá trị của câu lớn hơn 1.2 lần giá trị trung bình  của tất cả các câu thì thêm vào tóm tắt với  \n",
    "            summary += \"\" + sentence# Thêm câu vào tóm tắt\n",
    "    return summary# Trả về tóm tắt\n",
    "\n",
    "summary_Frequency = solve(content)\n",
    "print(summary_Frequency)\n"
   ]
  },
  {
   "cell_type": "markdown",
   "metadata": {},
   "source": [
    "# Thực hiện tóm tắt lại văn bản thành 1 câu với tất cả cá mô hình đã làm"
   ]
  },
  {
   "cell_type": "code",
   "execution_count": 371,
   "metadata": {},
   "outputs": [
    {
     "name": "stdout",
     "output_type": "stream",
     "text": [
      " xây dựng thể chế chính quyền đô thị theo các hình mẫu hiện đại các nước phát triển yếu tố cơ bản để có một đô thị thượng tôn pháp luật công khai minh bạch và bảo đảm dân chủ.  để giải quyết vấn đề này trên cơ sở kinh nghiệm đã có tp cần định hướng phát triển của mình theo ba tuyếnmột là hạn chế mở tp ra hướng đông nam tiến về phía biển nguy cơ bịt hết đường thoát nước nội thành hoặc phải đầu tư cực lớn để giải quyết căn bản vấn đề thoát nước  ngập lụt.  để thực hiện định hướng cần giải quyết cả ba nhóm vấn đề lớn về dân số  dân cư phải có giải pháp kinh tế ngăn chặn dòng người ồ ạt di cư vào tp vô điều kiện đặc biệt là lực lượng lao động trình độ thấp tránh quá tải dân số và tránh xu hướng nông thôn hóa. \n"
     ]
    }
   ],
   "source": [
    "# Chuyển các summeries thành dạng list / Convert summeries to list\n",
    "summary_list = [summary_wv, summary_tfvec, summary_countvec, summary_KM_C, summary_KM_T, summary_KM_WV, summary_LexRank, summary_Frequency]\n",
    "\n",
    "# Tách các câu trong các summeries / Split sentences in summeries\n",
    "summary_list = [s.split('. ') for s in summary_list]\n",
    "\n",
    "# Tạo ma trận tf-idf / Create tf-idf matrix\n",
    "vectorizer = TfidfVectorizer()\n",
    "tf_idf_matrix = vectorizer.fit_transform([s[0] for s in sentences])\n",
    "\n",
    "# Tính độ tương tự giữa các câu / Calculate the similarity between sentences\n",
    "sim_mat = cosine_similarity(tf_idf_matrix, tf_idf_matrix)\n",
    "\n",
    "# Tính điểm cho từng câu / Calculate the score for each sentence\n",
    "sim_scores = sim_mat.sum(axis=0)\n",
    "\n",
    "# Tạo một list chứa các câu có điểm cao nhất / Create a list containing the sentences with the highest score\n",
    "ranked_sentences = sorted(((sim_scores[i],s) for i,s in enumerate(sentences)), reverse=True)\n",
    "\n",
    "# # Lấy câu có điểm cao nhất / Get the sentence with the highest score\n",
    "# top_sentence = ranked_sentences[0][1][0]\n",
    "\n",
    "# lấy ra 3 câu có điểm cao nhất / Get the 3 sentences with the highest score\n",
    "top_sentence = ranked_sentences[0][1][0] + '. ' + ranked_sentences[1][1][0] + '. ' + ranked_sentences[2][1][0] + '. '\n",
    "\n",
    "# lấy ra các câu có điểm cao hơn 1.2 lần điểm trung bình / Get the sentences with the highest score more than 1.2 times the average score\n",
    "# top_sentence = ''\n",
    "# for i in range(len(ranked_sentences)):\n",
    "#     if ranked_sentences[i][0] > 1.2 * sim_scores.mean():\n",
    "#         top_sentence += ranked_sentences[i][1][0] + '. '\n",
    "\n",
    "# In các câu / Print the sentences\n",
    "print(top_sentence)\n",
    "\n"
   ]
  },
  {
   "attachments": {},
   "cell_type": "markdown",
   "metadata": {},
   "source": [
    "# Hiệu quả khá là tốt các câu có tính liên kết với nhau và đi vào trọng điểm(có đủ mở thân kết (*￣3￣)╭)\n",
    "# => Thực hiện tạo package để train và kiểm tra văn bản tóm tắt"
   ]
  },
  {
   "cell_type": "code",
   "execution_count": 372,
   "metadata": {},
   "outputs": [
    {
     "name": "stdout",
     "output_type": "stream",
     "text": [
      "Đoạn văn nói về:  xây dựng thể chế chính quyền đô thị hình mẫu hiện đại nước phát triển yếu tố cơ bản đô thị thượng tôn pháp luật công khai minh bạch bảo đảm dân chủ giải quyết vấn đề cơ sở kinh nghiệm tp định hướng phát triển ba tuyếnmột hạn chế mở tp hướng đông nam tiến phía biển nguy cơ bịt đường thoát nước nội thành đầu tư cực giải quyết căn bản vấn đề thoát nước ngập lụt thực hiện định hướng giải quyết ba nhóm vấn đề dân số dân cư giải pháp kinh tế ngăn chặn dòng ồ ạt di cư tp vô điều kiện đặc biệt lực lượng lao động trình độ thấp tránh quá tải dân số tránh xu hướng nông thôn hóa\n"
     ]
    }
   ],
   "source": [
    "# Demo cách xử lý văn bản để tính đỉm cho từng câu / Demo how to process text to calculate the score for each sentence\n",
    "from underthesea import pos_tag\n",
    "import string\n",
    "# Xử lý câu có điểm cao nhất / Process the sentence with the highest score\n",
    "\n",
    "# lấy các token của câu / get tokens of the sentence\n",
    "top_sentence_tokens = word_tokenize(top_sentence)\n",
    "\n",
    "# loại bỏ các token là dấu câu / remove punctuation tokens\n",
    "top_sentence_tokens = [t for t in top_sentence_tokens if t not in string.punctuation]\n",
    "\n",
    "# loại bỏ các token là stopword / remove stopword tokens\n",
    "top_sentence_tokens = [t for t in top_sentence_tokens if t not in stop_words]\n",
    "\n",
    "# Chuyển thành đoạn văn bản xúc tích / Convert to sentiment text\n",
    "top_sentence_tokens = ' '.join(top_sentence_tokens)\n",
    "\n",
    "print('Đoạn văn nói về: ', top_sentence_tokens)"
   ]
  }
 ],
 "metadata": {
  "kernelspec": {
   "display_name": "Python 3",
   "language": "python",
   "name": "python3"
  },
  "language_info": {
   "codemirror_mode": {
    "name": "ipython",
    "version": 3
   },
   "file_extension": ".py",
   "mimetype": "text/x-python",
   "name": "python",
   "nbconvert_exporter": "python",
   "pygments_lexer": "ipython3",
   "version": "3.10.9"
  },
  "orig_nbformat": 4,
  "vscode": {
   "interpreter": {
    "hash": "cdfbf7b7304e05408e799db5ef32899d3a083826c8173734f898b7fad24dd3fd"
   }
  }
 },
 "nbformat": 4,
 "nbformat_minor": 2
}
