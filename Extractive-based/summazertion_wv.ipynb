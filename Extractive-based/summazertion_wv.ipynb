{
 "cells": [
  {
   "cell_type": "code",
   "execution_count": 1,
   "metadata": {},
   "outputs": [],
   "source": [
    "import pandas as pd\n",
    "import numpy as np\n",
    "from bs4 import BeautifulSoup\n",
    "import requests\n",
    "import warnings\n",
    "import os\n",
    "import re\n",
    "warnings.filterwarnings(\"ignore\")"
   ]
  },
  {
   "cell_type": "code",
   "execution_count": 2,
   "metadata": {},
   "outputs": [],
   "source": [
    "stop_words = open(os.getcwd() + '/Data/stop_word/vietnamese-stopwords.txt', 'r', encoding='utf-8').read()\n",
    "stop_words = stop_words.split()"
   ]
  },
  {
   "cell_type": "code",
   "execution_count": 3,
   "metadata": {},
   "outputs": [
    {
     "data": {
      "text/plain": [
       "'Ngày 24/05 vừa qua, Mỹ Linh đã vinh dự trình bày Quốc ca Việt Nam trước bài phát biểu của Tổng thống Mỹ Obama tại Trung tâm Hội nghị Quốc gia. Tuy nhiên, tiết mục trình bày không nhạc đệm, không dàn bè của ca sỹ Mỹ Linh vấp phải luồng ý kiến trái chiều của dư luận và truyền thông.Nhiều khán giả và nhạc sĩ cho rằng Mỹ Linh hát theo phong cách opera đã làm mất đi sự bi hùng của Quốc ca. Mặt khác, một bộ phận khán giả lẫn giới chuyên môn cho rằng ‘cái mới bao giờ cũng gây tranh cãi’ và việc hát quốc ca theo phong cách opera là rất hay, phù hợp trong điều kiện phải hát Quốc ca không có nhạc nền và hợp xướng.Giữa tâm bão dư luận, Mỹ Linh đã thẳng thắn lên tiếng trước những lời chê bai về việc phần trình diễn Quốc ca của mình: \"Đã qua rồi thời chiến tranh bom đạn nên tôi hát quốc ca với thông điệp của thời bình, với tinh thần hàn gắn và chia sẻ yêu thương chứ không hừng hực kháng chiến như ngày nào\". Nữ ca sĩ cũng thừa nhận, cô đã gặp \"tai nạn nghề nghiệp\" tại phần trình diễn này bởi lên cô bắt tone hơi thấp. Mỹ Linh cảm thấy rất tiếc vì có thể làm tốt hơn nếu có cơ hội hát lại.Cách đây ít phút, Diva Hồng Nhung đã đăng tải một dòng trạng thái dài lên tiếng bảo vệ cho Mỹ Linh – người đồng nghiệp đồng thời cũng là người bạn thân thiết của cô. Theo cô Bống, câu chuyện này đã bị thổi phồng quá xa trong những tranh cãi gay gắt mang tính tiêu cực.Diva Hồng Nhung cho rằng việc chọn Mỹ Linh hát Quốc ca trước bài phát biểu của Tổng thống Obama ‘là lựa chọn tối ưu’. Vì việc đứng hát trực tiếp, không nhạc đệm, không hợp xướng trước Tổng thống Obama – người đàn ông quyền lực nhất thế giới, trước hàng trăm ống kính máy quay, được phát trực tiếp không chỉ trong nước mà còn ở quốc tế đòi hỏi một bản lĩnh sân khấu thật sự vững vàng. Nên ‘Nếu không phải là một ca sĩ đẳng cấp cỡ Mỹ Linh thì... khả năng \"cấm khẩu\", không hát nên lời là hoàn toàn có thể xảy ra.’ – Hồng Nhung nhận xét.Hồng Nhung cho biết chị rất buồn vì ‘chuyện phê bình, chê bai gay gắt vượt ra quá xa trong khung văn hóa ứng xử cho phép của một số đông dành cho Mỹ Linh, đã trở nên không công bằng, rồi đến mức ác, cố ý vùi dập’. Đáng lẽ ca sĩ Mỹ Linh không đáng bị mọi người vùi dập như thế vì ‘Mỹ Linh đã hát với một trách nhiệm nghiêm túc, thể hiện sự trân trọng, tình cảm yêu nước của mình trong từng câu hát, không sai một từ, không chênh một nốt’.Kết lại tâm thư dài, cô Bống Hồng Nhung không quên dành lời động viên cho người đồng nghiệp, cũng là người bạn thân thiết của mình: ‘Tôi hãnh diện vì Mỹ Linh, một tài năng đủ lớn để sống vượt lên mọi vỏ bọc bên ngoài, trung thành với giá trị nhân văn mà mình tin tưởng, mặc những thị phi’.Trước Hồng Nhung, không ít nhạc sĩ như nhạc sĩ Hồ Hoài Anh, nhạc sĩ Thanh Phương, nhạc sĩ Trí Minh, nhạc sĩ Ngọc Châu, ca sĩ Thái Thùy Linh... đã lên tiếng ủng hộ và bảo vệ màn trình diễn Quốc ca phá cách mới mẻ của Mỹ Linh.'"
      ]
     },
     "execution_count": 3,
     "metadata": {},
     "output_type": "execute_result"
    }
   ],
   "source": [
    "# url = 'https://phunuvietnam.vn/nhung-nguoi-phu-nu-dat-cuoc-song-vao-che-do-im-lang-ho-thuong-khong-don-gian-512022112114044393.htm'\n",
    "# result = requests.get(url)\n",
    "# c = result.content\n",
    "# soup = BeautifulSoup(c,\"lxml\")\n",
    "\n",
    "# content = soup.find('div',class_=\"content-detail\")\n",
    "# content = content.find_all('p')\n",
    "# content = content[1:-1]\n",
    "# content = [i.text for i in content]\n",
    "# content = ' '.join(content)\n",
    "content = 'Ngày 24/05 vừa qua, Mỹ Linh đã vinh dự trình bày Quốc ca Việt Nam trước bài phát biểu của Tổng thống Mỹ Obama tại Trung tâm Hội nghị Quốc gia. Tuy nhiên, tiết mục trình bày không nhạc đệm, không dàn bè của ca sỹ Mỹ Linh vấp phải luồng ý kiến trái chiều của dư luận và truyền thông.Nhiều khán giả và nhạc sĩ cho rằng Mỹ Linh hát theo phong cách opera đã làm mất đi sự bi hùng của Quốc ca. Mặt khác, một bộ phận khán giả lẫn giới chuyên môn cho rằng ‘cái mới bao giờ cũng gây tranh cãi’ và việc hát quốc ca theo phong cách opera là rất hay, phù hợp trong điều kiện phải hát Quốc ca không có nhạc nền và hợp xướng.Giữa tâm bão dư luận, Mỹ Linh đã thẳng thắn lên tiếng trước những lời chê bai về việc phần trình diễn Quốc ca của mình: \"Đã qua rồi thời chiến tranh bom đạn nên tôi hát quốc ca với thông điệp của thời bình, với tinh thần hàn gắn và chia sẻ yêu thương chứ không hừng hực kháng chiến như ngày nào\". Nữ ca sĩ cũng thừa nhận, cô đã gặp \"tai nạn nghề nghiệp\" tại phần trình diễn này bởi lên cô bắt tone hơi thấp. Mỹ Linh cảm thấy rất tiếc vì có thể làm tốt hơn nếu có cơ hội hát lại.Cách đây ít phút, Diva Hồng Nhung đã đăng tải một dòng trạng thái dài lên tiếng bảo vệ cho Mỹ Linh – người đồng nghiệp đồng thời cũng là người bạn thân thiết của cô. Theo cô Bống, câu chuyện này đã bị thổi phồng quá xa trong những tranh cãi gay gắt mang tính tiêu cực.Diva Hồng Nhung cho rằng việc chọn Mỹ Linh hát Quốc ca trước bài phát biểu của Tổng thống Obama ‘là lựa chọn tối ưu’. Vì việc đứng hát trực tiếp, không nhạc đệm, không hợp xướng trước Tổng thống Obama – người đàn ông quyền lực nhất thế giới, trước hàng trăm ống kính máy quay, được phát trực tiếp không chỉ trong nước mà còn ở quốc tế đòi hỏi một bản lĩnh sân khấu thật sự vững vàng. Nên ‘Nếu không phải là một ca sĩ đẳng cấp cỡ Mỹ Linh thì... khả năng \"cấm khẩu\", không hát nên lời là hoàn toàn có thể xảy ra.’ – Hồng Nhung nhận xét.Hồng Nhung cho biết chị rất buồn vì ‘chuyện phê bình, chê bai gay gắt vượt ra quá xa trong khung văn hóa ứng xử cho phép của một số đông dành cho Mỹ Linh, đã trở nên không công bằng, rồi đến mức ác, cố ý vùi dập’. Đáng lẽ ca sĩ Mỹ Linh không đáng bị mọi người vùi dập như thế vì ‘Mỹ Linh đã hát với một trách nhiệm nghiêm túc, thể hiện sự trân trọng, tình cảm yêu nước của mình trong từng câu hát, không sai một từ, không chênh một nốt’.Kết lại tâm thư dài, cô Bống Hồng Nhung không quên dành lời động viên cho người đồng nghiệp, cũng là người bạn thân thiết của mình: ‘Tôi hãnh diện vì Mỹ Linh, một tài năng đủ lớn để sống vượt lên mọi vỏ bọc bên ngoài, trung thành với giá trị nhân văn mà mình tin tưởng, mặc những thị phi’.Trước Hồng Nhung, không ít nhạc sĩ như nhạc sĩ Hồ Hoài Anh, nhạc sĩ Thanh Phương, nhạc sĩ Trí Minh, nhạc sĩ Ngọc Châu, ca sĩ Thái Thùy Linh... đã lên tiếng ủng hộ và bảo vệ màn trình diễn Quốc ca phá cách mới mẻ của Mỹ Linh.'\n",
    "# content = 'Tổng thư ký Tổ chức Hiệp ước Bắc Đại Tây Dương (NATO) Jens Stoltenberg ngày 19/5 cho biết, nếu Ai Cập đề nghị, liên minh này sẽ hỗ trợ công tác tìm kiếm chiếc máy bay mang số hiệu MS 804 của hãng hàng không Ai Cập chở 66 người mất tích trước đó cùng ngày.“Tôi gửi lời chia buồn sâu sắc nhất đến những ai bị ảnh hưởng bởi vụ việc này.Chúng tôi sẽ tiếp tục theo dõi chặt chẽ diễn biến và nếu được đề nghị, NATO luôn sẵn sàng giúp đỡ”, ông Jens Stoltenberg nói.Thủ tướng Italy Matteo Renzi ngày 19/5 cũng đã gửi lời chia buồn, đồng thời bày tỏ sự đoàn kết với Ai Cập sau vụ máy bay của hãng hàng không Ai Cập mất tích trên Địa Trung Hải khi đang trên đường bay từ Paris đến Cairo.Trước đó, Hãng hàng không quốc gia Ai Cập (EgyptAir) xác nhận phía Hy Lạp đã tìm thấy mảnh vỡ từ chiếc máy bay này ở phía Nam đảo Karpathos, thuộc vùng Nam Địa Trung Hải.Hãng cũng cam kết sẽ triển khai mọi biện pháp giải quyết tình hình hiện nay cũng như tiến hành một cuộc điều tra tổng thể.Người đứng đầu cơ quan điều tra tai nạn hàng không Ai Cập Ayman al-Moqadem ngày 19/5 cho biết, nước này sẽ dẫn đầu một ủy ban điều tra về vụ mất tích chiếc máy bay mang số hiệu MS 804.Ủy ban này bao gồm cả nhân sự phía Pháp, nước sản xuất chiếc Airbus 320 này và cũng là nước có số nạn nhân nhiều thứ hai sau Ai Cập.Hiện Mỹ đã cử máy bay P-3 Orion hỗ trợ công tác tìm kiếm chiếc máy bay mất tích của Ai Cập.Lúc này, ứng viên Tổng thống đảng Cộng hòa Mỹ Donald Trump đã lên tiếng bày tỏ nghi ngờ đây là một vụ tấn công khủng bố song chính phủ Mỹ cho rằng, vụ tai nạn máy bay vẫn đang được điều tra và còn quá sớm để xác định nguyên nhân khiến máy bay gặp nạn.Thủ tướng Ai Cập Sherif Ismail thì nhận định còn quá sớm đề loại bỏ bất cứ giả thuyết nào, kể cả trường hợp máy bay bị khủng bố.Bộ trưởng Bộ Hàng không dân dụng Ai Cập Sherif Phathi cũng cho rằng, khả năng máy bay bị khủng bố cao hơn khả năng xảy ra lỗi kỹ thuật dù ông chưa đưa ra bằng chứng cụ thể nào.Tổng thống Ai Cập Mohamed Morsi đã yêu cầu Bộ Hàng không dân dụng và quân đội phối hợp nhanh chóng định vị nơi chiếc máy bay mang số hiệu MS 804 rơi và tiến hành một cuộc điều tra thấu đáo.Trong khi đó, Ngoại trưởng Canada Stephane Dion ngày 19/5 cho biết trong số những hành khách đi chuyến bay mang số hiệu MS 804 của Hãng hàng không quốc gia Ai Cập (EgyptAir) bị mất tích cùng ngày có ít nhất 2 công dân nước này.Ông cũng cho biết Bộ Ngoại giao Canada đang phối hợp với các đối tác Pháp và Ai Cập, cũng như các nước liên quan khác để đánh giá tình hình và xem xét các yêu cầu hỗ trợ.Trước đó, hãng hàng không quốc gia Ai Cập đã công bố quốc tịch của những hành khách đi trên chuyến bay MS 804 bị mất tích, bao gồm 56 hành khách, trong đó có 30 người Ai Cập, 15 người Pháp, 2 người I-rắc, 1 người Anh, 1 người Bỉ, 1 người Kuwait, 1 người Saudi Arabia, 1 người Sudan, 1 người Cộng hòa Chad, 1 người Bồ Đào Nha, 1 người Angeria và 1 người Canada.'\n",
    "# content ='Pascal Hess, người Pháp là một trong số 66 người, trong đó có 15 công dân Pháp, được cho là đã chết khi chuyến bay MS804 của Hãng hàng không Ai Cập biến mất trên đường đến Cairo hôm 19-5.Bạn bè của Hess cho biết, ông ấy gần như không thể đáp được chuyến bay MS804 của EgyptAir vì bị mất hộ chiếu.“Hess, một người mê bóng chuyền và là nhiếp ảnh gia đến từ Evreux ở Normandy đã không ngủ 3 ngày vì ông vô cùng lo lắng khi hộ chiếu của mình bị mất mà chưa được tìm thấy. Cho đến khi có một người nhìn thấy nó trên đường phố, và đem trả cho Hess, khi đó Hess lại lưỡng lự không muốn đi nữa. Ông ấy rời Paris để đi nghỉ 10 ngày trên Biển Đỏ của Ai Cập một cách miễn cưỡng\", một người bạn của Hess nói với tờ báo Pháp ngữ địa phương, La Depeche.Ông Ahmed Helal, Giám đốc Công ty Procter và Gamble ở thành phố Amien, Pháp, và một gia đình người Pháp gồm 2 trẻ nhỏ, một người ông 74 tuổi tên là Pierre Heslouin đến từ Nogent-sur-Marne cũng được cho là thiệt mạng trong vụ máy bay mất tích bí ẩn này.Theo The Telegraph, một người Anh có tên là Richard Osman, 40 tuổi, cũng được cho là không còn sống. Ông vừa mới trở thành người cha lần thứ hai với người vợ Pháp Aurelie. Con gái ông là Olympe mới khoảng một tháng tuổi.Theo CNN, một người cha của bốn đứa con, Joao David e Silva, là một trong những người được biết đã có mặt trên chuyến bay đó.Silva đang làm việc cho công ty xây dựng Mota-Engil ở Bồ Đào Nha. Ông ấy được bố trí ở Johannesburg vì công việc của mình mặc dù gia đình ông vẫn sống ở Lisbon, nguồn tin chính phủ Bồ Đào Nha cho biết.AP đưa tin rằng, một học sinh đến từ Chad đang học tại một trường học ở Pháp, cũng là một trong số các hành khách được cho là đã thiệt mạng.Một người khác tên là Abdulmohsen al-Muteiri, người Kuwait, một giáo sư kinh tế, đang trên đường đi dự một hội nghị. Ông cũng đã từng giữ những vị trí cấp cao trong chính phủ Kuwait.Một hành khách khác là một người Ai Cập đang trên đường trở về nhà, sau khi trải qua một đợt điều trị bệnh tại Pháp, theo AP.EgyptAir vẫn chưa công bố tên của những người rất có thể đã chết trên chuyến bay đã được nhìn thấy lần cuối trên Địa Trung Hải.Chuyến bay của EgyptAir mang số hiệu MS804 xuất phát lúc 23h09 đêm 18-5 từ Paris đến Hy Lạp. Thời gian hạ cánh dự kiến vào lúc 3h15 sáng ngày hôm sau, tuy nhiên nó đã biến mất khỏi màn hình rada theo dõi vào khoảng 30 phút trước giờ đó.Theo BBC, một cuộc điều tra quy mô lớn đang được tiến hành sau khi chiếc A320 của hãng hàng không Ai Cập biến mất cùng 69 người trên khoang vào sáng sớm hôm 19-5'\n",
    "content"
   ]
  },
  {
   "cell_type": "code",
   "execution_count": 4,
   "metadata": {},
   "outputs": [],
   "source": [
    "# Load modul \n",
    "import os\n",
    "from gensim.models import KeyedVectors \n",
    "\n",
    "w2v = KeyedVectors.load_word2vec_format('Word2Vec/vi.vec')"
   ]
  },
  {
   "cell_type": "code",
   "execution_count": 5,
   "metadata": {},
   "outputs": [],
   "source": [
    "from underthesea import sent_tokenize,word_tokenize\n",
    "#  convert sentence to vector / Hàm chuyển câu thành vector\n",
    "\n",
    "def sent2vec(s):\n",
    "    words = str(s).lower()\n",
    "    words = word_tokenize(words)\n",
    "    words = [w for w in words if w.isalpha()]\n",
    "    M = []\n",
    "    for w in words:\n",
    "        try:\n",
    "            M.append(w2v[w])\n",
    "        except:\n",
    "            continue\n",
    "    M = np.array(M)\n",
    "    v = M.sum(axis=0)\n",
    "    try:\n",
    "        vec = v / np.sqrt((v ** 2).sum())\n",
    "    except:\n",
    "        pass\n",
    "    return vec\n",
    "\n",
    "#  chuyển văn bản thành từng câu / Convert text to sentences\n",
    "def text2sent(text):\n",
    "    #Loại bỏ các ký tự đặc biệt trừ dấu chấm\n",
    "    text = re.sub(r'[^\\w\\s.]','',text)\n",
    "    print(text)\n",
    "    # tách câu bằng slip\n",
    "    sentences = [[sentences.lower()] for sentences in text.split('.')]\n",
    "    return sentences\n",
    "\n",
    "\n",
    "\n",
    "#  tính độ tương tự giữa 2 câu / Calculate the similarity between 2 sentences\n",
    "def similarity(s1, s2):\n",
    "    return np.dot(s1, s2)\n",
    "\n",
    "#  tính độ tương tự giữa 1 câu với tất cả các câu khác / Calculate the similarity between 1 sentence and all other sentences\n",
    "def sim_matrix(sentences):\n",
    "    n = len(sentences)\n",
    "    A = np.zeros((n, n))\n",
    "    for i in range(n):\n",
    "        for j in range(n):\n",
    "            if i == j:\n",
    "                continue\n",
    "            A[i][j] = similarity(sentences[i], sentences[j])\n",
    "    return A\n"
   ]
  },
  {
   "cell_type": "code",
   "execution_count": 6,
   "metadata": {},
   "outputs": [
    {
     "name": "stdout",
     "output_type": "stream",
     "text": [
      "Ngày 2405 vừa qua Mỹ Linh đã vinh dự trình bày Quốc ca Việt Nam trước bài phát biểu của Tổng thống Mỹ Obama tại Trung tâm Hội nghị Quốc gia. Tuy nhiên tiết mục trình bày không nhạc đệm không dàn bè của ca sỹ Mỹ Linh vấp phải luồng ý kiến trái chiều của dư luận và truyền thông.Nhiều khán giả và nhạc sĩ cho rằng Mỹ Linh hát theo phong cách opera đã làm mất đi sự bi hùng của Quốc ca. Mặt khác một bộ phận khán giả lẫn giới chuyên môn cho rằng cái mới bao giờ cũng gây tranh cãi và việc hát quốc ca theo phong cách opera là rất hay phù hợp trong điều kiện phải hát Quốc ca không có nhạc nền và hợp xướng.Giữa tâm bão dư luận Mỹ Linh đã thẳng thắn lên tiếng trước những lời chê bai về việc phần trình diễn Quốc ca của mình Đã qua rồi thời chiến tranh bom đạn nên tôi hát quốc ca với thông điệp của thời bình với tinh thần hàn gắn và chia sẻ yêu thương chứ không hừng hực kháng chiến như ngày nào. Nữ ca sĩ cũng thừa nhận cô đã gặp tai nạn nghề nghiệp tại phần trình diễn này bởi lên cô bắt tone hơi thấp. Mỹ Linh cảm thấy rất tiếc vì có thể làm tốt hơn nếu có cơ hội hát lại.Cách đây ít phút Diva Hồng Nhung đã đăng tải một dòng trạng thái dài lên tiếng bảo vệ cho Mỹ Linh  người đồng nghiệp đồng thời cũng là người bạn thân thiết của cô. Theo cô Bống câu chuyện này đã bị thổi phồng quá xa trong những tranh cãi gay gắt mang tính tiêu cực.Diva Hồng Nhung cho rằng việc chọn Mỹ Linh hát Quốc ca trước bài phát biểu của Tổng thống Obama là lựa chọn tối ưu. Vì việc đứng hát trực tiếp không nhạc đệm không hợp xướng trước Tổng thống Obama  người đàn ông quyền lực nhất thế giới trước hàng trăm ống kính máy quay được phát trực tiếp không chỉ trong nước mà còn ở quốc tế đòi hỏi một bản lĩnh sân khấu thật sự vững vàng. Nên Nếu không phải là một ca sĩ đẳng cấp cỡ Mỹ Linh thì... khả năng cấm khẩu không hát nên lời là hoàn toàn có thể xảy ra.  Hồng Nhung nhận xét.Hồng Nhung cho biết chị rất buồn vì chuyện phê bình chê bai gay gắt vượt ra quá xa trong khung văn hóa ứng xử cho phép của một số đông dành cho Mỹ Linh đã trở nên không công bằng rồi đến mức ác cố ý vùi dập. Đáng lẽ ca sĩ Mỹ Linh không đáng bị mọi người vùi dập như thế vì Mỹ Linh đã hát với một trách nhiệm nghiêm túc thể hiện sự trân trọng tình cảm yêu nước của mình trong từng câu hát không sai một từ không chênh một nốt.Kết lại tâm thư dài cô Bống Hồng Nhung không quên dành lời động viên cho người đồng nghiệp cũng là người bạn thân thiết của mình Tôi hãnh diện vì Mỹ Linh một tài năng đủ lớn để sống vượt lên mọi vỏ bọc bên ngoài trung thành với giá trị nhân văn mà mình tin tưởng mặc những thị phi.Trước Hồng Nhung không ít nhạc sĩ như nhạc sĩ Hồ Hoài Anh nhạc sĩ Thanh Phương nhạc sĩ Trí Minh nhạc sĩ Ngọc Châu ca sĩ Thái Thùy Linh... đã lên tiếng ủng hộ và bảo vệ màn trình diễn Quốc ca phá cách mới mẻ của Mỹ Linh.\n"
     ]
    },
    {
     "data": {
      "text/plain": [
       "[['ngày 2405 vừa qua mỹ linh đã vinh dự trình bày quốc ca việt nam trước bài phát biểu của tổng thống mỹ obama tại trung tâm hội nghị quốc gia'],\n",
       " [' tuy nhiên tiết mục trình bày không nhạc đệm không dàn bè của ca sỹ mỹ linh vấp phải luồng ý kiến trái chiều của dư luận và truyền thông'],\n",
       " ['nhiều khán giả và nhạc sĩ cho rằng mỹ linh hát theo phong cách opera đã làm mất đi sự bi hùng của quốc ca'],\n",
       " [' mặt khác một bộ phận khán giả lẫn giới chuyên môn cho rằng cái mới bao giờ cũng gây tranh cãi và việc hát quốc ca theo phong cách opera là rất hay phù hợp trong điều kiện phải hát quốc ca không có nhạc nền và hợp xướng'],\n",
       " ['giữa tâm bão dư luận mỹ linh đã thẳng thắn lên tiếng trước những lời chê bai về việc phần trình diễn quốc ca của mình đã qua rồi thời chiến tranh bom đạn nên tôi hát quốc ca với thông điệp của thời bình với tinh thần hàn gắn và chia sẻ yêu thương chứ không hừng hực kháng chiến như ngày nào'],\n",
       " [' nữ ca sĩ cũng thừa nhận cô đã gặp tai nạn nghề nghiệp tại phần trình diễn này bởi lên cô bắt tone hơi thấp'],\n",
       " [' mỹ linh cảm thấy rất tiếc vì có thể làm tốt hơn nếu có cơ hội hát lại'],\n",
       " ['cách đây ít phút diva hồng nhung đã đăng tải một dòng trạng thái dài lên tiếng bảo vệ cho mỹ linh  người đồng nghiệp đồng thời cũng là người bạn thân thiết của cô'],\n",
       " [' theo cô bống câu chuyện này đã bị thổi phồng quá xa trong những tranh cãi gay gắt mang tính tiêu cực'],\n",
       " ['diva hồng nhung cho rằng việc chọn mỹ linh hát quốc ca trước bài phát biểu của tổng thống obama là lựa chọn tối ưu'],\n",
       " [' vì việc đứng hát trực tiếp không nhạc đệm không hợp xướng trước tổng thống obama  người đàn ông quyền lực nhất thế giới trước hàng trăm ống kính máy quay được phát trực tiếp không chỉ trong nước mà còn ở quốc tế đòi hỏi một bản lĩnh sân khấu thật sự vững vàng'],\n",
       " [' nên nếu không phải là một ca sĩ đẳng cấp cỡ mỹ linh thì'],\n",
       " [''],\n",
       " [''],\n",
       " [' khả năng cấm khẩu không hát nên lời là hoàn toàn có thể xảy ra'],\n",
       " ['  hồng nhung nhận xét'],\n",
       " ['hồng nhung cho biết chị rất buồn vì chuyện phê bình chê bai gay gắt vượt ra quá xa trong khung văn hóa ứng xử cho phép của một số đông dành cho mỹ linh đã trở nên không công bằng rồi đến mức ác cố ý vùi dập'],\n",
       " [' đáng lẽ ca sĩ mỹ linh không đáng bị mọi người vùi dập như thế vì mỹ linh đã hát với một trách nhiệm nghiêm túc thể hiện sự trân trọng tình cảm yêu nước của mình trong từng câu hát không sai một từ không chênh một nốt'],\n",
       " ['kết lại tâm thư dài cô bống hồng nhung không quên dành lời động viên cho người đồng nghiệp cũng là người bạn thân thiết của mình tôi hãnh diện vì mỹ linh một tài năng đủ lớn để sống vượt lên mọi vỏ bọc bên ngoài trung thành với giá trị nhân văn mà mình tin tưởng mặc những thị phi'],\n",
       " ['trước hồng nhung không ít nhạc sĩ như nhạc sĩ hồ hoài anh nhạc sĩ thanh phương nhạc sĩ trí minh nhạc sĩ ngọc châu ca sĩ thái thùy linh'],\n",
       " [''],\n",
       " [''],\n",
       " [' đã lên tiếng ủng hộ và bảo vệ màn trình diễn quốc ca phá cách mới mẻ của mỹ linh'],\n",
       " ['']]"
      ]
     },
     "execution_count": 6,
     "metadata": {},
     "output_type": "execute_result"
    }
   ],
   "source": [
    "#  chuyển văn bản thành từng câu / Convert text to sentences\n",
    "sentences = text2sent(content)\n",
    "sentences"
   ]
  },
  {
   "cell_type": "code",
   "execution_count": 7,
   "metadata": {},
   "outputs": [],
   "source": [
    "#  Chuyển câu thành vector / Convert sentences to vector\n",
    "sentences_vec = [sent2vec(i) for i in sentences]\n",
    "# xóa các giá trị nan / Remove all nan values\n",
    "\n",
    "sentences_vec = [i for i in sentences_vec if str(i) != 'nan']"
   ]
  },
  {
   "cell_type": "markdown",
   "metadata": {},
   "source": [
    "# Tóm tắt văn bản thông thường theo cách tính trọng số"
   ]
  },
  {
   "cell_type": "code",
   "execution_count": 8,
   "metadata": {},
   "outputs": [],
   "source": [
    "#  Tính ma trận độ tương tự / Calculate similarity matrix\n",
    "A = sim_matrix(sentences_vec)\n",
    "\n",
    "#  Tính độ tương tự trung bình của câu / Calculate the average similarity of the sentence\n",
    "avg = A.sum(axis=1) / (A.shape[0] - 1)\n"
   ]
  },
  {
   "cell_type": "code",
   "execution_count": 9,
   "metadata": {},
   "outputs": [],
   "source": [
    "#  Xây dựng trọng số cho từng câu / Build weight for each sentence\n",
    "weighted_avg = ((avg - avg.min()) / (avg.max() - avg.min()))\n",
    "#  Tính điểm cho từng câu / Calculate the score for each sentence\n",
    "score = (A.dot(weighted_avg)) / weighted_avg.sum()\n",
    "#  Sắp xếp câu theo thứ tự giảm dần / Sort sentences in descending order\n",
    "ranked_sentences = sorted(((score[i],s) for i,s in enumerate(sentences_vec)), reverse=True)\n",
    "    "
   ]
  },
  {
   "cell_type": "code",
   "execution_count": 10,
   "metadata": {},
   "outputs": [
    {
     "name": "stdout",
     "output_type": "stream",
     "text": [
      "[ 0.09675892  0.10075937 -0.10064053 -0.0160048   0.02225478 -0.06850544\n",
      " -0.04593634 -0.05475209 -0.0138237   0.18553238 -0.10204192  0.03517443\n",
      " -0.04434037 -0.16206074 -0.11850538 -0.0236505  -0.0895293  -0.09532994\n",
      "  0.06634757 -0.15486382 -0.01202643  0.07451801 -0.1052614  -0.02513672\n",
      " -0.07800791  0.00941105  0.08412257 -0.05412243  0.06380797  0.00412445\n",
      "  0.02052121  0.05824384  0.0540622  -0.0266188   0.03311508 -0.1275548\n",
      " -0.04927904 -0.01987667 -0.06005506 -0.00032123  0.01755729  0.11189193\n",
      " -0.05732233 -0.11072881 -0.10733568 -0.30081853  0.06484283 -0.19491881\n",
      " -0.01777921 -0.03385414  0.02112043 -0.06149208  0.01459214 -0.20855471\n",
      "  0.00057483 -0.20067391  0.01649581 -0.0545692   0.04104161 -0.21098503\n",
      "  0.08330289  0.06089566 -0.01697208  0.08804134 -0.09044386  0.18331851\n",
      " -0.15324034  0.20327406 -0.01771448  0.06515703 -0.02954457 -0.17517804\n",
      " -0.17046228  0.14235677  0.03882954 -0.0632309  -0.06169607  0.10752529\n",
      "  0.05893091  0.10707016  0.09678861 -0.01012282 -0.02495202  0.05030153\n",
      " -0.00855234 -0.02404471  0.03992657 -0.00793954 -0.01273924 -0.13324402\n",
      "  0.21898034  0.12235697  0.1726025  -0.04561974  0.03209049  0.21526802\n",
      "  0.01426554 -0.07718143 -0.04184553 -0.12306032]\n",
      "[ 0.04654846  0.12766996 -0.07723249  0.00652177 -0.04677248 -0.06206527\n",
      " -0.0368868  -0.04776327  0.00036171  0.14375979 -0.13196309  0.02272361\n",
      " -0.07056864 -0.09016142 -0.0905624  -0.02097813 -0.08139824 -0.09633974\n",
      "  0.05538752 -0.13539316 -0.06340714  0.07694437 -0.10462704 -0.01426743\n",
      " -0.07439386  0.0298526   0.11796599 -0.0813185   0.07123251 -0.00565631\n",
      " -0.02744727  0.08918557  0.01411982 -0.02700818  0.04092479 -0.13651544\n",
      " -0.02112235  0.04108451 -0.03768761  0.01731597  0.01498055  0.08213572\n",
      " -0.06026656 -0.07236448 -0.12772925 -0.2846974   0.06383502 -0.21922222\n",
      "  0.0524877   0.0384602  -0.0009155  -0.08651471  0.07585762 -0.14743464\n",
      "  0.06117609 -0.1961806  -0.01261737  0.0028234   0.08705796 -0.20552818\n",
      "  0.07516977  0.05494682  0.03410742  0.0734034  -0.15771028  0.13680778\n",
      " -0.10090477  0.20750634  0.01993993  0.1287597  -0.00991206 -0.16962335\n",
      " -0.20706388  0.11082114  0.05354669 -0.07696369 -0.0054117   0.04608956\n",
      "  0.15171288  0.1198324   0.14426327 -0.0081683  -0.06919891  0.06698001\n",
      " -0.00187295 -0.05378218  0.04276744 -0.060376   -0.03891325 -0.16149938\n",
      "  0.20878214  0.13317187  0.14058441 -0.06520766  0.06240989  0.18558072\n",
      " -0.01242149 -0.08186842 -0.0529617  -0.15373746]\n",
      "[ 2.21946053e-02  5.18797264e-02 -1.32567495e-01  3.53932157e-02\n",
      " -9.60706733e-03  8.53574742e-03 -6.26295432e-02 -5.68773970e-02\n",
      "  1.47859188e-04  2.24613696e-01 -6.49337322e-02  1.13498969e-02\n",
      " -3.65277082e-02 -1.55265868e-01 -1.09879561e-01  7.47287497e-02\n",
      " -2.11144984e-02 -5.56832701e-02  7.56221265e-02 -1.52309597e-01\n",
      "  3.86182629e-02  7.41317123e-02 -3.52648757e-02 -1.38485879e-02\n",
      " -1.56511471e-01  3.06937993e-02  9.13408548e-02 -6.89745545e-02\n",
      "  8.70805755e-02 -1.11648254e-02  8.85577966e-03  2.07683761e-02\n",
      "  3.06891557e-02 -3.72079611e-02  3.15777138e-02 -1.68574795e-01\n",
      " -4.04696092e-02 -9.11057368e-03 -1.20441653e-01 -3.55603434e-02\n",
      " -1.62296521e-03  8.95306394e-02 -1.17617764e-01 -5.20094559e-02\n",
      " -5.96187599e-02 -2.47712627e-01  6.03481531e-02 -2.33987197e-01\n",
      " -1.43315699e-02 -5.15538231e-02 -2.37692967e-02 -1.30677536e-01\n",
      "  1.36873856e-01 -1.88324139e-01 -1.21423416e-03 -2.16322437e-01\n",
      "  3.48472632e-02 -5.57912067e-02  6.08338751e-02 -1.93605945e-01\n",
      "  4.60801683e-02  1.29750177e-01  3.49122137e-02  8.25658962e-02\n",
      " -8.14907849e-02  1.19190387e-01 -8.70541185e-02  1.87166989e-01\n",
      " -1.33534078e-03  4.88334335e-02 -5.65780029e-02 -1.60973564e-01\n",
      " -2.11741179e-01  1.11239642e-01  4.63006981e-02 -9.08482149e-02\n",
      " -1.68287922e-02  1.40246019e-01  1.19670242e-01  7.94011503e-02\n",
      "  1.00089088e-01 -7.84500763e-02 -2.40188688e-02  8.90945271e-03\n",
      "  2.86130942e-02 -3.40914801e-02  5.82457036e-02 -5.78963682e-02\n",
      " -2.97494642e-02 -1.41828090e-01  1.98753357e-01  1.20609164e-01\n",
      "  1.49286747e-01 -7.02995434e-02  5.86481839e-02  2.17148870e-01\n",
      " -2.63005178e-02 -5.48600107e-02 -5.52044921e-02 -7.55552500e-02]\n",
      "[ 9.74866077e-02  1.87285632e-01 -8.48556012e-02 -1.70228537e-02\n",
      "  1.08073037e-02 -5.40410057e-02 -9.08410624e-02 -5.01797497e-02\n",
      " -4.70247567e-02  1.89134002e-01 -1.03848621e-01  6.21553743e-03\n",
      " -1.43178990e-02 -1.72770053e-01 -1.06444761e-01  2.58994102e-02\n",
      " -7.01325387e-02 -1.35270044e-01  3.99324261e-02 -8.86987448e-02\n",
      " -2.85901204e-02  8.60043243e-02 -1.22835100e-01  1.35254441e-02\n",
      " -1.22857109e-01  1.15948729e-02  1.31668374e-01 -5.94450310e-02\n",
      "  1.59688783e-03 -3.18996608e-02 -3.30859311e-02  5.03735244e-02\n",
      " -1.00060357e-02 -1.27865095e-02  1.23176752e-02 -1.27482191e-01\n",
      " -8.99239033e-02  3.18103805e-02  2.41199899e-02  7.05240713e-03\n",
      "  2.59365924e-02  1.26043484e-01 -5.41274846e-02 -7.92867988e-02\n",
      " -1.47021815e-01 -2.42023095e-01  1.65430158e-02 -1.23574220e-01\n",
      "  4.18791883e-02 -6.48595067e-03 -1.65191554e-02 -2.89061968e-03\n",
      " -3.19049656e-02 -1.33563623e-01  5.63132018e-02 -1.69820458e-01\n",
      " -2.14134459e-04 -3.41244675e-02  5.33184782e-02 -2.31928870e-01\n",
      "  4.61353548e-02  8.13614205e-02  1.14159314e-02  7.06891939e-02\n",
      " -1.09825775e-01  2.38217592e-01 -7.85179958e-02  1.35152206e-01\n",
      "  6.55669570e-02  1.38742968e-01  1.41502786e-02 -1.44274294e-01\n",
      " -1.62682027e-01  1.01120524e-01  9.97292902e-03 -1.41314879e-01\n",
      "  1.52456742e-02  3.23169231e-02  1.18332863e-01  1.02702655e-01\n",
      "  8.62436444e-02 -4.05581854e-02 -3.92832458e-02  4.89404425e-02\n",
      " -3.61804925e-02 -7.94338882e-02  6.60600215e-02  1.29497545e-02\n",
      "  1.68671198e-02 -1.52493417e-01  2.53260463e-01  1.58383474e-01\n",
      "  1.47712380e-01 -5.90089709e-02 -2.35168636e-02  2.36912727e-01\n",
      "  3.21975499e-02 -7.06797540e-02 -5.07156141e-02 -1.57814741e-01]\n",
      "[ 0.07463781  0.15945534 -0.11846455  0.04201202 -0.02371574 -0.10048626\n",
      " -0.06873567 -0.08359808 -0.0888502   0.12557611 -0.01786464  0.05860913\n",
      "  0.01380606 -0.19337854 -0.17820407 -0.0382735  -0.08876351 -0.13664687\n",
      "  0.0423687  -0.06613837 -0.0818571   0.06302506 -0.11177877  0.00132092\n",
      " -0.07950647  0.01947683  0.08939072 -0.04315678  0.05111493 -0.06158132\n",
      " -0.05880056  0.01983714  0.00203958 -0.03241923 -0.00587254 -0.09231799\n",
      " -0.06931017 -0.04574274 -0.05413131  0.03197087  0.01109119  0.1517226\n",
      " -0.02149786 -0.03679096 -0.13180847 -0.2425884   0.070668   -0.22330843\n",
      "  0.08970979 -0.05624978 -0.00864517 -0.04884455  0.03701587 -0.14926507\n",
      "  0.05835253 -0.12164684 -0.05886125 -0.10059252  0.05218896 -0.25410873\n",
      "  0.03362481  0.08962966  0.01891462  0.09101762 -0.08721351  0.16888702\n",
      " -0.13090646  0.18610345  0.03695177  0.07908031 -0.02331279 -0.15835711\n",
      " -0.16149887  0.06175732  0.01327765 -0.0466177  -0.04121555  0.05623509\n",
      "  0.12464136  0.1549873   0.15557346 -0.04762635 -0.01554029  0.0629469\n",
      " -0.02085282 -0.02191616 -0.03404548 -0.0118705   0.04618203 -0.15122096\n",
      "  0.20177443  0.12596634  0.11362384 -0.08605802  0.04705142  0.2374284\n",
      " -0.0048747  -0.07194029  0.00382798 -0.15100779]\n",
      "[ 5.59376813e-02  8.79453942e-02 -1.18810959e-01  5.42841703e-02\n",
      "  4.82302271e-02  6.82786899e-03 -7.21640289e-02 -1.12454206e-01\n",
      " -6.04384057e-02  1.07696548e-01 -7.07448646e-02  6.76077828e-02\n",
      " -3.22442651e-02 -1.58156306e-01 -6.00552335e-02  9.83558223e-02\n",
      "  5.97586967e-02 -1.24471091e-01  1.33950979e-01 -1.68854162e-01\n",
      " -8.34380463e-03  1.01441406e-01 -1.05539046e-01 -6.96667051e-03\n",
      " -1.74347684e-01  8.73090513e-03  1.37317792e-01 -1.61181670e-02\n",
      "  7.20004737e-02 -3.68715301e-02  4.32624333e-02  8.44765529e-02\n",
      "  5.36306985e-02 -5.50118387e-02  5.68044409e-02 -1.23723432e-01\n",
      "  1.84101562e-04  1.37349162e-02 -7.02684969e-02 -3.72197032e-02\n",
      "  5.89052700e-02  3.69283669e-02 -1.19129717e-01 -6.96613267e-02\n",
      " -8.08365867e-02 -2.40986392e-01 -5.89598436e-03 -1.84844106e-01\n",
      " -1.43289717e-03 -5.35859633e-03 -6.76327618e-03 -7.19052628e-02\n",
      "  5.06358147e-02 -1.34869188e-01  1.97847206e-02 -1.80303141e-01\n",
      " -1.75718144e-02  2.71928869e-02  1.15797587e-01 -2.01253816e-01\n",
      "  8.79142359e-02  1.51016667e-01  8.81585758e-03  1.37965521e-02\n",
      " -5.59574626e-02  1.01253390e-01 -5.59952483e-02  1.45104736e-01\n",
      "  1.62941571e-02  8.55846182e-02 -7.45590031e-02 -1.87995017e-01\n",
      " -2.24174529e-01  1.52111799e-01  8.69339556e-02 -8.91879499e-02\n",
      "  8.21584277e-03  9.15517136e-02  1.44457132e-01  8.08830783e-02\n",
      "  1.03710145e-01 -3.02437674e-02  1.02191800e-02  1.27110288e-01\n",
      " -2.27928478e-02 -3.62103954e-02 -2.80758254e-02  1.75803853e-03\n",
      "  1.51532218e-02 -1.34500623e-01  2.33137861e-01  1.53868556e-01\n",
      "  1.69979140e-01 -8.15279856e-02  4.04547155e-02  2.34321281e-01\n",
      "  3.90001647e-02 -2.05118190e-02  8.20824038e-03 -7.31721967e-02]\n",
      "[ 0.15099037  0.13680646 -0.06853961 -0.01576641  0.00616086 -0.01243356\n",
      " -0.01173971 -0.02338931 -0.09537379  0.13894959 -0.07150462 -0.01107442\n",
      " -0.02926951 -0.20047589 -0.1883904   0.00554527 -0.01637222 -0.12394145\n",
      "  0.11469605 -0.09526949 -0.01692983  0.06211778 -0.13256451  0.00733369\n",
      " -0.09134733  0.03310854  0.0491822  -0.00034547  0.06174227  0.04852061\n",
      " -0.02902623  0.00476421  0.07189764  0.03273126 -0.00528172 -0.09931448\n",
      " -0.0114573  -0.03310058 -0.07651167 -0.01164625  0.00910147  0.08648773\n",
      " -0.04951194 -0.07363209 -0.05297657 -0.20268701  0.043703   -0.19911644\n",
      "  0.03398355 -0.00672935 -0.05453235 -0.07493234  0.06425337 -0.10892382\n",
      "  0.11432957 -0.26424235 -0.00913673 -0.02537328  0.13645652 -0.25227204\n",
      "  0.02546535  0.02859158 -0.0013109   0.06919444 -0.0873696   0.12300371\n",
      " -0.19282562  0.17335443  0.03423381  0.01897924 -0.01773201 -0.08264779\n",
      " -0.13819928  0.08995312  0.09094514 -0.02987711 -0.0007543   0.05059647\n",
      "  0.07922389  0.15670168  0.11070785 -0.04537274 -0.07713233  0.11086587\n",
      " -0.08752768 -0.06120418  0.02786529  0.00841829  0.01630828 -0.18893062\n",
      "  0.24198079  0.1523867   0.17200191 -0.09335573  0.07970876  0.19621754\n",
      " -0.02557119 -0.04182354 -0.08342914 -0.13524874]\n",
      "[ 0.03361881  0.08022276 -0.09927439 -0.00568311  0.07432776  0.03387167\n",
      " -0.07299748 -0.00585012 -0.02181939  0.16761516 -0.08690174 -0.00417715\n",
      "  0.01191682 -0.10535287 -0.06535707  0.05720672 -0.03621423 -0.09906417\n",
      "  0.12939544 -0.18785045 -0.00718637  0.09757515 -0.0559458  -0.05039008\n",
      " -0.06603911  0.05684501  0.08057895 -0.0501104   0.09176955  0.06487145\n",
      " -0.07594592  0.07013774  0.05832503 -0.05178813  0.01017403 -0.12532032\n",
      " -0.10569826  0.01242268 -0.10289032 -0.02073254  0.06108176  0.05290444\n",
      " -0.12604137 -0.07791411 -0.09249898 -0.22335309  0.05917905 -0.24789852\n",
      "  0.01483269 -0.00467238 -0.00719852 -0.07406651  0.03468658 -0.18383282\n",
      "  0.02722663 -0.2451002  -0.03531867 -0.0353041   0.02186031 -0.22739412\n",
      "  0.03293876  0.07134386 -0.00988165  0.07449658 -0.05230692  0.17240603\n",
      " -0.12643851  0.16333549  0.02715606  0.05826263 -0.01232772 -0.12233794\n",
      " -0.10298232  0.11787098 -0.03545893 -0.05262978 -0.05288777  0.10300358\n",
      "  0.07996104  0.21136327  0.09045413 -0.03823342 -0.04186513 -0.01013002\n",
      "  0.02649909 -0.03592191  0.02391586 -0.05071454 -0.00869134 -0.16643351\n",
      "  0.1573236   0.09103986  0.17339142 -0.07383826  0.07548468  0.2399487\n",
      " -0.02506063 -0.15486494 -0.16476776 -0.13297668]\n",
      "[ 0.04147726  0.11257988 -0.16504018 -0.02964081  0.08164252 -0.05734547\n",
      " -0.02569343 -0.0271962   0.02604084  0.15711713 -0.00188946  0.03960958\n",
      "  0.03090995 -0.21412559 -0.01200316  0.09323932 -0.07968814 -0.09705818\n",
      "  0.07379461 -0.1346532   0.06184709  0.05091133 -0.12253238  0.06292279\n",
      " -0.02726509 -0.00963513  0.10190217  0.06243922  0.05203511  0.03655727\n",
      " -0.02463925  0.08279575  0.02259414 -0.07857934  0.04569118 -0.11788826\n",
      " -0.1067429  -0.0390632  -0.05657951 -0.01729684  0.03544088  0.04932943\n",
      " -0.18922731 -0.06632261 -0.05563642 -0.25109968  0.01226607 -0.14796491\n",
      " -0.00791164  0.03827405 -0.04165214 -0.08654718  0.01477588 -0.13439094\n",
      "  0.06939831 -0.17512368  0.01396632 -0.01467629  0.06142532 -0.19389963\n",
      "  0.06844915  0.17322618  0.05557287  0.13598554 -0.06930181  0.18750829\n",
      " -0.1400373   0.12789175  0.02265587  0.08673616  0.03444983 -0.19053723\n",
      " -0.25648543  0.10277231  0.07485685 -0.12212322  0.03319421  0.04870793\n",
      "  0.01410552  0.16822027  0.08293261 -0.11902469 -0.02046337  0.10072083\n",
      "  0.07691508 -0.01582675  0.02284804 -0.06304409 -0.03066266 -0.14028862\n",
      "  0.1424629   0.10105257  0.1509057  -0.07559105  0.08096993  0.19904336\n",
      " -0.05137569 -0.06383218 -0.05618301 -0.10110471]\n",
      "[ 0.02806186  0.07879715 -0.1759291   0.12892216  0.02221451 -0.02896185\n",
      " -0.06493988 -0.01252564 -0.05683216  0.11826963 -0.08653937  0.03255221\n",
      "  0.02541826 -0.11242225 -0.09335547  0.00369683  0.02476257 -0.12803562\n",
      "  0.07752027 -0.18779191  0.01767104  0.13257726 -0.13341102 -0.04175974\n",
      " -0.13856895  0.06865948  0.09354695  0.04300857 -0.01390258  0.01007936\n",
      "  0.0517402   0.11371987  0.00132682 -0.08267839  0.02001898 -0.1060989\n",
      " -0.15033971  0.02856542 -0.02188771 -0.00844856  0.10922872 -0.02202239\n",
      " -0.15067264 -0.04611344 -0.1448315  -0.24669738  0.06566105 -0.11968666\n",
      " -0.03198275 -0.06385434  0.01174786 -0.11532606 -0.0270515  -0.09147517\n",
      "  0.06049572 -0.15805416  0.00794818 -0.04716365  0.04671912 -0.22583368\n",
      "  0.09158356  0.1183766  -0.00891978  0.06404289 -0.06334171  0.14286387\n",
      " -0.14008665  0.14101055  0.01660355  0.1301447  -0.00492403 -0.17037633\n",
      " -0.15565224  0.15896171 -0.00307295 -0.03881904 -0.02952621  0.09672154\n",
      "  0.13442765 -0.01315172  0.08478182 -0.05953084  0.00209065  0.12382945\n",
      " -0.03556477  0.00609856  0.06586216  0.02526809 -0.03502719 -0.20708641\n",
      "  0.19982515  0.09094613  0.14678659 -0.07155637  0.0901817   0.23358266\n",
      " -0.01864071 -0.11561133  0.01380229 -0.09846357]\n",
      "[ 0.0799747   0.12939157 -0.18421012 -0.05992826 -0.00305326 -0.01809876\n",
      " -0.00634128 -0.1364359  -0.04225963  0.08064909 -0.04244153  0.15251459\n",
      "  0.03425794 -0.1651119  -0.02536717  0.0496128  -0.051722   -0.12181891\n",
      "  0.01338777 -0.12824838  0.02999774  0.0638065  -0.10440488 -0.02036898\n",
      " -0.10731959 -0.01403732  0.14159785 -0.04149115  0.05950525 -0.00565228\n",
      " -0.00242444  0.09564228  0.00829712 -0.0240432   0.03005045 -0.1226971\n",
      "  0.05151695 -0.04958177 -0.047559   -0.01615712 -0.00905507  0.02891471\n",
      " -0.09577401 -0.09131158 -0.06428502 -0.21439005  0.13357662 -0.17127554\n",
      " -0.01029859 -0.05974706 -0.08333227 -0.09964728 -0.02415186 -0.17214072\n",
      "  0.0542463  -0.1943456  -0.00163948 -0.18247408  0.07477631 -0.20066506\n",
      "  0.01147197  0.09725471  0.09976479 -0.00997506 -0.08153301  0.09521528\n",
      " -0.16575034  0.16586308  0.021587    0.01727556 -0.0753464  -0.137323\n",
      " -0.21200874  0.14149     0.05138329 -0.12504135 -0.05188271  0.09395605\n",
      "  0.14999369  0.032974    0.07136475 -0.0410281  -0.03700373  0.06228878\n",
      " -0.09194421  0.0285522  -0.05049186 -0.03837499  0.02324296 -0.06199018\n",
      "  0.18098898  0.11728749  0.17029728 -0.04294557  0.06058008  0.26562172\n",
      "  0.09128565 -0.07653309 -0.09445893 -0.09925646]\n",
      "[ 0.03273183  0.11820611  0.00909698  0.05798915  0.01914269 -0.05666862\n",
      " -0.08885849 -0.04067222 -0.10129283  0.16195756 -0.176349    0.00056008\n",
      "  0.02757815 -0.1981219  -0.06266444  0.02258042 -0.02276145 -0.14985186\n",
      "  0.03508568 -0.16430199  0.04003928  0.07222886 -0.02898002  0.03046425\n",
      " -0.07971869 -0.03992275  0.11990777 -0.07679479  0.00642689  0.00912616\n",
      " -0.00409179 -0.06217698  0.06694046 -0.08595612  0.09538097 -0.10350238\n",
      " -0.04426024  0.0478778  -0.02117831  0.06518999 -0.02219023  0.07663205\n",
      "  0.00665181 -0.0342236  -0.11221059 -0.19755346  0.11407794 -0.19243759\n",
      " -0.02177497 -0.04046194 -0.02777208 -0.11872577  0.07427718 -0.17790952\n",
      "  0.0698202  -0.19290353  0.02148748  0.05018215  0.05883338 -0.24797562\n",
      "  0.00657295  0.05320943 -0.06440955  0.03807106 -0.08230669  0.1602379\n",
      " -0.15529366  0.1619569   0.08264519  0.06620025  0.0875053  -0.09382972\n",
      " -0.20884442  0.06410739  0.0719176  -0.06596845  0.01977249  0.04456148\n",
      "  0.11879111  0.1666979   0.12807804 -0.03160605  0.09103514  0.07051589\n",
      " -0.01292594 -0.04892229 -0.02243778  0.07556568  0.00471277 -0.22208217\n",
      "  0.20037465  0.14267458  0.1144262  -0.05185077  0.00095001  0.20907077\n",
      "  0.01248874 -0.07808653 -0.10294995 -0.0646708 ]\n",
      "[ 0.0593675   0.1386835  -0.05573012 -0.03605531  0.02210036  0.05924349\n",
      "  0.02042795 -0.07866568 -0.03849051  0.13975918 -0.08914112 -0.00137311\n",
      " -0.01587518 -0.13278624 -0.08902428 -0.01387216 -0.10177817 -0.165646\n",
      "  0.11092638 -0.10040306 -0.08639381  0.05597922 -0.05039743 -0.03290323\n",
      " -0.07147858  0.00432439  0.12020404 -0.11253438  0.0889363   0.01590252\n",
      " -0.00142018  0.04490064  0.03391727 -0.02668086 -0.01952503 -0.18405166\n",
      "  0.02954703  0.12773204 -0.00250865  0.05737708  0.00732296  0.02866021\n",
      " -0.02444088 -0.11446924 -0.14847471 -0.30021447 -0.04817037 -0.08628099\n",
      "  0.1277354   0.03765013 -0.02913776 -0.0716426   0.0414683  -0.09190313\n",
      "  0.05726025 -0.1999531  -0.06249407 -0.04911023  0.08377007 -0.23176305\n",
      "  0.02607965  0.08514242  0.03345312  0.06329946 -0.08527511  0.21550293\n",
      " -0.1540278   0.18043059  0.03029808  0.075735    0.03610835 -0.04723234\n",
      " -0.19687593  0.0677364  -0.06012673 -0.11943626 -0.03116401  0.06287544\n",
      "  0.09342632  0.13692853  0.12345979  0.01814615 -0.08575526  0.0583746\n",
      " -0.02504981 -0.12230443 -0.024125   -0.03792518  0.05739908 -0.1271479\n",
      "  0.25848433  0.14358643  0.05376413 -0.03122524 -0.0004814   0.13635032\n",
      "  0.0137434  -0.04127955 -0.12073248 -0.19107229]\n",
      "[ 0.09911276  0.09592478 -0.13180245  0.01610201 -0.00441401 -0.02847613\n",
      "  0.05334274 -0.09944876 -0.07826608  0.11762118 -0.11226098  0.04325667\n",
      "  0.06472711 -0.16970931 -0.14689372  0.02215706  0.03224844 -0.05615655\n",
      "  0.00451995 -0.10542299 -0.03388298  0.01463211 -0.18973319 -0.09449545\n",
      " -0.05693094 -0.11119211  0.11350045 -0.0052385   0.08860525 -0.07523583\n",
      "  0.03467597  0.11527667  0.01749775  0.02332821  0.00344046 -0.06781525\n",
      " -0.04453567  0.03966567 -0.03465233  0.00907314 -0.05562321  0.09603143\n",
      "  0.0763496  -0.03318585 -0.16579571 -0.23011073  0.05119214 -0.1896314\n",
      "  0.06299587 -0.05224982 -0.07473869 -0.05653753  0.04003142 -0.12050328\n",
      "  0.01694861 -0.09694479 -0.09145866 -0.09585846  0.17845726 -0.2025121\n",
      "  0.10075165  0.10096131  0.02486903  0.1323787  -0.11063806  0.1707772\n",
      " -0.12401444  0.13733    -0.11471751  0.03171582  0.00714067 -0.16966295\n",
      " -0.2821451   0.10371806  0.0406101  -0.12527741  0.01107618  0.0061664\n",
      "  0.11432806  0.07466689  0.12327033 -0.01611796 -0.05751842  0.07797454\n",
      " -0.06504668 -0.024295   -0.08747729 -0.03507589  0.06331278 -0.07186946\n",
      "  0.22081682  0.09515496  0.09220377 -0.03334452  0.01582882  0.18311061\n",
      " -0.05035876 -0.08743891  0.02587672 -0.13583773]\n",
      "[ 0.03561494  0.01235725 -0.09298966 -0.01543327 -0.03550321 -0.00695692\n",
      " -0.10601584 -0.15030727 -0.08896536  0.13643059 -0.11099216  0.08721821\n",
      " -0.01154214 -0.07493308 -0.10310072 -0.09089839  0.01944714 -0.01501216\n",
      "  0.01564383 -0.13696991 -0.00402516  0.11917337 -0.0657922  -0.03328863\n",
      "  0.00949482  0.05419246  0.08852284  0.03233484  0.05652101  0.02158789\n",
      "  0.06131458 -0.01268389  0.07574502 -0.00868401  0.13339636 -0.10686828\n",
      " -0.01264527 -0.06866868 -0.14310572 -0.11548911  0.1142524   0.01726853\n",
      " -0.06837791 -0.06589817 -0.01614233 -0.25726655  0.11964589 -0.24124198\n",
      " -0.13767067 -0.10388867 -0.05238054 -0.12018202  0.12197734 -0.17485079\n",
      "  0.03142661 -0.1495629  -0.03722084 -0.03535826  0.09085815 -0.20271166\n",
      " -0.00115613  0.13955003  0.03393031  0.02784601 -0.0029575   0.04765772\n",
      " -0.23649377  0.20105635 -0.02781089  0.04950138 -0.08900765 -0.23402534\n",
      " -0.13670543  0.15940274 -0.02529353 -0.06131864 -0.02693815  0.04076651\n",
      "  0.05890304  0.04532221  0.06752071  0.06221373 -0.0338783   0.00715464\n",
      " -0.03387615  0.10326462 -0.04123172 -0.04377074  0.08894601 -0.11397673\n",
      "  0.13595542  0.05471871  0.10189881 -0.05545415  0.1139022   0.2568574\n",
      "  0.00064836 -0.02601904 -0.11902617 -0.06988434]\n",
      "[ 0.08016875  0.17195424  0.03579612 -0.09904203  0.0562794  -0.09531698\n",
      " -0.06013106 -0.00927323  0.03434432  0.17050329 -0.05218703 -0.10007375\n",
      " -0.15540949 -0.04067043 -0.15436174 -0.01828696 -0.01493032 -0.10083236\n",
      "  0.0806051   0.00079558 -0.0581178   0.10451713 -0.09214859 -0.00161032\n",
      " -0.11391445 -0.00889235  0.1311375   0.04317926  0.04842207 -0.0389694\n",
      " -0.00419836  0.00250534  0.02857463 -0.05947611 -0.12334663 -0.06222554\n",
      " -0.17042272 -0.10295665 -0.00075382 -0.01681733  0.068313    0.17585368\n",
      " -0.10189181  0.05758351 -0.16413198 -0.11385315  0.054149   -0.2342785\n",
      "  0.13842404  0.03259564  0.00327355 -0.03003274 -0.00473741 -0.14878044\n",
      "  0.04649816 -0.17744367 -0.00560816  0.06075713 -0.01950981 -0.21513246\n",
      "  0.02489614 -0.01182618  0.03318509  0.07666972 -0.12535965  0.14353937\n",
      " -0.12873384  0.18704109  0.05680561  0.16243409  0.04125709 -0.15889162\n",
      " -0.04876076  0.07812712 -0.0380315  -0.12706174 -0.04440194  0.05361535\n",
      "  0.07555621  0.14153697  0.10286143 -0.1312275  -0.02868886  0.01438402\n",
      "  0.06298571  0.00623197  0.03575949 -0.03832373 -0.09029478 -0.17986043\n",
      "  0.1304572   0.11832949  0.12450199 -0.10622305  0.03443096  0.2763535\n",
      " -0.09019066 -0.00596096 -0.04246041 -0.01876654]\n",
      "[-0.0223239   0.09711553 -0.02179445  0.11724993  0.05162766 -0.12247677\n",
      " -0.04951472  0.08336893 -0.01999117  0.14534499 -0.17036404  0.06917395\n",
      "  0.09537154 -0.068588    0.04156233 -0.00777887 -0.04459245 -0.11086998\n",
      "  0.16077183 -0.09344608  0.05517798  0.04029183 -0.08729143  0.04628366\n",
      " -0.08672611  0.0882744   0.11348189 -0.09026129 -0.03624869  0.03148127\n",
      " -0.05517574  0.0640901   0.07773791 -0.0794931   0.13502222 -0.08584082\n",
      " -0.01066112  0.06043686 -0.04038518  0.1032106  -0.01180701 -0.0111069\n",
      " -0.0098544  -0.08121207 -0.09950029 -0.36643156  0.04144491 -0.03707819\n",
      " -0.05127849  0.05425747 -0.03812612 -0.12493792 -0.01645735 -0.13987327\n",
      "  0.01938578 -0.17970096  0.06580292  0.04048797  0.05143916 -0.10760959\n",
      "  0.00983226  0.09469688 -0.04718786  0.02684332 -0.07774054  0.11548962\n",
      " -0.01709695  0.12315161  0.08946684  0.16211633 -0.14845926 -0.17268772\n",
      " -0.15977427  0.1352655   0.05277036 -0.20823036  0.04906302  0.09220158\n",
      "  0.00111458  0.09343103  0.16048439  0.05497484 -0.01631386  0.05548774\n",
      " -0.03581628 -0.12794837  0.05003562 -0.00796435 -0.07715999 -0.03185589\n",
      "  0.1841244   0.09485181  0.17885171 -0.04832787  0.00207099  0.24966821\n",
      "  0.10156578  0.00082885 -0.09714421 -0.06302472]\n",
      "[ 0.04351173  0.18223199  0.00620125 -0.06512189  0.04386139 -0.0961655\n",
      "  0.0730117   0.04863542 -0.04461595  0.08030013 -0.02100327  0.05173529\n",
      " -0.032987   -0.0611985  -0.08208544  0.00773333 -0.13383445 -0.11831403\n",
      "  0.16853128 -0.11665323 -0.10007111  0.05615327 -0.02051464 -0.12744653\n",
      " -0.11561278  0.00089839  0.06093027 -0.06564395  0.05109998  0.08201431\n",
      " -0.09912071  0.09046414  0.05686438 -0.03964774  0.04331314 -0.16250187\n",
      "  0.01824616  0.18214168  0.00513155 -0.04146028 -0.03130819 -0.02525905\n",
      " -0.10262953 -0.12323857 -0.02543508 -0.25218323 -0.01104855 -0.04262775\n",
      "  0.10023306  0.1480112  -0.05018273 -0.02226515  0.05990225 -0.11111613\n",
      "  0.09651419 -0.20104998 -0.06353609  0.02853556  0.04232325 -0.18161598\n",
      " -0.01391878  0.08539612  0.0057079   0.06565993 -0.17882033  0.23674949\n",
      " -0.11898619  0.1640856   0.06262892  0.07031718  0.07700036 -0.02342607\n",
      " -0.09995931  0.02070084 -0.11191948 -0.10474622  0.03618463  0.05324244\n",
      "  0.04453962  0.16602482  0.1156382   0.07794788 -0.1452411   0.04595459\n",
      " -0.03517734 -0.10800934  0.00929123  0.02626633 -0.07723075 -0.15188359\n",
      "  0.25106087  0.11165579  0.11726221 -0.0435899   0.07148523  0.0913509\n",
      " -0.02125093 -0.02249386 -0.10193687 -0.19680756]\n"
     ]
    }
   ],
   "source": [
    "#  In ra 5 câu có điểm cao nhất / Print the top 5 sentences\n",
    "# for i in range(2):\n",
    "#     print(ranked_sentences[i][1])\n",
    "# In ra các câucos trọng số lớn hơn 1.05 lần trọng số trung bình / Print sentences with weight greater than 1.2 times the average weight\n",
    "for i in range(len(ranked_sentences)):\n",
    "    if ranked_sentences[i][0] > 1.05 * weighted_avg.mean():\n",
    "        print(ranked_sentences[i][1])\n"
   ]
  },
  {
   "cell_type": "code",
   "execution_count": 11,
   "metadata": {},
   "outputs": [
    {
     "name": "stdout",
     "output_type": "stream",
     "text": [
      " khả năng cấm khẩu không hát nên lời là hoàn toàn có thể xảy ra. giữa tâm bão dư luận mỹ linh đã thẳng thắn lên tiếng trước những lời chê bai về việc phần trình diễn quốc ca của mình đã qua rồi thời chiến tranh bom đạn nên tôi hát quốc ca với thông điệp của thời bình với tinh thần hàn gắn và chia sẻ yêu thương chứ không hừng hực kháng chiến như ngày nào.   hồng nhung nhận xét. nhiều khán giả và nhạc sĩ cho rằng mỹ linh hát theo phong cách opera đã làm mất đi sự bi hùng của quốc ca.  mặt khác một bộ phận khán giả lẫn giới chuyên môn cho rằng cái mới bao giờ cũng gây tranh cãi và việc hát quốc ca theo phong cách opera là rất hay phù hợp trong điều kiện phải hát quốc ca không có nhạc nền và hợp xướng. .  vì việc đứng hát trực tiếp không nhạc đệm không hợp xướng trước tổng thống obama  người đàn ông quyền lực nhất thế giới trước hàng trăm ống kính máy quay được phát trực tiếp không chỉ trong nước mà còn ở quốc tế đòi hỏi một bản lĩnh sân khấu thật sự vững vàng. cách đây ít phút diva hồng nhung đã đăng tải một dòng trạng thái dài lên tiếng bảo vệ cho mỹ linh  người đồng nghiệp đồng thời cũng là người bạn thân thiết của cô.  nữ ca sĩ cũng thừa nhận cô đã gặp tai nạn nghề nghiệp tại phần trình diễn này bởi lên cô bắt tone hơi thấp.  theo cô bống câu chuyện này đã bị thổi phồng quá xa trong những tranh cãi gay gắt mang tính tiêu cực.  mỹ linh cảm thấy rất tiếc vì có thể làm tốt hơn nếu có cơ hội hát lại.  tuy nhiên tiết mục trình bày không nhạc đệm không dàn bè của ca sỹ mỹ linh vấp phải luồng ý kiến trái chiều của dư luận và truyền thông. diva hồng nhung cho rằng việc chọn mỹ linh hát quốc ca trước bài phát biểu của tổng thống obama là lựa chọn tối ưu. .  nên nếu không phải là một ca sĩ đẳng cấp cỡ mỹ linh thì.  đáng lẽ ca sĩ mỹ linh không đáng bị mọi người vùi dập như thế vì mỹ linh đã hát với một trách nhiệm nghiêm túc thể hiện sự trân trọng tình cảm yêu nước của mình trong từng câu hát không sai một từ không chênh một nốt. hồng nhung cho biết chị rất buồn vì chuyện phê bình chê bai gay gắt vượt ra quá xa trong khung văn hóa ứng xử cho phép của một số đông dành cho mỹ linh đã trở nên không công bằng rồi đến mức ác cố ý vùi dập. ngày 2405 vừa qua mỹ linh đã vinh dự trình bày quốc ca việt nam trước bài phát biểu của tổng thống mỹ obama tại trung tâm hội nghị quốc gia. \n"
     ]
    }
   ],
   "source": [
    "#  Tạo ra văn bản tóm tắt với vector tương ứng / Create a summary text with the corresponding vector\n",
    "summary_wv = ''\n",
    "for i in range(len(ranked_sentences)):\n",
    "    if ranked_sentences[i][0] > 1.05 * weighted_avg.mean():\n",
    "        summary_wv += sentences[np.where(sentences_vec == ranked_sentences[i][1])[0][0]][0] + '. '\n",
    "print(summary_wv)\n"
   ]
  },
  {
   "cell_type": "markdown",
   "metadata": {},
   "source": [
    "# Sử dụng TFIDF và phương pháp cosine"
   ]
  },
  {
   "cell_type": "code",
   "execution_count": 12,
   "metadata": {},
   "outputs": [
    {
     "name": "stdout",
     "output_type": "stream",
     "text": [
      "nhiều khán giả và nhạc sĩ cho rằng mỹ linh hát theo phong cách opera đã làm mất đi sự bi hùng của quốc ca.  đáng lẽ ca sĩ mỹ linh không đáng bị mọi người vùi dập như thế vì mỹ linh đã hát với một trách nhiệm nghiêm túc thể hiện sự trân trọng tình cảm yêu nước của mình trong từng câu hát không sai một từ không chênh một nốt.  mặt khác một bộ phận khán giả lẫn giới chuyên môn cho rằng cái mới bao giờ cũng gây tranh cãi và việc hát quốc ca theo phong cách opera là rất hay phù hợp trong điều kiện phải hát quốc ca không có nhạc nền và hợp xướng. giữa tâm bão dư luận mỹ linh đã thẳng thắn lên tiếng trước những lời chê bai về việc phần trình diễn quốc ca của mình đã qua rồi thời chiến tranh bom đạn nên tôi hát quốc ca với thông điệp của thời bình với tinh thần hàn gắn và chia sẻ yêu thương chứ không hừng hực kháng chiến như ngày nào. diva hồng nhung cho rằng việc chọn mỹ linh hát quốc ca trước bài phát biểu của tổng thống obama là lựa chọn tối ưu. cách đây ít phút diva hồng nhung đã đăng tải một dòng trạng thái dài lên tiếng bảo vệ cho mỹ linh  người đồng nghiệp đồng thời cũng là người bạn thân thiết của cô. kết lại tâm thư dài cô bống hồng nhung không quên dành lời động viên cho người đồng nghiệp cũng là người bạn thân thiết của mình tôi hãnh diện vì mỹ linh một tài năng đủ lớn để sống vượt lên mọi vỏ bọc bên ngoài trung thành với giá trị nhân văn mà mình tin tưởng mặc những thị phi. ngày 2405 vừa qua mỹ linh đã vinh dự trình bày quốc ca việt nam trước bài phát biểu của tổng thống mỹ obama tại trung tâm hội nghị quốc gia.  nên nếu không phải là một ca sĩ đẳng cấp cỡ mỹ linh thì.  đã lên tiếng ủng hộ và bảo vệ màn trình diễn quốc ca phá cách mới mẻ của mỹ linh. hồng nhung cho biết chị rất buồn vì chuyện phê bình chê bai gay gắt vượt ra quá xa trong khung văn hóa ứng xử cho phép của một số đông dành cho mỹ linh đã trở nên không công bằng rồi đến mức ác cố ý vùi dập.  tuy nhiên tiết mục trình bày không nhạc đệm không dàn bè của ca sỹ mỹ linh vấp phải luồng ý kiến trái chiều của dư luận và truyền thông. trước hồng nhung không ít nhạc sĩ như nhạc sĩ hồ hoài anh nhạc sĩ thanh phương nhạc sĩ trí minh nhạc sĩ ngọc châu ca sĩ thái thùy linh.  vì việc đứng hát trực tiếp không nhạc đệm không hợp xướng trước tổng thống obama  người đàn ông quyền lực nhất thế giới trước hàng trăm ống kính máy quay được phát trực tiếp không chỉ trong nước mà còn ở quốc tế đòi hỏi một bản lĩnh sân khấu thật sự vững vàng.  nữ ca sĩ cũng thừa nhận cô đã gặp tai nạn nghề nghiệp tại phần trình diễn này bởi lên cô bắt tone hơi thấp. \n"
     ]
    }
   ],
   "source": [
    "from sklearn.feature_extraction.text import TfidfVectorizer\n",
    "from sklearn.metrics.pairwise import cosine_similarity\n",
    "\n",
    "#  Tạo ma trận tf-idf / Create tf-idf matrix\n",
    "vectorizer = TfidfVectorizer()\n",
    "tf_idf_matrix = vectorizer.fit_transform([s[0] for s in sentences])\n",
    "\n",
    "#  Tính độ tương tự giữa các câu / Calculate the similarity between sentences\n",
    "sim_mat = cosine_similarity(tf_idf_matrix, tf_idf_matrix)\n",
    "\n",
    "#  Tính điểm cho từng câu / Calculate the score for each sentence\n",
    "sim_scores = sim_mat.sum(axis=0)\n",
    "ranked_sentences = sorted(((sim_scores[i],s) for i,s in enumerate(sentences)), reverse=True)\n",
    "\n",
    "#  Chuyển các câu có điểm cao hơn 1.2 lần trọng số trung bình thành văn bản tóm tắt / Convert sentences with scores greater than 1.2 times the average weight to a summary text\n",
    "summary_tfvec = ''\n",
    "for i in range(len(ranked_sentences)):\n",
    "    if ranked_sentences[i][0] > 1.05 * sim_scores.mean():\n",
    "        summary_tfvec += ranked_sentences[i][1][0] + '. '\n",
    "\n",
    "\n",
    "print(summary_tfvec)\n",
    "\n"
   ]
  },
  {
   "cell_type": "markdown",
   "metadata": {},
   "source": [
    "# Sử dụng Count vector thay cho tfidfvector"
   ]
  },
  {
   "cell_type": "code",
   "execution_count": 13,
   "metadata": {},
   "outputs": [
    {
     "name": "stdout",
     "output_type": "stream",
     "text": [
      " đáng lẽ ca sĩ mỹ linh không đáng bị mọi người vùi dập như thế vì mỹ linh đã hát với một trách nhiệm nghiêm túc thể hiện sự trân trọng tình cảm yêu nước của mình trong từng câu hát không sai một từ không chênh một nốt. nhiều khán giả và nhạc sĩ cho rằng mỹ linh hát theo phong cách opera đã làm mất đi sự bi hùng của quốc ca. giữa tâm bão dư luận mỹ linh đã thẳng thắn lên tiếng trước những lời chê bai về việc phần trình diễn quốc ca của mình đã qua rồi thời chiến tranh bom đạn nên tôi hát quốc ca với thông điệp của thời bình với tinh thần hàn gắn và chia sẻ yêu thương chứ không hừng hực kháng chiến như ngày nào. diva hồng nhung cho rằng việc chọn mỹ linh hát quốc ca trước bài phát biểu của tổng thống obama là lựa chọn tối ưu.  nên nếu không phải là một ca sĩ đẳng cấp cỡ mỹ linh thì.  đã lên tiếng ủng hộ và bảo vệ màn trình diễn quốc ca phá cách mới mẻ của mỹ linh. ngày 2405 vừa qua mỹ linh đã vinh dự trình bày quốc ca việt nam trước bài phát biểu của tổng thống mỹ obama tại trung tâm hội nghị quốc gia.  mặt khác một bộ phận khán giả lẫn giới chuyên môn cho rằng cái mới bao giờ cũng gây tranh cãi và việc hát quốc ca theo phong cách opera là rất hay phù hợp trong điều kiện phải hát quốc ca không có nhạc nền và hợp xướng. cách đây ít phút diva hồng nhung đã đăng tải một dòng trạng thái dài lên tiếng bảo vệ cho mỹ linh  người đồng nghiệp đồng thời cũng là người bạn thân thiết của cô.  tuy nhiên tiết mục trình bày không nhạc đệm không dàn bè của ca sỹ mỹ linh vấp phải luồng ý kiến trái chiều của dư luận và truyền thông. hồng nhung cho biết chị rất buồn vì chuyện phê bình chê bai gay gắt vượt ra quá xa trong khung văn hóa ứng xử cho phép của một số đông dành cho mỹ linh đã trở nên không công bằng rồi đến mức ác cố ý vùi dập. kết lại tâm thư dài cô bống hồng nhung không quên dành lời động viên cho người đồng nghiệp cũng là người bạn thân thiết của mình tôi hãnh diện vì mỹ linh một tài năng đủ lớn để sống vượt lên mọi vỏ bọc bên ngoài trung thành với giá trị nhân văn mà mình tin tưởng mặc những thị phi.  vì việc đứng hát trực tiếp không nhạc đệm không hợp xướng trước tổng thống obama  người đàn ông quyền lực nhất thế giới trước hàng trăm ống kính máy quay được phát trực tiếp không chỉ trong nước mà còn ở quốc tế đòi hỏi một bản lĩnh sân khấu thật sự vững vàng. \n"
     ]
    }
   ],
   "source": [
    "from sklearn.feature_extraction.text import CountVectorizer\n",
    "from sklearn.metrics.pairwise import cosine_similarity\n",
    "\n",
    "#  Tạo ma trận tf-idf / Create tf-idf matrix\n",
    "vectorizer = CountVectorizer()\n",
    "tf_idf_matrix = vectorizer.fit_transform([s[0] for s in sentences])\n",
    "\n",
    "#  Tính độ tương tự giữa các câu / Calculate the similarity between sentences\n",
    "sim_mat = cosine_similarity(tf_idf_matrix, tf_idf_matrix)\n",
    "\n",
    "#  Tính điểm cho từng câu / Calculate the score for each sentence\n",
    "sim_scores = sim_mat.sum(axis=0)\n",
    "ranked_sentences = sorted(((sim_scores[i],s) for i,s in enumerate(sentences)), reverse=True)\n",
    "\n",
    "#  Chuyển các câu có điểm cao hơn 1.2 lần trọng số trung bình thành văn bản tóm tắt / Convert sentences with scores greater than 1.2 times the average weight to a summary text\n",
    "summary_countvec = ''\n",
    "for i in range(len(ranked_sentences)):\n",
    "    if ranked_sentences[i][0] > 1.05 * sim_scores.mean():\n",
    "        summary_countvec += ranked_sentences[i][1][0] + '. '\n",
    "\n",
    "print(summary_countvec)"
   ]
  },
  {
   "cell_type": "markdown",
   "metadata": {},
   "source": [
    "# Sử dụng model kmeans dự đoán"
   ]
  },
  {
   "cell_type": "code",
   "execution_count": 14,
   "metadata": {},
   "outputs": [
    {
     "name": "stdout",
     "output_type": "stream",
     "text": [
      "ngày 2405 vừa qua mỹ linh đã vinh dự trình bày quốc ca việt nam trước bài phát biểu của tổng thống mỹ obama tại trung tâm hội nghị quốc gia. . giữa tâm bão dư luận mỹ linh đã thẳng thắn lên tiếng trước những lời chê bai về việc phần trình diễn quốc ca của mình đã qua rồi thời chiến tranh bom đạn nên tôi hát quốc ca với thông điệp của thời bình với tinh thần hàn gắn và chia sẻ yêu thương chứ không hừng hực kháng chiến như ngày nào.  vì việc đứng hát trực tiếp không nhạc đệm không hợp xướng trước tổng thống obama  người đàn ông quyền lực nhất thế giới trước hàng trăm ống kính máy quay được phát trực tiếp không chỉ trong nước mà còn ở quốc tế đòi hỏi một bản lĩnh sân khấu thật sự vững vàng.  mặt khác một bộ phận khán giả lẫn giới chuyên môn cho rằng cái mới bao giờ cũng gây tranh cãi và việc hát quốc ca theo phong cách opera là rất hay phù hợp trong điều kiện phải hát quốc ca không có nhạc nền và hợp xướng.  đáng lẽ ca sĩ mỹ linh không đáng bị mọi người vùi dập như thế vì mỹ linh đã hát với một trách nhiệm nghiêm túc thể hiện sự trân trọng tình cảm yêu nước của mình trong từng câu hát không sai một từ không chênh một nốt. kết lại tâm thư dài cô bống hồng nhung không quên dành lời động viên cho người đồng nghiệp cũng là người bạn thân thiết của mình tôi hãnh diện vì mỹ linh một tài năng đủ lớn để sống vượt lên mọi vỏ bọc bên ngoài trung thành với giá trị nhân văn mà mình tin tưởng mặc những thị phi. trước hồng nhung không ít nhạc sĩ như nhạc sĩ hồ hoài anh nhạc sĩ thanh phương nhạc sĩ trí minh nhạc sĩ ngọc châu ca sĩ thái thùy linh.  nữ ca sĩ cũng thừa nhận cô đã gặp tai nạn nghề nghiệp tại phần trình diễn này bởi lên cô bắt tone hơi thấp. cách đây ít phút diva hồng nhung đã đăng tải một dòng trạng thái dài lên tiếng bảo vệ cho mỹ linh  người đồng nghiệp đồng thời cũng là người bạn thân thiết của cô. hồng nhung cho biết chị rất buồn vì chuyện phê bình chê bai gay gắt vượt ra quá xa trong khung văn hóa ứng xử cho phép của một số đông dành cho mỹ linh đã trở nên không công bằng rồi đến mức ác cố ý vùi dập.  tuy nhiên tiết mục trình bày không nhạc đệm không dàn bè của ca sỹ mỹ linh vấp phải luồng ý kiến trái chiều của dư luận và truyền thông. \n"
     ]
    }
   ],
   "source": [
    "from sklearn.cluster import KMeans\n",
    "from sklearn.metrics import pairwise_distances_argmin_min\n",
    "\n",
    "#  Tạo ma trận tf-idf / Create tf-idf matrix\n",
    "vectorizer_C = CountVectorizer()\n",
    "tf_idf_matrix_C = vectorizer_C.fit_transform([s[0] for s in sentences])\n",
    "\n",
    "#  Tạo model KMeans / Create KMeans model\n",
    "kmeans = KMeans(n_clusters=int(len(sentences)/2), random_state=0).fit(tf_idf_matrix_C)\n",
    "\n",
    "#  Tìm ra các câu có cùng cluster / Find sentences with the same cluster\n",
    "closest, _ = pairwise_distances_argmin_min(kmeans.cluster_centers_, tf_idf_matrix_C)\n",
    "\n",
    "#  Chuyển các câu có cùng cluster thành văn bản tóm tắt / Convert sentences with the same cluster to a summary text\n",
    "summary_KM_C = ''\n",
    "for i in closest:\n",
    "    summary_KM_C += sentences[i][0] + '. '\n",
    "\n",
    "print(summary_KM_C)"
   ]
  },
  {
   "cell_type": "code",
   "execution_count": 15,
   "metadata": {},
   "outputs": [
    {
     "name": "stdout",
     "output_type": "stream",
     "text": [
      " vì việc đứng hát trực tiếp không nhạc đệm không hợp xướng trước tổng thống obama  người đàn ông quyền lực nhất thế giới trước hàng trăm ống kính máy quay được phát trực tiếp không chỉ trong nước mà còn ở quốc tế đòi hỏi một bản lĩnh sân khấu thật sự vững vàng. ngày 2405 vừa qua mỹ linh đã vinh dự trình bày quốc ca việt nam trước bài phát biểu của tổng thống mỹ obama tại trung tâm hội nghị quốc gia. trước hồng nhung không ít nhạc sĩ như nhạc sĩ hồ hoài anh nhạc sĩ thanh phương nhạc sĩ trí minh nhạc sĩ ngọc châu ca sĩ thái thùy linh. .   hồng nhung nhận xét.  mỹ linh cảm thấy rất tiếc vì có thể làm tốt hơn nếu có cơ hội hát lại.  khả năng cấm khẩu không hát nên lời là hoàn toàn có thể xảy ra. hồng nhung cho biết chị rất buồn vì chuyện phê bình chê bai gay gắt vượt ra quá xa trong khung văn hóa ứng xử cho phép của một số đông dành cho mỹ linh đã trở nên không công bằng rồi đến mức ác cố ý vùi dập. giữa tâm bão dư luận mỹ linh đã thẳng thắn lên tiếng trước những lời chê bai về việc phần trình diễn quốc ca của mình đã qua rồi thời chiến tranh bom đạn nên tôi hát quốc ca với thông điệp của thời bình với tinh thần hàn gắn và chia sẻ yêu thương chứ không hừng hực kháng chiến như ngày nào.  theo cô bống câu chuyện này đã bị thổi phồng quá xa trong những tranh cãi gay gắt mang tính tiêu cực. cách đây ít phút diva hồng nhung đã đăng tải một dòng trạng thái dài lên tiếng bảo vệ cho mỹ linh  người đồng nghiệp đồng thời cũng là người bạn thân thiết của cô.  nữ ca sĩ cũng thừa nhận cô đã gặp tai nạn nghề nghiệp tại phần trình diễn này bởi lên cô bắt tone hơi thấp. \n"
     ]
    }
   ],
   "source": [
    "#  Tạo ma trận tf-idf / Create tf-idf matrix\n",
    "vectorizer_T = TfidfVectorizer()\n",
    "tf_idf_matrix_T = vectorizer_T.fit_transform([s[0] for s in sentences])\n",
    "\n",
    "#  Tạo model KMeans / Create KMeans model\n",
    "kmeans = KMeans(n_clusters=int(len(sentences)/2), random_state=0).fit(tf_idf_matrix_T)\n",
    "\n",
    "#  Tìm ra các câu có cùng cluster / Find sentences with the same cluster\n",
    "closest, _ = pairwise_distances_argmin_min(kmeans.cluster_centers_, tf_idf_matrix_T)\n",
    "\n",
    "#  Chuyển các câu có cùng cluster thành văn bản tóm tắt / Convert sentences with the same cluster to a summary text\n",
    "summary_KM_T = ''\n",
    "for i in closest:\n",
    "    summary_KM_T += sentences[i][0] + '. '\n",
    "\n",
    "print(summary_KM_T)\n"
   ]
  },
  {
   "cell_type": "code",
   "execution_count": 16,
   "metadata": {},
   "outputs": [
    {
     "name": "stdout",
     "output_type": "stream",
     "text": [
      " mỹ linh cảm thấy rất tiếc vì có thể làm tốt hơn nếu có cơ hội hát lại.  khả năng cấm khẩu không hát nên lời là hoàn toàn có thể xảy ra. diva hồng nhung cho rằng việc chọn mỹ linh hát quốc ca trước bài phát biểu của tổng thống obama là lựa chọn tối ưu. .  nữ ca sĩ cũng thừa nhận cô đã gặp tai nạn nghề nghiệp tại phần trình diễn này bởi lên cô bắt tone hơi thấp. . hồng nhung cho biết chị rất buồn vì chuyện phê bình chê bai gay gắt vượt ra quá xa trong khung văn hóa ứng xử cho phép của một số đông dành cho mỹ linh đã trở nên không công bằng rồi đến mức ác cố ý vùi dập.  đáng lẽ ca sĩ mỹ linh không đáng bị mọi người vùi dập như thế vì mỹ linh đã hát với một trách nhiệm nghiêm túc thể hiện sự trân trọng tình cảm yêu nước của mình trong từng câu hát không sai một từ không chênh một nốt.  nên nếu không phải là một ca sĩ đẳng cấp cỡ mỹ linh thì. ngày 2405 vừa qua mỹ linh đã vinh dự trình bày quốc ca việt nam trước bài phát biểu của tổng thống mỹ obama tại trung tâm hội nghị quốc gia.  tuy nhiên tiết mục trình bày không nhạc đệm không dàn bè của ca sỹ mỹ linh vấp phải luồng ý kiến trái chiều của dư luận và truyền thông. cách đây ít phút diva hồng nhung đã đăng tải một dòng trạng thái dài lên tiếng bảo vệ cho mỹ linh  người đồng nghiệp đồng thời cũng là người bạn thân thiết của cô. \n"
     ]
    }
   ],
   "source": [
    "kmeans = KMeans(n_clusters=int(len(sentences)/2), random_state=0).fit(sentences_vec)\n",
    "\n",
    "#  Tìm ra các câu có cùng cluster / Find sentences with the same cluster\n",
    "closest, _ = pairwise_distances_argmin_min(kmeans.cluster_centers_, sentences_vec)\n",
    "\n",
    "#  Chuyển các câu có cùng cluster thành văn bản tóm tắt / Convert sentences with the same cluster to a summary text\n",
    "\n",
    "summary_KM_WV = ''\n",
    "for i in closest:\n",
    "    summary_KM_WV += sentences[i][0] + '. '\n",
    "\n",
    "print(summary_KM_WV)\n"
   ]
  },
  {
   "attachments": {},
   "cell_type": "markdown",
   "metadata": {},
   "source": [
    "# Lex_rank"
   ]
  },
  {
   "cell_type": "code",
   "execution_count": 17,
   "metadata": {},
   "outputs": [
    {
     "name": "stdout",
     "output_type": "stream",
     "text": [
      "Nhiều khán giả và nhạc sĩ cho rằng Mỹ Linh hát theo phong cách opera đã làm mất đi sự bi hùng của Quốc ca. Diva Hồng Nhung cho rằng việc chọn Mỹ Linh hát Quốc ca trước bài phát biểu của Tổng thống Obama ‘là lựa chọn tối ưu’.  Nên ‘Nếu không phải là một ca sĩ đẳng cấp cỡ Mỹ Linh thì. \n"
     ]
    }
   ],
   "source": [
    "from lexrank import LexRank\n",
    "sentences_ = content.split('.')\n",
    "lxr = LexRank(sentences_, stopwords=set(stop_words))\n",
    "\n",
    "summary_LexRank = ''\n",
    "for i in lxr.get_summary(sentences_, summary_size=3, threshold=None):\n",
    "    summary_LexRank += i + '. '\n",
    "print(summary_LexRank)"
   ]
  },
  {
   "attachments": {},
   "cell_type": "markdown",
   "metadata": {},
   "source": [
    "# Frequency"
   ]
  },
  {
   "cell_type": "code",
   "execution_count": 18,
   "metadata": {},
   "outputs": [
    {
     "name": "stdout",
     "output_type": "stream",
     "text": [
      "Mặt khác, một bộ phận khán giả lẫn giới chuyên môn cho rằng ‘cái mới bao giờ cũng gây tranh cãi’ và việc hát quốc ca theo phong cách opera là rất hay, phù hợp trong điều kiện phải hát Quốc ca không có nhạc nền và hợp xướng.Giữa tâm bão dư luận, Mỹ Linh đã thẳng thắn lên tiếng trước những lời chê bai về việc phần trình diễn Quốc ca của mình: \"Đã qua rồi thời chiến tranh bom đạn nên tôi hát quốc ca với thông điệp của thời bình, với tinh thần hàn gắn và chia sẻ yêu thương chứ không hừng hực kháng chiến như ngày nào\".Nên ‘Nếu không phải là một ca sĩ đẳng cấp cỡ Mỹ Linh thì... khả năng \"cấm khẩu\", không hát nên lời là hoàn toàn có thể xảy ra.’ – Hồng Nhung nhận xét.Hồng Nhung cho biết chị rất buồn vì ‘chuyện phê bình, chê bai gay gắt vượt ra quá xa trong khung văn hóa ứng xử cho phép của một số đông dành cho Mỹ Linh, đã trở nên không công bằng, rồi đến mức ác, cố ý vùi dập’.Đáng lẽ ca sĩ Mỹ Linh không đáng bị mọi người vùi dập như thế vì ‘Mỹ Linh đã hát với một trách nhiệm nghiêm túc, thể hiện sự trân trọng, tình cảm yêu nước của mình trong từng câu hát, không sai một từ, không chênh một nốt’.Kết lại tâm thư dài, cô Bống Hồng Nhung không quên dành lời động viên cho người đồng nghiệp, cũng là người bạn thân thiết của mình: ‘Tôi hãnh diện vì Mỹ Linh, một tài năng đủ lớn để sống vượt lên mọi vỏ bọc bên ngoài, trung thành với giá trị nhân văn mà mình tin tưởng, mặc những thị phi’.Trước Hồng Nhung, không ít nhạc sĩ như nhạc sĩ Hồ Hoài Anh, nhạc sĩ Thanh Phương, nhạc sĩ Trí Minh, nhạc sĩ Ngọc Châu, ca sĩ Thái Thùy Linh... đã lên tiếng ủng hộ và bảo vệ màn trình diễn Quốc ca phá cách mới mẻ của Mỹ Linh.\n"
     ]
    }
   ],
   "source": [
    "# from Method import frequency\n",
    "# frequency.solve(content)\n",
    "\n",
    "def solve(text):\n",
    "    words = word_tokenize(text) # Tách từ\n",
    "    freqTable = {}# Tạo bảng tần suất(là 1 cái dict)\n",
    "    for word in words:# Đếm số lần xuất hiện của từ trong văn bản\n",
    "        word = word.lower()# Chuyển về chữ thường\n",
    "        if word in stop_words:# Nếu từ là stop word thì bỏ qua\n",
    "            continue# Bỏ qua các từ không có nghĩa\n",
    "        if word in freqTable:# Nếu từ đã có trong bảng tần suất thì tăng số lần xuất hiện lên 1\n",
    "            freqTable[word] += 1\n",
    "        else :# Nếu từ chưa có trong bảng tần suất thì thêm vào bảng tần suất\n",
    "           freqTable[word] = 1\n",
    "\n",
    "    sentences = sent_tokenize(text)# Tách câu\n",
    "    sentenceValue = {}# Tạo bảng giá trị câu(là 1 cái dict)\n",
    "    for sentence in sentences:# Tính giá trị của câu\n",
    "        for word, freq in freqTable.items():# Duyệt từng từ trong bảng tần suất\n",
    "            if word in sentence.lower():# Nếu từ có trong câu thì cộng giá trị của từ vào giá trị của câu\n",
    "                if sentence in sentenceValue:# Nếu câu đã có trong bảng giá trị câu thì cộng giá trị của từ vào giá trị của câu\n",
    "                    sentenceValue[sentence] += freq\n",
    "                else :# Nếu câu chưa có trong bảng giá trị câu thì thêm vào bảng giá trị câu\n",
    "                    sentenceValue[sentence] = freq\n",
    "    \n",
    "    sumValues = 0# Tổng giá trị của tất cả các câu\n",
    "    for sentence in sentenceValue:# Tính tổng giá trị của tất cả các câu\n",
    "        sumValues += sentenceValue[sentence]# Cộng giá trị của từng câu vào tổng giá trị của tất cả các câu\n",
    "    average = int(sumValues / len(sentenceValue))# Tính giá trị trung bình của tất cả các câu\n",
    "\n",
    "    summary = ''# Chuỗi tóm tắt\n",
    "    for sentence in sentences:# Tạo tóm tắt\n",
    "        if (sentence in sentenceValue) and(sentenceValue[sentence] > (1.05 * average)):# Nếu giá trị của câu lớn hơn 1.2 lần giá trị trung bình  của tất cả các câu thì thêm vào tóm tắt với  \n",
    "            summary += \"\" + sentence# Thêm câu vào tóm tắt\n",
    "    return summary# Trả về tóm tắt\n",
    "\n",
    "summary_Frequency = solve(content)\n",
    "print(summary_Frequency)\n"
   ]
  },
  {
   "cell_type": "markdown",
   "metadata": {},
   "source": [
    "# Thực hiện tóm tắt lại văn bản thành 1 câu với tất cả cá mô hình đã làm"
   ]
  },
  {
   "cell_type": "code",
   "execution_count": 19,
   "metadata": {},
   "outputs": [
    {
     "name": "stdout",
     "output_type": "stream",
     "text": [
      "nhiều khán giả và nhạc sĩ cho rằng mỹ linh hát theo phong cách opera đã làm mất đi sự bi hùng của quốc ca.  đáng lẽ ca sĩ mỹ linh không đáng bị mọi người vùi dập như thế vì mỹ linh đã hát với một trách nhiệm nghiêm túc thể hiện sự trân trọng tình cảm yêu nước của mình trong từng câu hát không sai một từ không chênh một nốt.  mặt khác một bộ phận khán giả lẫn giới chuyên môn cho rằng cái mới bao giờ cũng gây tranh cãi và việc hát quốc ca theo phong cách opera là rất hay phù hợp trong điều kiện phải hát quốc ca không có nhạc nền và hợp xướng. \n"
     ]
    }
   ],
   "source": [
    "# Chuyển các summeries thành dạng list / Convert summeries to list\n",
    "summary_list = [summary_wv, summary_tfvec, summary_countvec, summary_KM_C, summary_KM_T, summary_KM_WV, summary_LexRank, summary_Frequency]\n",
    "\n",
    "# Tách các câu trong các summeries / Split sentences in summeries\n",
    "summary_list = [s.split('. ') for s in summary_list]\n",
    "\n",
    "# Tạo ma trận tf-idf / Create tf-idf matrix\n",
    "vectorizer = TfidfVectorizer()\n",
    "tf_idf_matrix = vectorizer.fit_transform([s[0] for s in sentences])\n",
    "\n",
    "# Tính độ tương tự giữa các câu / Calculate the similarity between sentences\n",
    "sim_mat = cosine_similarity(tf_idf_matrix, tf_idf_matrix)\n",
    "\n",
    "# Tính điểm cho từng câu / Calculate the score for each sentence\n",
    "sim_scores = sim_mat.sum(axis=0)\n",
    "\n",
    "# Tạo một list chứa các câu có điểm cao nhất / Create a list containing the sentences with the highest score\n",
    "ranked_sentences = sorted(((sim_scores[i],s) for i,s in enumerate(sentences)), reverse=True)\n",
    "\n",
    "# # Lấy câu có điểm cao nhất / Get the sentence with the highest score\n",
    "# top_sentence = ranked_sentences[0][1][0]\n",
    "\n",
    "# lấy ra 3 câu có điểm cao nhất / Get the 3 sentences with the highest score\n",
    "top_sentence = ranked_sentences[0][1][0] + '. ' + ranked_sentences[1][1][0] + '. ' + ranked_sentences[2][1][0] + '. '\n",
    "\n",
    "# lấy ra các câu có điểm cao hơn 1.2 lần điểm trung bình / Get the sentences with the highest score more than 1.2 times the average score\n",
    "# top_sentence = ''\n",
    "# for i in range(len(ranked_sentences)):\n",
    "#     if ranked_sentences[i][0] > 1.2 * sim_scores.mean():\n",
    "#         top_sentence += ranked_sentences[i][1][0] + '. '\n",
    "\n",
    "# In các câu / Print the sentences\n",
    "print(top_sentence)\n",
    "\n"
   ]
  },
  {
   "attachments": {},
   "cell_type": "markdown",
   "metadata": {},
   "source": [
    "# Hiệu quả khá là tốt các câu có tính liên kết với nhau và đi vào trọng điểm(có đủ mở thân kết (*￣3￣)╭)\n",
    "# => Thực hiện tạo package để train và kiểm tra văn bản tóm tắt"
   ]
  },
  {
   "cell_type": "code",
   "execution_count": 1,
   "metadata": {},
   "outputs": [
    {
     "ename": "NameError",
     "evalue": "name 'word_tokenize' is not defined",
     "output_type": "error",
     "traceback": [
      "\u001b[1;31m---------------------------------------------------------------------------\u001b[0m",
      "\u001b[1;31mNameError\u001b[0m                                 Traceback (most recent call last)",
      "Cell \u001b[1;32mIn [1], line 6\u001b[0m\n\u001b[0;32m      2\u001b[0m \u001b[39mimport\u001b[39;00m \u001b[39mstring\u001b[39;00m\n\u001b[0;32m      3\u001b[0m \u001b[39m# Xử lý câu có điểm cao nhất / Process the sentence with the highest score\u001b[39;00m\n\u001b[0;32m      4\u001b[0m \n\u001b[0;32m      5\u001b[0m \u001b[39m# lấy các token của câu / get tokens of the sentence\u001b[39;00m\n\u001b[1;32m----> 6\u001b[0m top_sentence_tokens \u001b[39m=\u001b[39m word_tokenize(top_sentence)\n\u001b[0;32m      8\u001b[0m \u001b[39m# loại bỏ các token là dấu câu / remove punctuation tokens\u001b[39;00m\n\u001b[0;32m      9\u001b[0m top_sentence_tokens \u001b[39m=\u001b[39m [t \u001b[39mfor\u001b[39;00m t \u001b[39min\u001b[39;00m top_sentence_tokens \u001b[39mif\u001b[39;00m t \u001b[39mnot\u001b[39;00m \u001b[39min\u001b[39;00m string\u001b[39m.\u001b[39mpunctuation]\n",
      "\u001b[1;31mNameError\u001b[0m: name 'word_tokenize' is not defined"
     ]
    }
   ],
   "source": [
    "# Demo cách xử lý văn bản để tính đỉm cho từng câu / Demo how to process text to calculate the score for each sentence\n",
    "from underthesea import pos_tag\n",
    "import string\n",
    "# Xử lý câu có điểm cao nhất / Process the sentence with the highest score\n",
    "\n",
    "# lấy các token của câu / get tokens of the sentence\n",
    "top_sentence_tokens = word_tokenize(top_sentence)\n",
    "\n",
    "# loại bỏ các token là dấu câu / remove punctuation tokens\n",
    "top_sentence_tokens = [t for t in top_sentence_tokens if t not in string.punctuation]\n",
    "\n",
    "# loại bỏ các token là stopword / remove stopword tokens\n",
    "top_sentence_tokens = [t for t in top_sentence_tokens if t not in stop_words]\n",
    "\n",
    "# Chuyển thành đoạn văn bản xúc tích / Convert to sentiment text\n",
    "top_sentence_tokens = ' '.join(top_sentence_tokens)\n",
    "\n",
    "print('Đoạn văn nói về: ', top_sentence_tokens)"
   ]
  }
 ],
 "metadata": {
  "kernelspec": {
   "display_name": "Python 3",
   "language": "python",
   "name": "python3"
  },
  "language_info": {
   "codemirror_mode": {
    "name": "ipython",
    "version": 3
   },
   "file_extension": ".py",
   "mimetype": "text/x-python",
   "name": "python",
   "nbconvert_exporter": "python",
   "pygments_lexer": "ipython3",
   "version": "3.10.9"
  },
  "orig_nbformat": 4,
  "vscode": {
   "interpreter": {
    "hash": "cdfbf7b7304e05408e799db5ef32899d3a083826c8173734f898b7fad24dd3fd"
   }
  }
 },
 "nbformat": 4,
 "nbformat_minor": 2
}
