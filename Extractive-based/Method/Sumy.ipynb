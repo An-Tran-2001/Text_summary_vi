{
 "cells": [
  {
   "cell_type": "code",
   "execution_count": 2,
   "metadata": {},
   "outputs": [],
   "source": [
    "from sumy.parsers.plaintext import PlaintextParser\n",
    "from sumy.nlp.tokenizers import Tokenizer\n",
    "text = \"my name is shubham kumar shukla. It is my pleasure to got opportunity to write article for xyz related to nlp\"\n",
    "# Creating text parser using tokenization\n",
    "parser = PlaintextParser.from_string(text, Tokenizer(\"english\"))"
   ]
  },
  {
   "cell_type": "code",
   "execution_count": 3,
   "metadata": {},
   "outputs": [
    {
     "name": "stdout",
     "output_type": "stream",
     "text": [
      "my name is shubham kumar shukla.It is my pleasure to got opportunity to write article for xyz related to nlp\n"
     ]
    }
   ],
   "source": [
    "from sumy.summarizers.text_rank import TextRankSummarizer\n",
    "# Summarize using sumy TextRank\n",
    "summarizer = TextRankSummarizer()\n",
    "summary = summarizer(parser.document, 2)\n",
    "\n",
    "text_summary = \"\"\n",
    "for sentence in summary:\n",
    "  text_summary += str(sentence)\n",
    "\n",
    "print(text_summary)"
   ]
  }
 ],
 "metadata": {
  "kernelspec": {
   "display_name": "Python 3.11.0 64-bit",
   "language": "python",
   "name": "python3"
  },
  "language_info": {
   "codemirror_mode": {
    "name": "ipython",
    "version": 3
   },
   "file_extension": ".py",
   "mimetype": "text/x-python",
   "name": "python",
   "nbconvert_exporter": "python",
   "pygments_lexer": "ipython3",
   "version": "3.11.0"
  },
  "orig_nbformat": 4,
  "vscode": {
   "interpreter": {
    "hash": "7194b8456181dbe35db9cfc1b1ad25121346279d1ef1c2e64dc4630d3f3c17f0"
   }
  }
 },
 "nbformat": 4,
 "nbformat_minor": 2
}
