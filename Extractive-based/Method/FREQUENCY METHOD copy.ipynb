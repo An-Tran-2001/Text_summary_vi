{
 "cells": [
  {
   "cell_type": "code",
   "execution_count": 18,
   "metadata": {},
   "outputs": [],
   "source": [
    "import pandas as pd\n",
    "import numpy as np"
   ]
  },
  {
   "cell_type": "code",
   "execution_count": 29,
   "metadata": {},
   "outputs": [
    {
     "data": {
      "text/plain": [
       "'Đưa đôi tay quệt nước mắt, cô Nguyễn Thị Vốn (huyện Cao Lãnh, Đồng Tháp) cho biết 16 năm gắn bó với công ty, cô không nghĩ có một ngày, mình sẽ rời công ty như vậy. “Buồn lắm chứ, mà giờ công ty không có đơn hàng, biết phải làm sao. Hôm nay làm việc cuối cùng rồi, chắc cô về quê chứ đâu kiếm được việc nữa. Cô 52 tuổi rồi, ai mà mướn”, cô Vốn xúc động nói. Cũng trong tình cảnh tương tự, 17 năm gắn bó với công ty, hôm nay, cô Đặng Thị Hường (51 tuổi, quê Nghệ An) chỉ biết lắc đầu chua chát. Đẩy chiếc xe đạp cũ chở đầy ve chai rời công ty, cô Hường lủi thủi quay lại căn trọ cũ, cô cũng chưa biết ngày mai mình sẽ ra sao. Cô Đặng Thị Hường (51 tuổi, quê Nghệ An) 17 năm qua, số tiền 7-8 triệu mỗi tháng từ việc làm công nhân giúp cô trang trải sinh hoạt, gửi tiền về quê để chăm lo cho con cái, gia đình. Tuy cuộc sống không mấy khá giả nhưng có được công việc làm, đặc biệt ở tuổi ngoài 50 như cô đã là một điều may mắn. Cô tính ráng làm ít năm nữa, sau khi đủ tuổi về hưu, cô sẽ về lại quê nhà sinh sống. Nhưng rồi 1 tháng qua, từ lúc nhận được thông báo công ty sẽ sa thải gần 1.200 công nhân vào ngày 30/11, cô như người mất hồn. Mọi dự định đều tan vỡ, cô Hường chết lặng… “Nay công ty cho nghỉ luôn rồi, chỉ có 1 số được ở lại thôi. Mai chắc cô ở nhà, chưa biết làm gì. Cô cũng muốn xin đi rửa chén, phụ việc nhưng sợ mình lớn tuổi, cũng không ai nhận. Giờ cô cũng không dám về quê nữa, tiền ít quá, lấy gì đâu mà về. Chắc phải đi xin việc tạm ở đâu đó để kiếm sống thôi”, cô Hường nghẹn lời. Trong số 1.185 công nhân của công ty TNHH Tỷ Hùng bị chấm dứt hợp đồng lao động, có đến 50% lao động là nữ ngoài 40 tuổi. Điều này khiến cho việc xoay trở của những công nhân lớn tuổi sau khi mất việc khó càng thêm khó. Chị Hường (40 tuổi, Đồng Tháp) vẫn chưa biết sẽ sống sao khi mất việc làm Rời công ty với giỏ ve chai chất đầy trên yên xe, chị Hường (40 tuổi, Đồng Tháp) cho biết sau ngày làm việc cuối cùng, hầu như ai cũng gom góp ít ve chai có được ở nơi sản xuất để ra vựa bán. Với nhiều người, số tiền bán ve chai chẳng đáng là bao, nhưng với chị Hường, được đồng nào hay đồng đó, nhất là những ngày sắp tới, chị chưa biết sẽ sống ra sao khi mất việc làm. “Cả ngày hôm nay chị buồn lắm, chắc thất nghiệp tới Tết luôn rồi. Nay vào công ty mà không có làm, cán bộ ngồi đó cũng khóc. Công ty không có trụ nổi, mùa dịch thấy vậy mà cố gắng vượt qua được. Mất việc rồi, cuộc sống giờ gì cũng khó khăn hết trơn. Tết nhất đến nơi rồi, đâu có ai chịu nhận người mới làm việc…”, chị Hường thở dài. Quay trở lại căn phòng trọ, chị Trần Thị Giúp (48 tuổi) đứng thẫn thờ một góc. Cũng giống như mọi người, sau hôm nay, chị Giúp sẽ thất nghiệp, ở tuổi 48, nỗi lo lắng càng thêm chất chồng với chị. Chị Trần Thị Giúp (48 tuổi) thẫn thờ lo lắng khi mất việc “Ngày mai chị chưa biết sẽ làm gì, bình thường 7h sáng đã ra khỏi nhà để đi làm, tuy có cực nhưng có việc làm, có đồng tiền để xoay xở. Buồn lắm chứ, 17 năm rồi, đâu có nghĩ 1 ngày mình sẽ nghỉ việc như thế này đâu. Những ngày sắp tới chắc cũng rầu lo, thôi thì tới đâu hay tới đó, chứ nghĩ cũng đâu được gì đâu”, chị Giúp tâm sự. Theo chị Giúp, khoảng 2 tuần này, công ty không còn việc làm, mọi người chỉ đến cắt chỉ máy với làm vệ sinh cho sạch. Ngày cuối cùng ở công ty, từ cán bộ đến công nhân, ai cũng khóc rồi tự an ủi lẫn nhau. Trong căn nhà trọ, chị Giúp cùng chồng lo lắng về cái Tết cận kề “Chắc Tết năm nay buồn lắm, phải gói ghém tiết kiệm lại thôi, chứ giờ có mình ổng làm, hai vợ chồng cũng còn phải lo cho con cái rồi ông bà nội ngoại 2 bên nữa”, chị Giúp nhìn chồng, thở dài bất lực. Mọi năm, những tháng gần Tết, cả hai vợ chồng chị Giúp đều tranh thủ làm tăng ca. Nhận được thưởng Tết, chị Giúp cũng có chút ít để về quê mua quà tặng cho gia đình, phụ lo cho gia đình nội ngoại 2 bên. Giờ bất ngờ bị cho nghỉ việc, chị Giúp hoang mang. “Người trẻ họ còn có cơ hội chứ như tụi gì, già rồi, ai mà mướn. Năm ngoái dịch đã buồn, năm nay càng buồn hơn…”. Trong căn trọ xập xệ, chị Giúp nhìn anh Minh, thở dài, chẳng biết nói gì. Hôm nay, chị đã chính thức mất việc sau 18 năm gắn bó với Tỷ Hùng. Chưa bao giờ, cuộc sống của những người công nhân lại khổ như vậy, nhất là Tết đã cận kề đến nơi… Hầu như ai cũng nhặt ve chai ở nơi sản xuất để ra vựa bán bởi họ biết tương lai sẽ đầy những khó khăn'"
      ]
     },
     "execution_count": 29,
     "metadata": {},
     "output_type": "execute_result"
    }
   ],
   "source": [
    "from bs4 import BeautifulSoup\n",
    "import requests\n",
    "import pandas as pd\n",
    "from pandas import Series, DataFrame\n",
    "from ipywidgets import FloatProgress\n",
    "from time import sleep\n",
    "from IPython.display import display\n",
    "import re\n",
    "import pickle\n",
    "\n",
    "url = 'https://phunuvietnam.vn/gan-1200-cong-nhan-o-tphcm-bi-sa-thai-truoc-tet-nhieu-nguoi-bat-khoc-trong-ngay-lam-viec-cuoi-cung-20221130194412875.htm'\n",
    "\n",
    "result = requests.get(url)\n",
    "c = result.content\n",
    "soup = BeautifulSoup(c,\"lxml\")\n",
    "\n",
    "summary = soup.find('div',class_=\"content-detail\")\n",
    "summary = summary.find_all('p')\n",
    "summary = summary[1:-1]\n",
    "summary = [i.text for i in summary]\n",
    "summary = ' '.join(summary)\n",
    "summary"
   ]
  },
  {
   "cell_type": "code",
   "execution_count": 25,
   "metadata": {},
   "outputs": [
    {
     "data": {
      "text/plain": [
       "'Đưa đôi tay quệt nước_mắt , cô Nguyễn_Thị Vốn ( huyện Cao_Lãnh , Đồng_Tháp ) cho biết 16 năm gắn_bó với công_ty , cô không nghĩ có một ngày , mình sẽ rời công_ty như_vậy . “ Buồn lắm chứ , mà giờ công_ty không có đơn hàng , biết phải làm_sao . Hôm_nay làm_việc cuối_cùng rồi , chắc cô về quê chứ đâu kiếm được việc nữa . Cô 52 tuổi rồi , ai mà mướn ” , cô Vốn xúc_động nói . Cũng trong tình_cảnh tương_tự , 17 năm gắn_bó với công_ty , hôm_nay , cô Đặng_Thị_Hường ( 51 tuổi , quê Nghệ_An ) chỉ biết lắc_đầu chua_chát . Đẩy chiếc xe_đạp cũ chở đầy ve_chai rời công_ty , cô Hường lủi_thủi quay lại căn trọ cũ , cô cũng chưa biết ngày_mai mình sẽ ra sao . Cô Đặng_Thị_Hường ( 51 tuổi , quê Nghệ_An ) 17 năm qua , số tiền 7 - 8 triệu mỗi tháng từ việc làm công_nhân giúp cô trang_trải sinh_hoạt , gửi tiền về quê để chăm_lo cho con_cái , gia_đình . Tuy cuộc_sống không mấy khá_giả nhưng có được công_việc_làm , đặc_biệt ở tuổi ngoài 50 như cô đã là một điều may_mắn . Cô tính ráng làm ít năm nữa , sau khi đủ tuổi về hưu , cô sẽ về lại quê nhà sinh_sống . Nhưng rồi 1 tháng qua , từ lúc nhận được thông_báo công_ty sẽ sa_thải gần 1.200 công_nhân vào ngày 30 / 11 , cô như người mất_hồn . Mọi dự_định đều tan_vỡ , cô Hường chết lặng … “ Nay công_ty cho nghỉ luôn rồi , chỉ có 1 số được ở lại thôi . Mai chắc cô ở nhà , chưa biết làm gì . Cô cũng muốn xin đi_rửa chén , phụ việc nhưng sợ mình lớn_tuổi , cũng không ai nhận . Giờ cô cũng không dám về quê nữa , tiền ít quá , lấy gì đâu mà về . Chắc phải đi xin việc tạm ở đâu_đó để kiếm sống thôi ” , cô Hường nghẹn lời . Trong số 1.185 công_nhân của công_ty TNHH Tỷ Hùng bị chấm_dứt hợp_đồng lao_động , có đến 50 % lao_động là nữ ngoài 40 tuổi . Điều này khiến cho việc xoay_trở của những công_nhân lớn_tuổi sau khi mất việc khó càng thêm khó . Chị Hường ( 40 tuổi , Đồng_Tháp ) vẫn chưa biết sẽ sống sao khi mất việc_làm Rời công_ty với giỏ ve chai chất đầy trên yên xe , chị Hường ( 40 tuổi , Đồng_Tháp ) cho biết sau ngày làm_việc cuối_cùng , hầu_như_ai cũng gom_góp ít ve_chai có được ở nơi sản_xuất để ra vựa bán . Với nhiều người , số tiền bán ve_chai chẳng đáng là bao , nhưng với chị Hường , được đồng nào hay đồng đó , nhất là những ngày sắp tới , chị chưa biết sẽ sống ra sao khi mất việc_làm . “ Cả ngày hôm_nay chị buồn lắm , chắc thất_nghiệp tới Tết luôn rồi . Nay vào công_ty mà không có làm , cán_bộ ngồi đó cũng khóc . Công_ty không có trụ nổi , mùa dịch thấy vậy_mà cố_gắng vượt qua được . Mất việc rồi , cuộc_sống giờ gì cũng khó_khăn hết trơn . Tết_nhất đến nơi rồi , đâu có ai chịu nhận người mới làm_việc … ” , chị Hường thở_dài . Quay trở_lại căn phòng trọ , chị Trần_Thị_Giúp ( 48 tuổi ) đứng thẫn_thờ một góc . Cũng giống như mọi người , sau hôm_nay , chị Giúp sẽ thất_nghiệp , ở tuổi 48 , nỗi lo_lắng càng thêm chất chồng với chị . Chị Trần_Thị_Giúp ( 48 tuổi ) thẫn_thờ lo_lắng khi mất việc “ Ngày_mai chị chưa biết sẽ làm gì , bình_thường 7h sáng đã ra khỏi nhà để đi làm , tuy có cực nhưng có việc_làm , có đồng_tiền để xoay_xở . Buồn lắm chứ , 17 năm rồi , đâu có nghĩ 1 ngày mình sẽ nghỉ_việc như thế này đâu . Những ngày sắp tới chắc cũng rầu lo , thôi_thì tới đâu hay tới đó , chứ nghĩ cũng đâu được gì đâu ” , chị Giúp tâm_sự . Theo chị Giúp , khoảng 2 tuần này , công_ty không còn việc_làm , mọi người chỉ đến cắt chỉ máy với làm vệ_sinh cho sạch . Ngày cuối_cùng ở công_ty , từ cán_bộ đến công_nhân , ai cũng khóc rồi tự an_ủi lẫn nhau . Trong căn nhà_trọ , chị Giúp cùng chồng lo_lắng về cái Tết cận_kề “ Chắc Tết năm nay buồn lắm , phải gói_ghém tiết_kiệm lại thôi , chứ giờ có mình ổng làm , hai vợ_chồng cũng còn phải lo cho con_cái rồi ông bà nội ngoại 2 bên nữa ” , chị Giúp nhìn chồng , thở_dài bất_lực . Mọi năm , những tháng gần Tết , cả hai vợ_chồng chị Giúp đều tranh_thủ làm tăng ca . Nhận được thưởng Tết , chị Giúp cũng có chút_ít để về quê mua quà tặng cho gia_đình , phụ lo cho gia_đình nội ngoại 2 bên . Giờ bất_ngờ bị cho nghỉ_việc , chị Giúp hoang_mang . “ Người trẻ họ còn có cơ_hội chứ như tụi gì , già rồi , ai mà mướn . Năm_ngoái dịch đã buồn , năm nay càng buồn hơn … ” . Trong căn trọ xập xệ , chị Giúp nhìn anh Minh , thở_dài , chẳng biết nói gì . Hôm_nay , chị đã chính_thức mất việc sau 18 năm gắn_bó với Tỷ Hùng . Chưa bao_giờ , cuộc_sống của những người công_nhân lại khổ như_vậy , nhất là Tết đã cận_kề đến_nơi … Hầu_như_ai cũng nhặt ve_chai ở nơi sản_xuất để ra vựa bán bởi họ biết tương_lai sẽ đầy những khó_khăn'"
      ]
     },
     "execution_count": 25,
     "metadata": {},
     "output_type": "execute_result"
    }
   ],
   "source": [
    "from nltk.tokenize import word_tokenize, sent_tokenize\n",
    "from nltk.corpus import stopwords\n",
    "import os\n",
    "import warnings\n",
    "from pyvi import ViTokenizer\n",
    "import re\n",
    "warnings.filterwarnings(\"ignore\")\n",
    "stop_words = open(os.getcwd() + '/../Data/vietnamese-stopwords.txt', 'r', encoding='utf-8').read()\n",
    "stop_words = stop_words.split()\n",
    "summary = ViTokenizer.tokenize(summary)\n",
    "summary "
   ]
  },
  {
   "cell_type": "code",
   "execution_count": 30,
   "metadata": {},
   "outputs": [
    {
     "data": {
      "text/plain": [
       "['Đưa đôi tay quệt nước mắt, cô Nguyễn Thị Vốn (huyện Cao Lãnh, Đồng Tháp) cho biết 16 năm gắn bó với công ty, cô không nghĩ có một ngày, mình sẽ rời công ty như vậy.',\n",
       " '“Buồn lắm chứ, mà giờ công ty không có đơn hàng, biết phải làm sao.',\n",
       " 'Hôm nay làm việc cuối cùng rồi, chắc cô về quê chứ đâu kiếm được việc nữa.',\n",
       " 'Cô 52 tuổi rồi, ai mà mướn”, cô Vốn xúc động nói.',\n",
       " 'Cũng trong tình cảnh tương tự, 17 năm gắn bó với công ty, hôm nay, cô Đặng Thị Hường (51 tuổi, quê Nghệ An) chỉ biết lắc đầu chua chát.',\n",
       " 'Đẩy chiếc xe đạp cũ chở đầy ve chai rời công ty, cô Hường lủi thủi quay lại căn trọ cũ, cô cũng chưa biết ngày mai mình sẽ ra sao.',\n",
       " 'Cô Đặng Thị Hường (51 tuổi, quê Nghệ An) 17 năm qua, số tiền 7-8 triệu mỗi tháng từ việc làm công nhân giúp cô trang trải sinh hoạt, gửi tiền về quê để chăm lo cho con cái, gia đình.',\n",
       " 'Tuy cuộc sống không mấy khá giả nhưng có được công việc làm, đặc biệt ở tuổi ngoài 50 như cô đã là một điều may mắn.',\n",
       " 'Cô tính ráng làm ít năm nữa, sau khi đủ tuổi về hưu, cô sẽ về lại quê nhà sinh sống.',\n",
       " 'Nhưng rồi 1 tháng qua, từ lúc nhận được thông báo công ty sẽ sa thải gần 1.200 công nhân vào ngày 30/11, cô như người mất hồn.',\n",
       " 'Mọi dự định đều tan vỡ, cô Hường chết lặng… “Nay công ty cho nghỉ luôn rồi, chỉ có 1 số được ở lại thôi.',\n",
       " 'Mai chắc cô ở nhà, chưa biết làm gì.',\n",
       " 'Cô cũng muốn xin đi rửa chén, phụ việc nhưng sợ mình lớn tuổi, cũng không ai nhận.',\n",
       " 'Giờ cô cũng không dám về quê nữa, tiền ít quá, lấy gì đâu mà về.',\n",
       " 'Chắc phải đi xin việc tạm ở đâu đó để kiếm sống thôi”, cô Hường nghẹn lời.',\n",
       " 'Trong số 1.185 công nhân của công ty TNHH Tỷ Hùng bị chấm dứt hợp đồng lao động, có đến 50% lao động là nữ ngoài 40 tuổi.',\n",
       " 'Điều này khiến cho việc xoay trở của những công nhân lớn tuổi sau khi mất việc khó càng thêm khó.',\n",
       " 'Chị Hường (40 tuổi, Đồng Tháp) vẫn chưa biết sẽ sống sao khi mất việc làm Rời công ty với giỏ ve chai chất đầy trên yên xe, chị Hường (40 tuổi, Đồng Tháp) cho biết sau ngày làm việc cuối cùng, hầu như ai cũng gom góp ít ve chai có được ở nơi sản xuất để ra vựa bán.',\n",
       " 'Với nhiều người, số tiền bán ve chai chẳng đáng là bao, nhưng với chị Hường, được đồng nào hay đồng đó, nhất là những ngày sắp tới, chị chưa biết sẽ sống ra sao khi mất việc làm.',\n",
       " '“Cả ngày hôm nay chị buồn lắm, chắc thất nghiệp tới Tết luôn rồi.',\n",
       " 'Nay vào công ty mà không có làm, cán bộ ngồi đó cũng khóc.',\n",
       " 'Công ty không có trụ nổi, mùa dịch thấy vậy mà cố gắng vượt qua được.',\n",
       " 'Mất việc rồi, cuộc sống giờ gì cũng khó khăn hết trơn.',\n",
       " 'Tết nhất đến nơi rồi, đâu có ai chịu nhận người mới làm việc…”, chị Hường thở dài.',\n",
       " 'Quay trở lại căn phòng trọ, chị Trần Thị Giúp (48 tuổi) đứng thẫn thờ một góc.',\n",
       " 'Cũng giống như mọi người, sau hôm nay, chị Giúp sẽ thất nghiệp, ở tuổi 48, nỗi lo lắng càng thêm chất chồng với chị.',\n",
       " 'Chị Trần Thị Giúp (48 tuổi) thẫn thờ lo lắng khi mất việc “Ngày mai chị chưa biết sẽ làm gì, bình thường 7h sáng đã ra khỏi nhà để đi làm, tuy có cực nhưng có việc làm, có đồng tiền để xoay xở.',\n",
       " 'Buồn lắm chứ, 17 năm rồi, đâu có nghĩ 1 ngày mình sẽ nghỉ việc như thế này đâu.',\n",
       " 'Những ngày sắp tới chắc cũng rầu lo, thôi thì tới đâu hay tới đó, chứ nghĩ cũng đâu được gì đâu”, chị Giúp tâm sự.',\n",
       " 'Theo chị Giúp, khoảng 2 tuần này, công ty không còn việc làm, mọi người chỉ đến cắt chỉ máy với làm vệ sinh cho sạch.',\n",
       " 'Ngày cuối cùng ở công ty, từ cán bộ đến công nhân, ai cũng khóc rồi tự an ủi lẫn nhau.',\n",
       " 'Trong căn nhà trọ, chị Giúp cùng chồng lo lắng về cái Tết cận kề “Chắc Tết năm nay buồn lắm, phải gói ghém tiết kiệm lại thôi, chứ giờ có mình ổng làm, hai vợ chồng cũng còn phải lo cho con cái rồi ông bà nội ngoại 2 bên nữa”, chị Giúp nhìn chồng, thở dài bất lực.',\n",
       " 'Mọi năm, những tháng gần Tết, cả hai vợ chồng chị Giúp đều tranh thủ làm tăng ca.',\n",
       " 'Nhận được thưởng Tết, chị Giúp cũng có chút ít để về quê mua quà tặng cho gia đình, phụ lo cho gia đình nội ngoại 2 bên.',\n",
       " 'Giờ bất ngờ bị cho nghỉ việc, chị Giúp hoang mang.',\n",
       " '“Người trẻ họ còn có cơ hội chứ như tụi gì, già rồi, ai mà mướn.',\n",
       " 'Năm ngoái dịch đã buồn, năm nay càng buồn hơn…”.',\n",
       " 'Trong căn trọ xập xệ, chị Giúp nhìn anh Minh, thở dài, chẳng biết nói gì.',\n",
       " 'Hôm nay, chị đã chính thức mất việc sau 18 năm gắn bó với Tỷ Hùng.',\n",
       " 'Chưa bao giờ, cuộc sống của những người công nhân lại khổ như vậy, nhất là Tết đã cận kề đến nơi… Hầu như ai cũng nhặt ve chai ở nơi sản xuất để ra vựa bán bởi họ biết tương lai sẽ đầy những khó khăn']"
      ]
     },
     "execution_count": 30,
     "metadata": {},
     "output_type": "execute_result"
    }
   ],
   "source": [
    "from nltk.tokenize import word_tokenize, sent_tokenize\n",
    "from nltk.corpus import stopwords\n",
    "import os\n",
    "import warnings\n",
    "from pyvi import ViTokenizer\n",
    "import re\n",
    "warnings.filterwarnings(\"ignore\")\n",
    "stop_words = open(os.getcwd() + '/../Data/vietnamese-stopwords.txt', 'r', encoding='utf-8').read()\n",
    "stop_words = stop_words.split()\n",
    "# summary = word_tokenize(summary)\n",
    "summary = sent_tokenize(summary)\n",
    "summary "
   ]
  },
  {
   "cell_type": "code",
   "execution_count": 6,
   "metadata": {},
   "outputs": [],
   "source": [
    "def solve(text):\n",
    "    stopwords1 = set(stopwords.words(\"english\"))\n",
    "    words = word_tokenize(text)\n",
    "    freqTable = {}\n",
    "    for word in words:\n",
    "        word = word.lower()\n",
    "        if word in stopwords1:\n",
    "            continue\n",
    "        if word in freqTable:\n",
    "            freqTable[word] += 1\n",
    "        else :\n",
    "           freqTable[word] = 1\n",
    "\n",
    "    sentences = sent_tokenize(text)\n",
    "    sentenceValue = {}\n",
    "    for sentence in sentences:\n",
    "        for word, freq in freqTable.items():\n",
    "            if word in sentence.lower():\n",
    "                if sentence in sentenceValue:\n",
    "                    sentenceValue[sentence] += freq\n",
    "                else :\n",
    "                    sentenceValue[sentence] = freq\n",
    "    \n",
    "    sumValues = 0\n",
    "    for sentence in sentenceValue:\n",
    "        sumValues += sentenceValue[sentence]\n",
    "    average = int(sumValues / len(sentenceValue))\n",
    "\n",
    "    summary = ''\n",
    "    for sentence in sentences:\n",
    "        if (sentence in sentenceValue) and(sentenceValue[sentence] > (1.2 * average)):\n",
    "            summary += \"\" + sentence\n",
    "    return summary"
   ]
  },
  {
   "cell_type": "code",
   "execution_count": 22,
   "metadata": {},
   "outputs": [],
   "source": [
    "def solve_vi(text):\n",
    "    words = ViTokenizer.tokenize(text)\n",
    "    words = words.split()\n",
    "    freqTable = {}\n",
    "    for word in words:\n",
    "        word = word.lower()\n",
    "        if word in stop_words:\n",
    "            continue\n",
    "        if word in freqTable:\n",
    "            freqTable[word] += 1\n",
    "        else :\n",
    "           freqTable[word] = 1\n",
    "\n",
    "    sentences = sent_tokenize(text)\n",
    "    sentenceValue = {}\n",
    "    for sentence in sentences:\n",
    "        for word, freq in freqTable.items():\n",
    "            if word in sentence.lower():\n",
    "                if sentence in sentenceValue:\n",
    "                    sentenceValue[sentence] += freq\n",
    "                else :\n",
    "                    sentenceValue[sentence] = freq\n",
    "    \n",
    "    sumValues = 0\n",
    "    for sentence in sentenceValue:\n",
    "        sumValues += sentenceValue[sentence]\n",
    "    average = int(sumValues / len(sentenceValue))\n",
    "\n",
    "    summary = ''\n",
    "    for sentence in sentences:\n",
    "        if (sentence in sentenceValue) and(sentenceValue[sentence] > (1.2 * average)):\n",
    "            summary += \"\" + sentence\n",
    "    return summary"
   ]
  },
  {
   "cell_type": "code",
   "execution_count": 23,
   "metadata": {},
   "outputs": [
    {
     "data": {
      "text/plain": [
       "'Cũng trong tình cảnh tương tự, 17 năm gắn bó với công ty, hôm nay, cô Đặng Thị Hường (51 tuổi, quê Nghệ An) chỉ biết lắc đầu chua chát.Cô Đặng Thị Hường (51 tuổi, quê Nghệ An) 17 năm qua, số tiền 7-8 triệu mỗi tháng từ việc làm công nhân giúp cô trang trải sinh hoạt, gửi tiền về quê để chăm lo cho con cái, gia đình.Chị Hường (40 tuổi, Đồng Tháp) vẫn chưa biết sẽ sống sao khi mất việc làm Rời công ty với giỏ ve chai chất đầy trên yên xe, chị Hường (40 tuổi, Đồng Tháp) cho biết sau ngày làm việc cuối cùng, hầu như ai cũng gom góp ít ve chai có được ở nơi sản xuất để ra vựa bán.Chị Trần Thị Giúp (48 tuổi) thẫn thờ lo lắng khi mất việc “Ngày mai chị chưa biết sẽ làm gì, bình thường 7h sáng đã ra khỏi nhà để đi làm, tuy có cực nhưng có việc làm, có đồng tiền để xoay xở.Trong căn nhà trọ, chị Giúp cùng chồng lo lắng về cái Tết cận kề “Chắc Tết năm nay buồn lắm, phải gói ghém tiết kiệm lại thôi, chứ giờ có mình ổng làm, hai vợ chồng cũng còn phải lo cho con cái rồi ông bà nội ngoại 2 bên nữa”, chị Giúp nhìn chồng, thở dài bất lực.'"
      ]
     },
     "execution_count": 23,
     "metadata": {},
     "output_type": "execute_result"
    }
   ],
   "source": [
    "solve_vi(summary)"
   ]
  }
 ],
 "metadata": {
  "kernelspec": {
   "display_name": "Python 3.10.8 64-bit (microsoft store)",
   "language": "python",
   "name": "python3"
  },
  "language_info": {
   "codemirror_mode": {
    "name": "ipython",
    "version": 3
   },
   "file_extension": ".py",
   "mimetype": "text/x-python",
   "name": "python",
   "nbconvert_exporter": "python",
   "pygments_lexer": "ipython3",
   "version": "3.10.8"
  },
  "orig_nbformat": 4,
  "vscode": {
   "interpreter": {
    "hash": "cdfbf7b7304e05408e799db5ef32899d3a083826c8173734f898b7fad24dd3fd"
   }
  }
 },
 "nbformat": 4,
 "nbformat_minor": 2
}
