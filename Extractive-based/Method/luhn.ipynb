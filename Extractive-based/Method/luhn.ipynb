{
 "cells": [
  {
   "cell_type": "code",
   "execution_count": 1,
   "metadata": {},
   "outputs": [],
   "source": [
    "from sumy.parsers.plaintext import PlaintextParser\n",
    "from sumy.nlp.tokenizers import Tokenizer\n",
    "from sumy.summarizers.luhn import LuhnSummarizer\n",
    "def lunh_method(text):\n",
    "  parser = PlaintextParser.from_string(text, Tokenizer(\"english\"))\n",
    "  summarizer_luhn = LuhnSummarizer()\n",
    "  summary_1 = summarizer_luhn(parser.document, 2)\n",
    "  dp = []\n",
    "  for i in summary_1:\n",
    "    lp = str(i)\n",
    "  dp.append(lp)\n",
    "  final_sentence = ' '.join(dp)\n",
    "  return final_sentence"
   ]
  },
  {
   "cell_type": "code",
   "execution_count": 2,
   "metadata": {},
   "outputs": [
    {
     "data": {
      "text/plain": [
       "'It is my pleasure to got opportunity to write article for xyz related to nlp'"
      ]
     },
     "execution_count": 2,
     "metadata": {},
     "output_type": "execute_result"
    }
   ],
   "source": [
    "text = \"my name is shubham kumar shukla. It is my pleasure to got opportunity to write article for xyz related to nlp\"\n",
    "lunh_method(text)"
   ]
  }
 ],
 "metadata": {
  "kernelspec": {
   "display_name": "Python 3.11.0 64-bit",
   "language": "python",
   "name": "python3"
  },
  "language_info": {
   "codemirror_mode": {
    "name": "ipython",
    "version": 3
   },
   "file_extension": ".py",
   "mimetype": "text/x-python",
   "name": "python",
   "nbconvert_exporter": "python",
   "pygments_lexer": "ipython3",
   "version": "3.11.0"
  },
  "orig_nbformat": 4,
  "vscode": {
   "interpreter": {
    "hash": "7194b8456181dbe35db9cfc1b1ad25121346279d1ef1c2e64dc4630d3f3c17f0"
   }
  }
 },
 "nbformat": 4,
 "nbformat_minor": 2
}
