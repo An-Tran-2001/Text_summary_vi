{
 "cells": [
  {
   "cell_type": "code",
   "execution_count": 7,
   "metadata": {},
   "outputs": [],
   "source": [
    "import pandas as pd\n",
    "import numpy as np\n",
    "from bs4 import BeautifulSoup\n",
    "import requests\n",
    "import warnings\n",
    "warnings.filterwarnings(\"ignore\")"
   ]
  },
  {
   "cell_type": "code",
   "execution_count": 8,
   "metadata": {},
   "outputs": [],
   "source": [
    "# url = 'https://phunuvietnam.vn/nhung-nguoi-phu-nu-dat-cuoc-song-vao-che-do-im-lang-ho-thuong-khong-don-gian-512022112114044393.htm'\n",
    "\n",
    "# result = requests.get(url)\n",
    "# c = result.content\n",
    "# soup = BeautifulSoup(c,\"lxml\")\n",
    "\n",
    "# summary = soup.find('div',class_=\"content-detail\")\n",
    "# summary = summary.find_all('p')\n",
    "# summary = summary[1:-1]\n",
    "# summary = [i.text for i in summary]\n",
    "# summary = ' '.join(summary)\n",
    "summary ='Tổng thư ký Tổ chức Hiệp ước Bắc Đại Tây Dương (NATO) Jens Stoltenberg ngày 19/5 cho biết, nếu Ai Cập đề nghị, liên minh này sẽ hỗ trợ công tác tìm kiếm chiếc máy bay mang số hiệu MS 804 của hãng hàng không Ai Cập chở 66 người mất tích trước đó cùng ngày.“Tôi gửi lời chia buồn sâu sắc nhất đến những ai bị ảnh hưởng bởi vụ việc này. Tôi cũng gửi lời chia buồn sâu sắc đến Pháp và Ai Cập. Tôi biết rằng đã có những nỗ lực tìm kiếm cứu nạn ở mức độ quốc gia. Pháp và Ai Cập đang phối hợp trong công tác này cũng như việc điều tra. Chúng tôi sẽ tiếp tục theo dõi chặt chẽ diễn biến và nếu được đề nghị, NATO luôn sẵn sàng giúp đỡ”, ông Jens Stoltenberg nói.Thủ tướng Italy Matteo Renzi ngày 19/5 cũng đã gửi lời chia buồn, đồng thời bày tỏ sự đoàn kết với Ai Cập sau vụ máy bay của hãng hàng không Ai Cập mất tích trên Địa Trung Hải khi đang trên đường bay từ Paris đến Cairo.Trước đó, Hãng hàng không quốc gia Ai Cập (EgyptAir) xác nhận phía Hy Lạp đã tìm thấy mảnh vỡ từ chiếc máy bay này ở phía Nam đảo Karpathos, thuộc vùng Nam Địa Trung Hải. Hãng đã gửi lời chia buồn đến gia đình các hành khách trên chuyến bay mất tích như một sự xác nhận đầu tiên rằng thân nhân của họ đã qua đời. Hãng cũng cam kết sẽ triển khai mọi biện pháp giải quyết tình hình hiện nay cũng như tiến hành một cuộc điều tra tổng thể.Người đứng đầu cơ quan điều tra tai nạn hàng không Ai Cập Ayman al-Moqadem ngày 19/5 cho biết, nước này sẽ dẫn đầu một ủy ban điều tra về vụ mất tích chiếc máy bay mang số hiệu MS 804.Ủy ban này bao gồm cả nhân sự phía Pháp, nước sản xuất chiếc Airbus 320 này và cũng là nước có số nạn nhân nhiều thứ hai sau Ai Cập. Cơ quan chức năng Pháp đã khẳng định sẽ cử 3 chuyên gia sang Ai Cập tham gia điều tra vụ tai nạn máy bay này. Anh và Hy Lạp cũng đã đề nghị giúp đỡ tìm kiếm hộp đen và những mảnh vỡ của chiếc máy bay.Hội đồng an toàn giao thông quốc gia Mỹ cho biết, động cơ của chiếc máy bay gặp nạn được sản xuất tại nước này. Theo quy tắc quốc tế, nước nơi động cơ máy bay được chế tạo cũng có thể tham gia vào cuộc điều tra khi tai nạn xảy ra. Hiện Mỹ đã cử máy bay P-3 Orion hỗ trợ công tác tìm kiếm chiếc máy bay mất tích của Ai Cập.Lúc này, ứng viên Tổng thống đảng Cộng hòa Mỹ Donald Trump đã lên tiếng bày tỏ nghi ngờ đây là một vụ tấn công khủng bố song chính phủ Mỹ cho rằng, vụ tai nạn máy bay vẫn đang được điều tra và còn quá sớm để xác định nguyên nhân khiến máy bay gặp nạn.Thủ tướng Ai Cập Sherif Ismail thì nhận định còn quá sớm đề loại bỏ bất cứ giả thuyết nào, kể cả trường hợp máy bay bị khủng bố. Bộ trưởng Bộ Hàng không dân dụng Ai Cập Sherif Phathi cũng cho rằng, khả năng máy bay bị khủng bố cao hơn khả năng xảy ra lỗi kỹ thuật dù ông chưa đưa ra bằng chứng cụ thể nào.Tổng thống Ai Cập Mohamed Morsi đã yêu cầu Bộ Hàng không dân dụng và quân đội phối hợp nhanh chóng định vị nơi chiếc máy bay mang số hiệu MS 804 rơi và tiến hành một cuộc điều tra thấu đáo.Trong khi đó, Ngoại trưởng Canada Stephane Dion ngày 19/5 cho biết trong số những hành khách đi chuyến bay mang số hiệu MS 804 của Hãng hàng không quốc gia Ai Cập (EgyptAir) bị mất tích cùng ngày có ít nhất 2 công dân nước này. Ông cũng cho biết Bộ Ngoại giao Canada đang phối hợp với các đối tác Pháp và Ai Cập, cũng như các nước liên quan khác để đánh giá tình hình và xem xét các yêu cầu hỗ trợ.Trước đó, hãng hàng không quốc gia Ai Cập đã công bố quốc tịch của những hành khách đi trên chuyến bay MS 804 bị mất tích, bao gồm 56 hành khách, trong đó có 30 người Ai Cập, 15 người Pháp, 2 người I-rắc, 1 người Anh, 1 người Bỉ, 1 người Kuwait, 1 người Saudi Arabia, 1 người Sudan, 1 người Cộng hòa Chad, 1 người Bồ Đào Nha, 1 người Angeria và 1 người Canada. Ngoài ra, còn có 10 thành viên phi hành đoàn.'"
   ]
  },
  {
   "cell_type": "code",
   "execution_count": 10,
   "metadata": {},
   "outputs": [
    {
     "data": {
      "text/plain": [
       "'Tổng thư ký Tổ chức Hiệp ước Bắc Đại Tây Dương (NATO) Jens Stoltenberg ngày 19/5 cho biết, nếu Ai Cập đề nghị, liên minh này sẽ hỗ trợ công tác tìm kiếm chiếc máy bay mang số hiệu MS 804 của hãng hàng không Ai Cập chở 66 người mất tích trước đó cùng ngày.“Tôi gửi lời chia buồn sâu sắc nhất đến những ai bị ảnh hưởng bởi vụ việc này.Chúng tôi sẽ tiếp tục theo dõi chặt chẽ diễn biến và nếu được đề nghị, NATO luôn sẵn sàng giúp đỡ”, ông Jens Stoltenberg nói.Thủ tướng Italy Matteo Renzi ngày 19/5 cũng đã gửi lời chia buồn, đồng thời bày tỏ sự đoàn kết với Ai Cập sau vụ máy bay của hãng hàng không Ai Cập mất tích trên Địa Trung Hải khi đang trên đường bay từ Paris đến Cairo.Trước đó, Hãng hàng không quốc gia Ai Cập (EgyptAir) xác nhận phía Hy Lạp đã tìm thấy mảnh vỡ từ chiếc máy bay này ở phía Nam đảo Karpathos, thuộc vùng Nam Địa Trung Hải.Hãng cũng cam kết sẽ triển khai mọi biện pháp giải quyết tình hình hiện nay cũng như tiến hành một cuộc điều tra tổng thể.Người đứng đầu cơ quan điều tra tai nạn hàng không Ai Cập Ayman al-Moqadem ngày 19/5 cho biết, nước này sẽ dẫn đầu một ủy ban điều tra về vụ mất tích chiếc máy bay mang số hiệu MS 804.Ủy ban này bao gồm cả nhân sự phía Pháp, nước sản xuất chiếc Airbus 320 này và cũng là nước có số nạn nhân nhiều thứ hai sau Ai Cập.Hiện Mỹ đã cử máy bay P-3 Orion hỗ trợ công tác tìm kiếm chiếc máy bay mất tích của Ai Cập.Lúc này, ứng viên Tổng thống đảng Cộng hòa Mỹ Donald Trump đã lên tiếng bày tỏ nghi ngờ đây là một vụ tấn công khủng bố song chính phủ Mỹ cho rằng, vụ tai nạn máy bay vẫn đang được điều tra và còn quá sớm để xác định nguyên nhân khiến máy bay gặp nạn.Thủ tướng Ai Cập Sherif Ismail thì nhận định còn quá sớm đề loại bỏ bất cứ giả thuyết nào, kể cả trường hợp máy bay bị khủng bố.Bộ trưởng Bộ Hàng không dân dụng Ai Cập Sherif Phathi cũng cho rằng, khả năng máy bay bị khủng bố cao hơn khả năng xảy ra lỗi kỹ thuật dù ông chưa đưa ra bằng chứng cụ thể nào.Tổng thống Ai Cập Mohamed Morsi đã yêu cầu Bộ Hàng không dân dụng và quân đội phối hợp nhanh chóng định vị nơi chiếc máy bay mang số hiệu MS 804 rơi và tiến hành một cuộc điều tra thấu đáo.Trong khi đó, Ngoại trưởng Canada Stephane Dion ngày 19/5 cho biết trong số những hành khách đi chuyến bay mang số hiệu MS 804 của Hãng hàng không quốc gia Ai Cập (EgyptAir) bị mất tích cùng ngày có ít nhất 2 công dân nước này.Ông cũng cho biết Bộ Ngoại giao Canada đang phối hợp với các đối tác Pháp và Ai Cập, cũng như các nước liên quan khác để đánh giá tình hình và xem xét các yêu cầu hỗ trợ.Trước đó, hãng hàng không quốc gia Ai Cập đã công bố quốc tịch của những hành khách đi trên chuyến bay MS 804 bị mất tích, bao gồm 56 hành khách, trong đó có 30 người Ai Cập, 15 người Pháp, 2 người I-rắc, 1 người Anh, 1 người Bỉ, 1 người Kuwait, 1 người Saudi Arabia, 1 người Sudan, 1 người Cộng hòa Chad, 1 người Bồ Đào Nha, 1 người Angeria và 1 người Canada.'"
      ]
     },
     "execution_count": 10,
     "metadata": {},
     "output_type": "execute_result"
    }
   ],
   "source": [
    "from frequency import solve\n",
    "solve(summary)"
   ]
  },
  {
   "cell_type": "markdown",
   "metadata": {},
   "source": [
    "<center>\n",
    "<h1>Các phương pháp khác sử dụng sumy hiện ko hỗ trợ tokenizer vietname</h1>\n",
    "</center>"
   ]
  }
 ],
 "metadata": {
  "kernelspec": {
   "display_name": "Python 3",
   "language": "python",
   "name": "python3"
  },
  "language_info": {
   "codemirror_mode": {
    "name": "ipython",
    "version": 3
   },
   "file_extension": ".py",
   "mimetype": "text/x-python",
   "name": "python",
   "nbconvert_exporter": "python",
   "pygments_lexer": "ipython3",
   "version": "3.10.9 (tags/v3.10.9:1dd9be6, Dec  6 2022, 20:01:21) [MSC v.1934 64 bit (AMD64)]"
  },
  "orig_nbformat": 4,
  "vscode": {
   "interpreter": {
    "hash": "cdfbf7b7304e05408e799db5ef32899d3a083826c8173734f898b7fad24dd3fd"
   }
  }
 },
 "nbformat": 4,
 "nbformat_minor": 2
}
