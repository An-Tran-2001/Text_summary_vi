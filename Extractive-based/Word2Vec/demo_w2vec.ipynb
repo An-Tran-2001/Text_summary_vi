{
 "cells": [
  {
   "cell_type": "markdown",
   "metadata": {},
   "source": [
    "<center><h1>Demo cách làm vector Doc2vec ko làm luôn vì máy cùi</h1></center>"
   ]
  },
  {
   "cell_type": "code",
   "execution_count": 231,
   "metadata": {},
   "outputs": [],
   "source": [
    "from gensim.models import Word2Vec\n",
    "import os\n",
    "import warnings\n",
    "from pyvi import ViTokenizer\n",
    "import re\n",
    "warnings.filterwarnings(\"ignore\")\n",
    "# Load the data\n",
    "path = os.getcwd() + '/../Data/demo-full.txt'\n",
    "sentences = open(path, 'r', encoding='utf-8').read()\n",
    "stop_words = open(os.getcwd() + '/../Data/vietnamese-stopwords.txt', 'r', encoding='utf-8').read()\n",
    "stop_words = stop_words.split()\n",
    "# sentences[:100]\n",
    "# with open(path, 'r', encoding='utf-8') as f:\n",
    "#     sentences = f.readlines()"
   ]
  },
  {
   "cell_type": "code",
   "execution_count": 232,
   "metadata": {},
   "outputs": [],
   "source": [
    "def sentences_processing(sentences):\n",
    "    sentences = sentences.lower()\n",
    "    sentences = ViTokenizer.tokenize(sentences)\n",
    "    sentences = sentences.split('\\n')\n",
    "    # remove all the special characters\n",
    "    sentences = [re.sub(r'\\W', ' ', sentence) for sentence in sentences]\n",
    "    # remove all single characters\n",
    "    sentences = [re.sub(r'\\s+[a-zA-Z]\\s+', ' ', sentence) for sentence in sentences]\n",
    "    # remove single characters from the start\n",
    "    sentences = [re.sub(r'\\^[a-zA-Z]\\s+', ' ', sentence) for sentence in sentences]\n",
    "    # remove numbers\n",
    "    sentences = [re.sub(r'\\d+', '', sentence) for sentence in sentences]\n",
    "    #  remove stop words\n",
    "    sentences = [[word for word in sentence.split() if word not in stop_words] for sentence in sentences]\n",
    "    #  remove words with length < 3\n",
    "    sentences = [[word for word in sentence if len(word) > 2] for sentence in sentences]\n",
    "    #  remove words with length > 15\n",
    "    sentences = [[word for word in sentence if len(word) < 15] for sentence in sentences]\n",
    "    #  remove empty sentences\n",
    "    sentences = [sentence for sentence in sentences if len(sentence) > 0]\n",
    "    return sentences\n",
    "sentences = sentences_processing(sentences)\n",
    "\n"
   ]
  },
  {
   "cell_type": "code",
   "execution_count": 233,
   "metadata": {},
   "outputs": [],
   "source": [
    "#  Train the model\n",
    "skip_gram = Word2Vec(sentences, min_count=1, vector_size=100, window=3, sg=1)\n",
    "#  get the sentence vector\n",
    "def get_sentence_vector(sentence):\n",
    "    sentence = sentence.lower()\n",
    "    sentence = ViTokenizer.tokenize(sentence)\n",
    "    sentence = re.sub(r'\\W', ' ', sentence)\n",
    "    sentence = [word for word in sentence.split() if word not in stop_words]\n",
    "    sentence = [word for word in sentence if len(word) > 2]\n",
    "    sentence = [word for word in sentence if len(word) < 15]\n",
    "    sentence = [word for word in sentence if word in skip_gram.wv.vocab]\n",
    "    if len(sentence) == 0:\n",
    "        return None\n",
    "    return sum([skip_gram.wv[word] for word in sentence]) / len(sentence)\n",
    "\n",
    "#  get the similarity between two sentences\n",
    "def get_similarity(sentence1, sentence2):\n",
    "    sentence1 = get_sentence_vector(sentence1)\n",
    "    sentence2 = get_sentence_vector(sentence2)\n",
    "    if sentence1 is None or sentence2 is None:\n",
    "        return 0\n",
    "    return skip_gram.wv.cosine_similarities(sentence1, sentence2)[0]\n",
    "\n",
    "#  get the similarity matrix\n",
    "def get_similarity_matrix(sentences):\n",
    "    n = len(sentences)\n",
    "    similarity_matrix = np.zeros((n, n))\n",
    "    for i in range(n):\n",
    "        for j in range(n):\n",
    "            similarity_matrix[i][j] = get_similarity(sentences[i], sentences[j])\n",
    "    return similarity_matrix\n",
    "\n",
    "g\n"
   ]
  },
  {
   "cell_type": "code",
   "execution_count": 234,
   "metadata": {},
   "outputs": [],
   "source": [
    "#  Save the model\n",
    "skip_gram.save('skip_gram.bin')\n",
    "#  Load the model\n",
    "skip_gram = Word2Vec.load('skip_gram.bin')\n",
    "#  get the \n",
    "skip_gram.wv['thủ_tướng']\n"
   ]
  },
  {
   "cell_type": "code",
   "execution_count": 235,
   "metadata": {},
   "outputs": [
    {
     "data": {
      "text/plain": [
       "[('đường', 0.9859349131584167),\n",
       " ('thu', 0.9857032299041748),\n",
       " ('thọ', 0.9855136871337891),\n",
       " ('thông_tin', 0.9853044748306274),\n",
       " ('xử_phạt', 0.9852707982063293),\n",
       " ('khu', 0.9851948022842407),\n",
       " ('quỹ', 0.9851796627044678),\n",
       " ('vi_phạm', 0.9851405024528503),\n",
       " ('hai', 0.984961211681366),\n",
       " ('trả', 0.9849055409431458)]"
      ]
     },
     "execution_count": 235,
     "metadata": {},
     "output_type": "execute_result"
    }
   ],
   "source": [
    "skip_gram.wv.most_similar(positive=['tiền', 'thuế'], negative=['lương'])"
   ]
  }
 ],
 "metadata": {
  "kernelspec": {
   "display_name": "Python 3.10.8 64-bit (microsoft store)",
   "language": "python",
   "name": "python3"
  },
  "language_info": {
   "codemirror_mode": {
    "name": "ipython",
    "version": 3
   },
   "file_extension": ".py",
   "mimetype": "text/x-python",
   "name": "python",
   "nbconvert_exporter": "python",
   "pygments_lexer": "ipython3",
   "version": "3.10.8"
  },
  "orig_nbformat": 4,
  "vscode": {
   "interpreter": {
    "hash": "cdfbf7b7304e05408e799db5ef32899d3a083826c8173734f898b7fad24dd3fd"
   }
  }
 },
 "nbformat": 4,
 "nbformat_minor": 2
}
