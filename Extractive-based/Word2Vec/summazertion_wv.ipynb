{
 "cells": [
  {
   "cell_type": "code",
   "execution_count": 313,
   "metadata": {},
   "outputs": [],
   "source": [
    "import pandas as pd\n",
    "import numpy as np\n",
    "from bs4 import BeautifulSoup\n",
    "import requests\n",
    "import warnings\n",
    "warnings.filterwarnings(\"ignore\")"
   ]
  },
  {
   "cell_type": "code",
   "execution_count": 314,
   "metadata": {},
   "outputs": [],
   "source": [
    "stop_words = open(os.getcwd() + '/../Data/vietnamese-stopwords.txt', 'r', encoding='utf-8').read()\n",
    "stop_words = stop_words.split()"
   ]
  },
  {
   "cell_type": "code",
   "execution_count": 315,
   "metadata": {},
   "outputs": [
    {
     "data": {
      "text/plain": [
       "'Đưa đôi tay quệt nước mắt, cô Nguyễn Thị Vốn (huyện Cao Lãnh, Đồng Tháp) cho biết 16 năm gắn bó với công ty, cô không nghĩ có một ngày, mình sẽ rời công ty như vậy. “Buồn lắm chứ, mà giờ công ty không có đơn hàng, biết phải làm sao. Hôm nay làm việc cuối cùng rồi, chắc cô về quê chứ đâu kiếm được việc nữa. Cô 52 tuổi rồi, ai mà mướn”, cô Vốn xúc động nói. Cũng trong tình cảnh tương tự, 17 năm gắn bó với công ty, hôm nay, cô Đặng Thị Hường (51 tuổi, quê Nghệ An) chỉ biết lắc đầu chua chát. Đẩy chiếc xe đạp cũ chở đầy ve chai rời công ty, cô Hường lủi thủi quay lại căn trọ cũ, cô cũng chưa biết ngày mai mình sẽ ra sao. Cô Đặng Thị Hường (51 tuổi, quê Nghệ An) 17 năm qua, số tiền 7-8 triệu mỗi tháng từ việc làm công nhân giúp cô trang trải sinh hoạt, gửi tiền về quê để chăm lo cho con cái, gia đình. Tuy cuộc sống không mấy khá giả nhưng có được công việc làm, đặc biệt ở tuổi ngoài 50 như cô đã là một điều may mắn. Cô tính ráng làm ít năm nữa, sau khi đủ tuổi về hưu, cô sẽ về lại quê nhà sinh sống. Nhưng rồi 1 tháng qua, từ lúc nhận được thông báo công ty sẽ sa thải gần 1.200 công nhân vào ngày 30/11, cô như người mất hồn. Mọi dự định đều tan vỡ, cô Hường chết lặng… “Nay công ty cho nghỉ luôn rồi, chỉ có 1 số được ở lại thôi. Mai chắc cô ở nhà, chưa biết làm gì. Cô cũng muốn xin đi rửa chén, phụ việc nhưng sợ mình lớn tuổi, cũng không ai nhận. Giờ cô cũng không dám về quê nữa, tiền ít quá, lấy gì đâu mà về. Chắc phải đi xin việc tạm ở đâu đó để kiếm sống thôi”, cô Hường nghẹn lời. Trong số 1.185 công nhân của công ty TNHH Tỷ Hùng bị chấm dứt hợp đồng lao động, có đến 50% lao động là nữ ngoài 40 tuổi. Điều này khiến cho việc xoay trở của những công nhân lớn tuổi sau khi mất việc khó càng thêm khó. Chị Hường (40 tuổi, Đồng Tháp) vẫn chưa biết sẽ sống sao khi mất việc làm Rời công ty với giỏ ve chai chất đầy trên yên xe, chị Hường (40 tuổi, Đồng Tháp) cho biết sau ngày làm việc cuối cùng, hầu như ai cũng gom góp ít ve chai có được ở nơi sản xuất để ra vựa bán. Với nhiều người, số tiền bán ve chai chẳng đáng là bao, nhưng với chị Hường, được đồng nào hay đồng đó, nhất là những ngày sắp tới, chị chưa biết sẽ sống ra sao khi mất việc làm. “Cả ngày hôm nay chị buồn lắm, chắc thất nghiệp tới Tết luôn rồi. Nay vào công ty mà không có làm, cán bộ ngồi đó cũng khóc. Công ty không có trụ nổi, mùa dịch thấy vậy mà cố gắng vượt qua được. Mất việc rồi, cuộc sống giờ gì cũng khó khăn hết trơn. Tết nhất đến nơi rồi, đâu có ai chịu nhận người mới làm việc…”, chị Hường thở dài. Quay trở lại căn phòng trọ, chị Trần Thị Giúp (48 tuổi) đứng thẫn thờ một góc. Cũng giống như mọi người, sau hôm nay, chị Giúp sẽ thất nghiệp, ở tuổi 48, nỗi lo lắng càng thêm chất chồng với chị. Chị Trần Thị Giúp (48 tuổi) thẫn thờ lo lắng khi mất việc “Ngày mai chị chưa biết sẽ làm gì, bình thường 7h sáng đã ra khỏi nhà để đi làm, tuy có cực nhưng có việc làm, có đồng tiền để xoay xở. Buồn lắm chứ, 17 năm rồi, đâu có nghĩ 1 ngày mình sẽ nghỉ việc như thế này đâu. Những ngày sắp tới chắc cũng rầu lo, thôi thì tới đâu hay tới đó, chứ nghĩ cũng đâu được gì đâu”, chị Giúp tâm sự. Theo chị Giúp, khoảng 2 tuần này, công ty không còn việc làm, mọi người chỉ đến cắt chỉ máy với làm vệ sinh cho sạch. Ngày cuối cùng ở công ty, từ cán bộ đến công nhân, ai cũng khóc rồi tự an ủi lẫn nhau. Trong căn nhà trọ, chị Giúp cùng chồng lo lắng về cái Tết cận kề “Chắc Tết năm nay buồn lắm, phải gói ghém tiết kiệm lại thôi, chứ giờ có mình ổng làm, hai vợ chồng cũng còn phải lo cho con cái rồi ông bà nội ngoại 2 bên nữa”, chị Giúp nhìn chồng, thở dài bất lực. Mọi năm, những tháng gần Tết, cả hai vợ chồng chị Giúp đều tranh thủ làm tăng ca. Nhận được thưởng Tết, chị Giúp cũng có chút ít để về quê mua quà tặng cho gia đình, phụ lo cho gia đình nội ngoại 2 bên. Giờ bất ngờ bị cho nghỉ việc, chị Giúp hoang mang. “Người trẻ họ còn có cơ hội chứ như tụi gì, già rồi, ai mà mướn. Năm ngoái dịch đã buồn, năm nay càng buồn hơn…”. Trong căn trọ xập xệ, chị Giúp nhìn anh Minh, thở dài, chẳng biết nói gì. Hôm nay, chị đã chính thức mất việc sau 18 năm gắn bó với Tỷ Hùng. Chưa bao giờ, cuộc sống của những người công nhân lại khổ như vậy, nhất là Tết đã cận kề đến nơi… Hầu như ai cũng nhặt ve chai ở nơi sản xuất để ra vựa bán bởi họ biết tương lai sẽ đầy những khó khăn'"
      ]
     },
     "execution_count": 315,
     "metadata": {},
     "output_type": "execute_result"
    }
   ],
   "source": [
    "url = 'https://phunuvietnam.vn/gan-1200-cong-nhan-o-tphcm-bi-sa-thai-truoc-tet-nhieu-nguoi-bat-khoc-trong-ngay-lam-viec-cuoi-cung-20221130194412875.htm'\n",
    "\n",
    "result = requests.get(url)\n",
    "c = result.content\n",
    "soup = BeautifulSoup(c,\"lxml\")\n",
    "\n",
    "summary = soup.find('div',class_=\"content-detail\")\n",
    "summary = summary.find_all('p')\n",
    "summary = summary[1:-1]\n",
    "summary = [i.text for i in summary]\n",
    "summary = ' '.join(summary)\n",
    "summary"
   ]
  },
  {
   "cell_type": "code",
   "execution_count": 316,
   "metadata": {},
   "outputs": [],
   "source": [
    "# Load modul \n",
    "import os\n",
    "from gensim.models import KeyedVectors \n",
    "\n",
    "w2v = KeyedVectors.load_word2vec_format(os.getcwd() + '/../Data/vi.vec')"
   ]
  },
  {
   "cell_type": "code",
   "execution_count": 317,
   "metadata": {},
   "outputs": [],
   "source": [
    "from underthesea import sent_tokenize,word_tokenize\n",
    "#  convert sentence to vector / Hàm chuyển câu thành vector\n",
    "\n",
    "def sent2vec(s):\n",
    "    words = str(s).lower()\n",
    "    words = word_tokenize(words)\n",
    "    words = [w for w in words if w.isalpha()]\n",
    "    M = []\n",
    "    for w in words:\n",
    "        try:\n",
    "            M.append(w2v[w])\n",
    "        except:\n",
    "            continue\n",
    "    M = np.array(M)\n",
    "    v = M.sum(axis=0)\n",
    "    return v / np.sqrt((v ** 2).sum())\n",
    "\n",
    "#  chuyển văn bản thành từng câu / Convert text to sentences\n",
    "def text2sent(text):\n",
    "    sentences = [[sentences.lower()] for sentences in sent_tokenize(text)]\n",
    "    return sentences\n",
    "\n",
    "#  tính độ tương tự giữa 2 câu / Calculate the similarity between 2 sentences\n",
    "def similarity(s1, s2):\n",
    "    return np.dot(s1, s2)\n",
    "\n",
    "#  tính độ tương tự giữa 1 câu với tất cả các câu khác / Calculate the similarity between 1 sentence and all other sentences\n",
    "def sim_matrix(sentences):\n",
    "    n = len(sentences)\n",
    "    A = np.zeros((n, n))\n",
    "    for i in range(n):\n",
    "        for j in range(n):\n",
    "            if i == j:\n",
    "                continue\n",
    "            A[i][j] = similarity(sentences[i], sentences[j])\n",
    "    return A\n"
   ]
  },
  {
   "cell_type": "code",
   "execution_count": 318,
   "metadata": {},
   "outputs": [
    {
     "data": {
      "text/plain": [
       "[['đưa đôi tay quệt nước mắt, cô nguyễn thị vốn (huyện cao lãnh, đồng tháp) cho biết 16 năm gắn bó với công ty, cô không nghĩ có một ngày, mình sẽ rời công ty như vậy.'],\n",
       " ['“buồn lắm chứ, mà giờ công ty không có đơn hàng, biết phải làm sao.'],\n",
       " ['hôm nay làm việc cuối cùng rồi, chắc cô về quê chứ đâu kiếm được việc nữa.'],\n",
       " ['cô 52 tuổi rồi, ai mà mướn”, cô vốn xúc động nói.'],\n",
       " ['cũng trong tình cảnh tương tự, 17 năm gắn bó với công ty, hôm nay, cô đặng thị hường (51 tuổi, quê nghệ an) chỉ biết lắc đầu chua chát.'],\n",
       " ['đẩy chiếc xe đạp cũ chở đầy ve chai rời công ty, cô hường lủi thủi quay lại căn trọ cũ, cô cũng chưa biết ngày mai mình sẽ ra sao.'],\n",
       " ['cô đặng thị hường (51 tuổi, quê nghệ an) 17 năm qua, số tiền 7-8 triệu mỗi tháng từ việc làm công nhân giúp cô trang trải sinh hoạt, gửi tiền về quê để chăm lo cho con cái, gia đình.'],\n",
       " ['tuy cuộc sống không mấy khá giả nhưng có được công việc làm, đặc biệt ở tuổi ngoài 50 như cô đã là một điều may mắn.'],\n",
       " ['cô tính ráng làm ít năm nữa, sau khi đủ tuổi về hưu, cô sẽ về lại quê nhà sinh sống.'],\n",
       " ['nhưng rồi 1 tháng qua, từ lúc nhận được thông báo công ty sẽ sa thải gần 1.200 công nhân vào ngày 30/11, cô như người mất hồn.'],\n",
       " ['mọi dự định đều tan vỡ, cô hường chết lặng… “nay công ty cho nghỉ luôn rồi, chỉ có 1 số được ở lại thôi.'],\n",
       " ['mai chắc cô ở nhà, chưa biết làm gì.'],\n",
       " ['cô cũng muốn xin đi rửa chén, phụ việc nhưng sợ mình lớn tuổi, cũng không ai nhận.'],\n",
       " ['giờ cô cũng không dám về quê nữa, tiền ít quá, lấy gì đâu mà về.'],\n",
       " ['chắc phải đi xin việc tạm ở đâu đó để kiếm sống thôi”, cô hường nghẹn lời.'],\n",
       " ['trong số 1.185 công nhân của công ty tnhh tỷ hùng bị chấm dứt hợp đồng lao động, có đến 50% lao động là nữ ngoài 40 tuổi.'],\n",
       " ['điều này khiến cho việc xoay trở của những công nhân lớn tuổi sau khi mất việc khó càng thêm khó.'],\n",
       " ['chị hường (40 tuổi, đồng tháp) vẫn chưa biết sẽ sống sao khi mất việc làm rời công ty với giỏ ve chai chất đầy trên yên xe, chị hường (40 tuổi, đồng tháp) cho biết sau ngày làm việc cuối cùng, hầu như ai cũng gom góp ít ve chai có được ở nơi sản xuất để ra vựa bán.'],\n",
       " ['với nhiều người, số tiền bán ve chai chẳng đáng là bao, nhưng với chị hường, được đồng nào hay đồng đó, nhất là những ngày sắp tới, chị chưa biết sẽ sống ra sao khi mất việc làm.'],\n",
       " ['“cả ngày hôm nay chị buồn lắm, chắc thất nghiệp tới tết luôn rồi.'],\n",
       " ['nay vào công ty mà không có làm, cán bộ ngồi đó cũng khóc.'],\n",
       " ['công ty không có trụ nổi, mùa dịch thấy vậy mà cố gắng vượt qua được.'],\n",
       " ['mất việc rồi, cuộc sống giờ gì cũng khó khăn hết trơn.'],\n",
       " ['tết nhất đến nơi rồi, đâu có ai chịu nhận người mới làm việc…”, chị hường thở dài.'],\n",
       " ['quay trở lại căn phòng trọ, chị trần thị giúp (48 tuổi) đứng thẫn thờ một góc.'],\n",
       " ['cũng giống như mọi người, sau hôm nay, chị giúp sẽ thất nghiệp, ở tuổi 48, nỗi lo lắng càng thêm chất chồng với chị.'],\n",
       " ['chị trần thị giúp (48 tuổi) thẫn thờ lo lắng khi mất việc “ngày mai chị chưa biết sẽ làm gì, bình thường 7h sáng đã ra khỏi nhà để đi làm, tuy có cực nhưng có việc làm, có đồng tiền để xoay xở.'],\n",
       " ['buồn lắm chứ, 17 năm rồi, đâu có nghĩ 1 ngày mình sẽ nghỉ việc như thế này đâu.'],\n",
       " ['những ngày sắp tới chắc cũng rầu lo, thôi thì tới đâu hay tới đó, chứ nghĩ cũng đâu được gì đâu”, chị giúp tâm sự.'],\n",
       " ['theo chị giúp, khoảng 2 tuần này, công ty không còn việc làm, mọi người chỉ đến cắt chỉ máy với làm vệ sinh cho sạch.'],\n",
       " ['ngày cuối cùng ở công ty, từ cán bộ đến công nhân, ai cũng khóc rồi tự an ủi lẫn nhau.'],\n",
       " ['trong căn nhà trọ, chị giúp cùng chồng lo lắng về cái tết cận kề “chắc tết năm nay buồn lắm, phải gói ghém tiết kiệm lại thôi, chứ giờ có mình ổng làm, hai vợ chồng cũng còn phải lo cho con cái rồi ông bà nội ngoại 2 bên nữa”, chị giúp nhìn chồng, thở dài bất lực.'],\n",
       " ['mọi năm, những tháng gần tết, cả hai vợ chồng chị giúp đều tranh thủ làm tăng ca.'],\n",
       " ['nhận được thưởng tết, chị giúp cũng có chút ít để về quê mua quà tặng cho gia đình, phụ lo cho gia đình nội ngoại 2 bên.'],\n",
       " ['giờ bất ngờ bị cho nghỉ việc, chị giúp hoang mang.'],\n",
       " ['“người trẻ họ còn có cơ hội chứ như tụi gì, già rồi, ai mà mướn.'],\n",
       " ['năm ngoái dịch đã buồn, năm nay càng buồn hơn…”.'],\n",
       " ['trong căn trọ xập xệ, chị giúp nhìn anh minh, thở dài, chẳng biết nói gì.'],\n",
       " ['hôm nay, chị đã chính thức mất việc sau 18 năm gắn bó với tỷ hùng.'],\n",
       " ['chưa bao giờ, cuộc sống của những người công nhân lại khổ như vậy, nhất là tết đã cận kề đến nơi… hầu như ai cũng nhặt ve chai ở nơi sản xuất để ra vựa bán bởi họ biết tương lai sẽ đầy những khó khăn']]"
      ]
     },
     "execution_count": 318,
     "metadata": {},
     "output_type": "execute_result"
    }
   ],
   "source": [
    "#  chuyển văn bản thành từng câu / Convert text to sentences\n",
    "sentences = text2sent(summary)\n",
    "sentences"
   ]
  },
  {
   "cell_type": "code",
   "execution_count": 319,
   "metadata": {},
   "outputs": [],
   "source": [
    "#  Chuyển câu thành vector / Convert sentences to vector\n",
    "sentences_vec = [sent2vec(i) for i in sentences]"
   ]
  },
  {
   "cell_type": "markdown",
   "metadata": {},
   "source": [
    "# Tóm tắt văn bản thông thường theo cách tính trọng số"
   ]
  },
  {
   "cell_type": "code",
   "execution_count": 320,
   "metadata": {},
   "outputs": [],
   "source": [
    "#  Tính ma trận độ tương tự / Calculate similarity matrix\n",
    "A = sim_matrix(sentences_vec)\n",
    "\n",
    "#  Tính độ tương tự trung bình của câu / Calculate the average similarity of the sentence\n",
    "avg = A.sum(axis=1) / (A.shape[0] - 1)\n"
   ]
  },
  {
   "cell_type": "code",
   "execution_count": 321,
   "metadata": {},
   "outputs": [],
   "source": [
    "#  Xây dựng trọng số cho từng câu / Build weight for each sentence\n",
    "weighted_avg = ((avg - avg.min()) / (avg.max() - avg.min()))\n",
    "#  Tính điểm cho từng câu / Calculate the score for each sentence\n",
    "score = (A.dot(weighted_avg)) / weighted_avg.sum()\n",
    "#  Sắp xếp câu theo thứ tự giảm dần / Sort sentences in descending order\n",
    "ranked_sentences = sorted(((score[i],s) for i,s in enumerate(sentences_vec)), reverse=True)\n",
    "    "
   ]
  },
  {
   "cell_type": "code",
   "execution_count": 322,
   "metadata": {},
   "outputs": [
    {
     "name": "stdout",
     "output_type": "stream",
     "text": [
      "[ 0.07192806  0.11808205 -0.16493565 -0.01469135  0.02629197  0.0356265\n",
      " -0.10153046  0.00456999 -0.02225507  0.15692681 -0.08215572  0.0828931\n",
      " -0.03252504 -0.1402517  -0.06628973  0.02013916 -0.00569439 -0.06053371\n",
      "  0.09176295 -0.14034715  0.005414    0.12056952 -0.16585721 -0.07193293\n",
      " -0.10832126  0.03510675  0.10341634 -0.00459006  0.09925169  0.02589221\n",
      " -0.05491049  0.0166328   0.05748543  0.0178882   0.0665076  -0.11608972\n",
      " -0.06865647  0.02791375 -0.02816372 -0.06491087  0.02607731  0.0158187\n",
      " -0.16718103 -0.03175634 -0.00373879 -0.26083565  0.04096742 -0.21112436\n",
      " -0.03348907  0.03410841 -0.02250595 -0.0477521   0.06043892 -0.11387746\n",
      "  0.07111563 -0.19332562 -0.02735873  0.03363135  0.14613184 -0.18870847\n",
      "  0.00617105  0.1578912   0.05940605  0.07700426 -0.09859898  0.09387803\n",
      " -0.08999343  0.12201154  0.03077221  0.03999867 -0.04504185 -0.16059135\n",
      " -0.23688263  0.13859442  0.09230885 -0.10851827 -0.00780156  0.06060214\n",
      "  0.04074403  0.08765996  0.12685059  0.00608296 -0.0373718   0.02294392\n",
      "  0.02063419 -0.07797144  0.04493598 -0.03406716 -0.03031649 -0.09436422\n",
      "  0.22996238  0.10527124  0.13516982 -0.03900953  0.07552296  0.31257215\n",
      "  0.00232649 -0.04073785 -0.09985074 -0.09896722]\n",
      "[ 4.3582853e-02  7.2947569e-02 -8.0154784e-02  1.1463841e-02\n",
      "  5.2739745e-03  3.9168015e-02 -7.6844901e-02 -5.2656595e-02\n",
      " -3.7304059e-02  1.8786328e-01 -8.9799479e-02  7.5136915e-02\n",
      " -2.9263236e-02 -1.6249062e-01 -5.9440382e-02  2.6871342e-02\n",
      " -6.2703430e-03 -8.3259687e-02  4.8466083e-02 -1.6419245e-01\n",
      " -1.6434265e-04  9.9062264e-02 -1.8984474e-01 -3.6689650e-02\n",
      " -1.1470782e-01  6.8940125e-02  7.0821509e-02  6.1610602e-03\n",
      "  6.5997966e-02 -2.5797237e-02 -4.3062948e-02  8.4206775e-02\n",
      "  2.9918330e-02 -1.5629014e-02  8.1665874e-02 -1.1481401e-01\n",
      " -6.9127716e-02  4.7728505e-02 -4.2334646e-02 -7.5029336e-02\n",
      "  5.7754211e-02  7.6670237e-03 -9.7893313e-02 -5.5255316e-02\n",
      " -8.1631772e-02 -2.6021990e-01  8.3166584e-02 -2.0320158e-01\n",
      " -8.4576055e-02  6.3754417e-02 -4.4904642e-02 -4.7499295e-02\n",
      "  1.1342188e-02 -1.6259052e-01  6.9141395e-02 -1.8186921e-01\n",
      " -1.4939206e-02  2.3500660e-02  1.1675439e-01 -1.5347999e-01\n",
      "  5.3464711e-02  1.6225739e-01  7.7604525e-02  1.3719241e-02\n",
      " -8.0765210e-02  1.5514939e-01 -8.9730427e-02  1.5113884e-01\n",
      "  1.2943295e-02  6.5547444e-02 -6.9741696e-02 -1.7453021e-01\n",
      " -2.0892341e-01  1.6899431e-01  9.8045141e-02 -1.6663964e-01\n",
      " -2.9982049e-02  3.4882654e-02  7.2788283e-02  5.8616214e-02\n",
      "  1.2552777e-01  9.9120662e-03 -7.9081759e-02  2.9301222e-02\n",
      " -3.5107080e-02 -2.3610555e-02  3.0977333e-02 -6.2559843e-02\n",
      " -2.3566704e-02 -9.0616204e-02  2.2026028e-01  1.3460247e-01\n",
      "  1.3419890e-01 -6.3594706e-02  8.3343284e-03  2.8251463e-01\n",
      " -2.6633054e-02 -1.0124441e-03 -8.9035392e-02 -9.4785601e-02]\n",
      "[-0.00121961  0.09525476 -0.01232105  0.0064442   0.02091768  0.01081535\n",
      " -0.06086768 -0.0386933  -0.00173739  0.06464223 -0.04818269  0.05596285\n",
      " -0.05110534 -0.1189613  -0.04388634  0.04885633  0.00044072 -0.09507655\n",
      "  0.05684507 -0.17279297  0.05114185  0.07037609 -0.1722067   0.01838669\n",
      " -0.17950587 -0.01371424  0.06559133 -0.08602757  0.13206573  0.00806238\n",
      " -0.00608532  0.02342162  0.0417383  -0.00712099  0.1023996  -0.06353654\n",
      "  0.01029293  0.05942725 -0.084869   -0.0384256   0.03781706  0.06683532\n",
      " -0.10445253 -0.03333746 -0.05275832 -0.28013015  0.06426923 -0.22970228\n",
      "  0.00573576  0.00480437 -0.06822737 -0.0906246   0.15597676 -0.14483961\n",
      "  0.08122704 -0.1787082  -0.04996561 -0.01971173  0.091049   -0.16124189\n",
      "  0.05446828  0.17623688  0.03327624  0.02113244 -0.06718129  0.14100605\n",
      " -0.07115995  0.18594293  0.03405822  0.10028392 -0.11037356 -0.15999487\n",
      " -0.30565923  0.13755542  0.14018592 -0.14564398  0.00739216  0.0850331\n",
      "  0.13138615  0.05463408  0.08060275  0.05674872 -0.04055967  0.00948676\n",
      " -0.02475144 -0.06704246  0.09843064 -0.0572715  -0.00482392 -0.07828458\n",
      "  0.15509947  0.09788543  0.15552278 -0.03930413  0.01395711  0.23945996\n",
      "  0.01813983 -0.0513958  -0.05593733 -0.07539633]\n",
      "[ 0.09971114  0.06393806 -0.05381135 -0.05138293 -0.01889461  0.02220368\n",
      " -0.14921677 -0.03209962 -0.00058543  0.1859441  -0.07758582  0.04732136\n",
      " -0.043343   -0.12602343 -0.02509609 -0.00187229 -0.01597545 -0.03297254\n",
      "  0.04635751 -0.09874924  0.03856748  0.07751641 -0.14497611  0.01089363\n",
      " -0.1072167   0.01549334  0.01346272 -0.00184585  0.10466922  0.02984278\n",
      "  0.04050314  0.0451989   0.04880927 -0.0609655   0.12744352 -0.12339546\n",
      " -0.00693442 -0.05506775 -0.0556363  -0.10069166  0.01301926  0.07052805\n",
      " -0.11405485 -0.09174533 -0.01894089 -0.27012387  0.03950267 -0.16545562\n",
      " -0.01466636  0.03056884 -0.07736683 -0.04870011  0.10048433 -0.12251293\n",
      "  0.05528042 -0.22986674 -0.02962139 -0.04080088  0.08148265 -0.16878085\n",
      "  0.11869498  0.1912863   0.02460067  0.07969865 -0.06579047  0.11197522\n",
      " -0.10258741  0.1582711   0.06583783  0.0665625  -0.08792171 -0.198537\n",
      " -0.26863548  0.16318628  0.05518624 -0.11551366 -0.00214105  0.18225744\n",
      "  0.07742301  0.05810792  0.08068423  0.03442005 -0.05784685  0.02228201\n",
      " -0.0479585  -0.13496573  0.09080994 -0.00910474  0.02606347 -0.07251021\n",
      "  0.1750204   0.10394594  0.12198795 -0.09322987  0.04618484  0.23034763\n",
      "  0.04941069 -0.06448127 -0.05935609 -0.12013777]\n",
      "[ 0.08839229  0.16405994 -0.11804682 -0.0038005   0.00668361  0.03161913\n",
      " -0.07860897 -0.02635968 -0.01676081  0.12535731 -0.06816995  0.0718995\n",
      " -0.02527891 -0.09148263 -0.08092458 -0.03258525 -0.06749718 -0.05045121\n",
      "  0.09903517 -0.15338984  0.03146804  0.09367664 -0.09738881 -0.02671776\n",
      " -0.11237039  0.08509529  0.12657236 -0.01995926  0.09533601 -0.01032475\n",
      " -0.00085421  0.05900608  0.09436499  0.04117704  0.07273293 -0.09251451\n",
      "  0.00226589  0.03059433 -0.07358212 -0.04833614  0.04076506  0.05988364\n",
      " -0.16121328 -0.06318395 -0.07129658 -0.29503158  0.09922314 -0.23231682\n",
      " -0.05764255 -0.00100064 -0.0169626  -0.04224943  0.05298338 -0.11536688\n",
      "  0.03641525 -0.19849095 -0.02050648  0.00777827  0.12520044 -0.1950303\n",
      "  0.06884924  0.15175284 -0.00295345  0.08018675 -0.09291567  0.09768488\n",
      " -0.08233288  0.14199495  0.02738335  0.05707795 -0.06150876 -0.16736011\n",
      " -0.19016327  0.08269884  0.03391083 -0.08031419 -0.05896207  0.02817885\n",
      "  0.03599434  0.09299438  0.10128942  0.05633689 -0.04872102  0.02535821\n",
      " -0.011915   -0.06494731  0.06883728 -0.06215544 -0.00489029 -0.13206707\n",
      "  0.2588892   0.15011458  0.13032572 -0.02647674  0.07585374  0.30386406\n",
      " -0.0154054  -0.09296547 -0.05520279 -0.08236217]\n"
     ]
    }
   ],
   "source": [
    "#  In ra 5 câu có điểm cao nhất / Print the top 5 sentences\n",
    "for i in range(5):\n",
    "    print(ranked_sentences[i][1])"
   ]
  },
  {
   "cell_type": "code",
   "execution_count": 323,
   "metadata": {},
   "outputs": [
    {
     "name": "stdout",
     "output_type": "stream",
     "text": [
      "chị hường (40 tuổi, đồng tháp) vẫn chưa biết sẽ sống sao khi mất việc làm rời công ty với giỏ ve chai chất đầy trên yên xe, chị hường (40 tuổi, đồng tháp) cho biết sau ngày làm việc cuối cùng, hầu như ai cũng gom góp ít ve chai có được ở nơi sản xuất để ra vựa bán. chị trần thị giúp (48 tuổi) thẫn thờ lo lắng khi mất việc “ngày mai chị chưa biết sẽ làm gì, bình thường 7h sáng đã ra khỏi nhà để đi làm, tuy có cực nhưng có việc làm, có đồng tiền để xoay xở. trong căn nhà trọ, chị giúp cùng chồng lo lắng về cái tết cận kề “chắc tết năm nay buồn lắm, phải gói ghém tiết kiệm lại thôi, chứ giờ có mình ổng làm, hai vợ chồng cũng còn phải lo cho con cái rồi ông bà nội ngoại 2 bên nữa”, chị giúp nhìn chồng, thở dài bất lực. mọi dự định đều tan vỡ, cô hường chết lặng… “nay công ty cho nghỉ luôn rồi, chỉ có 1 số được ở lại thôi. với nhiều người, số tiền bán ve chai chẳng đáng là bao, nhưng với chị hường, được đồng nào hay đồng đó, nhất là những ngày sắp tới, chị chưa biết sẽ sống ra sao khi mất việc làm. \n"
     ]
    }
   ],
   "source": [
    "#  Tạo ra văn bản tóm tắt với vector tương ứng / Create a summary text with the corresponding vector\n",
    "summary_wv = ''\n",
    "for i in range(5):\n",
    "    summary_wv += sentences[np.where(sentences_vec == ranked_sentences[i][1])[0][0]][0] + ' '\n",
    "\n",
    "print(summary_wv)\n"
   ]
  },
  {
   "cell_type": "markdown",
   "metadata": {},
   "source": [
    "# Sử dụng TFIDF và phương pháp cosine"
   ]
  },
  {
   "cell_type": "code",
   "execution_count": 324,
   "metadata": {},
   "outputs": [
    {
     "name": "stdout",
     "output_type": "stream",
     "text": [
      "chị hường (40 tuổi, đồng tháp) vẫn chưa biết sẽ sống sao khi mất việc làm rời công ty với giỏ ve chai chất đầy trên yên xe, chị hường (40 tuổi, đồng tháp) cho biết sau ngày làm việc cuối cùng, hầu như ai cũng gom góp ít ve chai có được ở nơi sản xuất để ra vựa bán. chị trần thị giúp (48 tuổi) thẫn thờ lo lắng khi mất việc “ngày mai chị chưa biết sẽ làm gì, bình thường 7h sáng đã ra khỏi nhà để đi làm, tuy có cực nhưng có việc làm, có đồng tiền để xoay xở. hôm nay làm việc cuối cùng rồi, chắc cô về quê chứ đâu kiếm được việc nữa. với nhiều người, số tiền bán ve chai chẳng đáng là bao, nhưng với chị hường, được đồng nào hay đồng đó, nhất là những ngày sắp tới, chị chưa biết sẽ sống ra sao khi mất việc làm. trong căn nhà trọ, chị giúp cùng chồng lo lắng về cái tết cận kề “chắc tết năm nay buồn lắm, phải gói ghém tiết kiệm lại thôi, chứ giờ có mình ổng làm, hai vợ chồng cũng còn phải lo cho con cái rồi ông bà nội ngoại 2 bên nữa”, chị giúp nhìn chồng, thở dài bất lực. \n"
     ]
    }
   ],
   "source": [
    "from sklearn.feature_extraction.text import TfidfVectorizer\n",
    "from sklearn.metrics.pairwise import cosine_similarity\n",
    "\n",
    "#  Tạo ma trận tf-idf / Create tf-idf matrix\n",
    "vectorizer = TfidfVectorizer()\n",
    "tf_idf_matrix = vectorizer.fit_transform([s[0] for s in sentences])\n",
    "\n",
    "#  Tính độ tương tự giữa các câu / Calculate the similarity between sentences\n",
    "sim_mat = cosine_similarity(tf_idf_matrix, tf_idf_matrix)\n",
    "\n",
    "#  Tính điểm cho từng câu / Calculate the score for each sentence\n",
    "sim_scores = sim_mat.sum(axis=0)\n",
    "ranked_sentences = sorted(((sim_scores[i],s) for i,s in enumerate(sentences)), reverse=True)\n",
    "\n",
    "#  Chuyển 5 câu có điểm cao nhất thành văn bản tóm tắt / Convert the top 5 sentences to a summary text\n",
    "summary_tfvec = ''\n",
    "for i in range(5):\n",
    "    summary_tfvec += ranked_sentences[i][1][0] + ' '\n",
    "\n",
    "print(summary_tfvec)\n",
    "\n"
   ]
  },
  {
   "cell_type": "markdown",
   "metadata": {},
   "source": [
    "# Sử dụng Count vector thay cho tfidfvector"
   ]
  },
  {
   "cell_type": "code",
   "execution_count": 325,
   "metadata": {},
   "outputs": [
    {
     "name": "stdout",
     "output_type": "stream",
     "text": [
      "chị hường (40 tuổi, đồng tháp) vẫn chưa biết sẽ sống sao khi mất việc làm rời công ty với giỏ ve chai chất đầy trên yên xe, chị hường (40 tuổi, đồng tháp) cho biết sau ngày làm việc cuối cùng, hầu như ai cũng gom góp ít ve chai có được ở nơi sản xuất để ra vựa bán. chị trần thị giúp (48 tuổi) thẫn thờ lo lắng khi mất việc “ngày mai chị chưa biết sẽ làm gì, bình thường 7h sáng đã ra khỏi nhà để đi làm, tuy có cực nhưng có việc làm, có đồng tiền để xoay xở. hôm nay làm việc cuối cùng rồi, chắc cô về quê chứ đâu kiếm được việc nữa. đưa đôi tay quệt nước mắt, cô nguyễn thị vốn (huyện cao lãnh, đồng tháp) cho biết 16 năm gắn bó với công ty, cô không nghĩ có một ngày, mình sẽ rời công ty như vậy. cô đặng thị hường (51 tuổi, quê nghệ an) 17 năm qua, số tiền 7-8 triệu mỗi tháng từ việc làm công nhân giúp cô trang trải sinh hoạt, gửi tiền về quê để chăm lo cho con cái, gia đình. \n"
     ]
    }
   ],
   "source": [
    "from sklearn.feature_extraction.text import CountVectorizer\n",
    "from sklearn.metrics.pairwise import cosine_similarity\n",
    "\n",
    "#  Tạo ma trận tf-idf / Create tf-idf matrix\n",
    "vectorizer = CountVectorizer()\n",
    "tf_idf_matrix = vectorizer.fit_transform([s[0] for s in sentences])\n",
    "\n",
    "#  Tính độ tương tự giữa các câu / Calculate the similarity between sentences\n",
    "sim_mat = cosine_similarity(tf_idf_matrix, tf_idf_matrix)\n",
    "\n",
    "#  Tính điểm cho từng câu / Calculate the score for each sentence\n",
    "sim_scores = sim_mat.sum(axis=0)\n",
    "ranked_sentences = sorted(((sim_scores[i],s) for i,s in enumerate(sentences)), reverse=True)\n",
    "\n",
    "#  Chuyển 5 câu có điểm cao nhất thành văn bản tóm tắt / Convert the top 5 sentences to a summary text\n",
    "summary_countvec = ''\n",
    "for i in range(5):\n",
    "    summary_countvec += ranked_sentences[i][1][0] + ' '\n",
    "\n",
    "print(summary_countvec)"
   ]
  },
  {
   "cell_type": "markdown",
   "metadata": {},
   "source": [
    "# Sử dụng model kmeans dự đoán"
   ]
  },
  {
   "cell_type": "code",
   "execution_count": 326,
   "metadata": {},
   "outputs": [
    {
     "name": "stdout",
     "output_type": "stream",
     "text": [
      "trong căn nhà trọ, chị giúp cùng chồng lo lắng về cái tết cận kề “chắc tết năm nay buồn lắm, phải gói ghém tiết kiệm lại thôi, chứ giờ có mình ổng làm, hai vợ chồng cũng còn phải lo cho con cái rồi ông bà nội ngoại 2 bên nữa”, chị giúp nhìn chồng, thở dài bất lực. mai chắc cô ở nhà, chưa biết làm gì. chị hường (40 tuổi, đồng tháp) vẫn chưa biết sẽ sống sao khi mất việc làm rời công ty với giỏ ve chai chất đầy trên yên xe, chị hường (40 tuổi, đồng tháp) cho biết sau ngày làm việc cuối cùng, hầu như ai cũng gom góp ít ve chai có được ở nơi sản xuất để ra vựa bán. chưa bao giờ, cuộc sống của những người công nhân lại khổ như vậy, nhất là tết đã cận kề đến nơi… hầu như ai cũng nhặt ve chai ở nơi sản xuất để ra vựa bán bởi họ biết tương lai sẽ đầy những khó khăn mai chắc cô ở nhà, chưa biết làm gì. \n"
     ]
    }
   ],
   "source": [
    "from sklearn.cluster import KMeans\n",
    "from sklearn.metrics import pairwise_distances_argmin_min\n",
    "\n",
    "#  Tạo ma trận tf-idf / Create tf-idf matrix\n",
    "vectorizer_C = CountVectorizer()\n",
    "tf_idf_matrix_C = vectorizer_C.fit_transform([s[0] for s in sentences])\n",
    "\n",
    "#  Tạo model KMeans / Create KMeans model\n",
    "kmeans = KMeans(n_clusters=5, random_state=0).fit(tf_idf_matrix_C)\n",
    "\n",
    "#  Tìm ra các câu có cùng cluster / Find sentences with the same cluster\n",
    "closest, _ = pairwise_distances_argmin_min(kmeans.cluster_centers_, tf_idf_matrix_C)\n",
    "\n",
    "#  Chuyển các câu có cùng cluster thành văn bản tóm tắt / Convert sentences with the same cluster to a summary text\n",
    "summary_KM_C = ''\n",
    "for i in closest:\n",
    "    summary_KM_C += sentences[i][0] + ' '\n",
    "\n",
    "print(summary_KM_C)"
   ]
  },
  {
   "cell_type": "code",
   "execution_count": 327,
   "metadata": {},
   "outputs": [
    {
     "name": "stdout",
     "output_type": "stream",
     "text": [
      "cũng trong tình cảnh tương tự, 17 năm gắn bó với công ty, hôm nay, cô đặng thị hường (51 tuổi, quê nghệ an) chỉ biết lắc đầu chua chát. chị hường (40 tuổi, đồng tháp) vẫn chưa biết sẽ sống sao khi mất việc làm rời công ty với giỏ ve chai chất đầy trên yên xe, chị hường (40 tuổi, đồng tháp) cho biết sau ngày làm việc cuối cùng, hầu như ai cũng gom góp ít ve chai có được ở nơi sản xuất để ra vựa bán. “cả ngày hôm nay chị buồn lắm, chắc thất nghiệp tới tết luôn rồi. giờ cô cũng không dám về quê nữa, tiền ít quá, lấy gì đâu mà về. cô cũng muốn xin đi rửa chén, phụ việc nhưng sợ mình lớn tuổi, cũng không ai nhận. \n"
     ]
    }
   ],
   "source": [
    "#  Tạo ma trận tf-idf / Create tf-idf matrix\n",
    "vectorizer_T = TfidfVectorizer()\n",
    "tf_idf_matrix_T = vectorizer_T.fit_transform([s[0] for s in sentences])\n",
    "\n",
    "#  Tạo model KMeans / Create KMeans model\n",
    "kmeans = KMeans(n_clusters=5, random_state=0).fit(tf_idf_matrix_T)\n",
    "\n",
    "#  Tìm ra các câu có cùng cluster / Find sentences with the same cluster\n",
    "closest, _ = pairwise_distances_argmin_min(kmeans.cluster_centers_, tf_idf_matrix_T)\n",
    "\n",
    "#  Chuyển các câu có cùng cluster thành văn bản tóm tắt / Convert sentences with the same cluster to a summary text\n",
    "summary_KM_T = ''\n",
    "for i in closest:\n",
    "    summary_KM_T += sentences[i][0] + ' '\n",
    "\n",
    "print(summary_KM_T)\n"
   ]
  },
  {
   "cell_type": "code",
   "execution_count": 328,
   "metadata": {},
   "outputs": [
    {
     "name": "stdout",
     "output_type": "stream",
     "text": [
      "trong số 1.185 công nhân của công ty tnhh tỷ hùng bị chấm dứt hợp đồng lao động, có đến 50% lao động là nữ ngoài 40 tuổi. mọi dự định đều tan vỡ, cô hường chết lặng… “nay công ty cho nghỉ luôn rồi, chỉ có 1 số được ở lại thôi. trong căn nhà trọ, chị giúp cùng chồng lo lắng về cái tết cận kề “chắc tết năm nay buồn lắm, phải gói ghém tiết kiệm lại thôi, chứ giờ có mình ổng làm, hai vợ chồng cũng còn phải lo cho con cái rồi ông bà nội ngoại 2 bên nữa”, chị giúp nhìn chồng, thở dài bất lực. chị hường (40 tuổi, đồng tháp) vẫn chưa biết sẽ sống sao khi mất việc làm rời công ty với giỏ ve chai chất đầy trên yên xe, chị hường (40 tuổi, đồng tháp) cho biết sau ngày làm việc cuối cùng, hầu như ai cũng gom góp ít ve chai có được ở nơi sản xuất để ra vựa bán. buồn lắm chứ, 17 năm rồi, đâu có nghĩ 1 ngày mình sẽ nghỉ việc như thế này đâu. \n"
     ]
    }
   ],
   "source": [
    "kmeans = KMeans(n_clusters=5, random_state=0).fit(sentences_vec)\n",
    "\n",
    "#  Tìm ra các câu có cùng cluster / Find sentences with the same cluster\n",
    "closest, _ = pairwise_distances_argmin_min(kmeans.cluster_centers_, sentences_vec)\n",
    "\n",
    "#  Chuyển các câu có cùng cluster thành văn bản tóm tắt / Convert sentences with the same cluster to a summary text\n",
    "\n",
    "summary_KM_WV = ''\n",
    "for i in closest:\n",
    "    summary_KM_WV += sentences[i][0] + ' '\n",
    "\n",
    "print(summary_KM_WV)\n"
   ]
  },
  {
   "cell_type": "markdown",
   "metadata": {},
   "source": [
    "# Thực hiện tóm tắt lại văn bản thành 1 câu với tất cả cá mô hình đã làm"
   ]
  },
  {
   "cell_type": "code",
   "execution_count": 331,
   "metadata": {},
   "outputs": [
    {
     "data": {
      "text/plain": [
       "'chị hường (40 tuổi, đồng tháp) vẫn chưa biết sẽ sống sao khi mất việc làm rời công ty với giỏ ve chai chất đầy trên yên xe, chị hường (40 tuổi, đồng tháp) cho biết sau ngày làm việc cuối cùng, hầu như ai cũng gom góp ít ve chai có được ở nơi sản xuất để ra vựa bán.'"
      ]
     },
     "execution_count": 331,
     "metadata": {},
     "output_type": "execute_result"
    }
   ],
   "source": [
    "# Chuyển các summeries thành dạng list / Convert summeries to list\n",
    "summary_list = [summary_wv, summary_tfvec, summary_countvec, summary_KM_C, summary_KM_T, summary_KM_WV]\n",
    "\n",
    "# Tách các câu trong các summeries / Split sentences in summeries\n",
    "summary_list = [s.split('. ') for s in summary_list]\n",
    "\n",
    "# Tạo ma trận tf-idf / Create tf-idf matrix\n",
    "vectorizer = TfidfVectorizer()\n",
    "tf_idf_matrix = vectorizer.fit_transform([s[0] for s in sentences])\n",
    "\n",
    "# Tính độ tương tự giữa các câu / Calculate the similarity between sentences\n",
    "sim_mat = cosine_similarity(tf_idf_matrix, tf_idf_matrix)\n",
    "\n",
    "# Tính điểm cho từng câu / Calculate the score for each sentence\n",
    "sim_scores = sim_mat.sum(axis=0)\n",
    "\n",
    "# Tạo một list chứa các câu có điểm cao nhất / Create a list containing the sentences with the highest score\n",
    "ranked_sentences = sorted(((sim_scores[i],s) for i,s in enumerate(sentences)), reverse=True)\n",
    "\n",
    "# Lấy câu có điểm cao nhất / Get the sentence with the highest score\n",
    "top_sentence = ranked_sentences[0][1][0]\n",
    "top_sentence"
   ]
  },
  {
   "cell_type": "code",
   "execution_count": 333,
   "metadata": {},
   "outputs": [
    {
     "name": "stdout",
     "output_type": "stream",
     "text": [
      "Đoạn văn nói về:  chị hường 40 tuổi đồng tháp sống mất việc làm rời công ty giỏ ve chai chất đầy yên xe chị hường 40 tuổi đồng tháp làm việc cuối cùng hầu như gom góp ít ve chai sản xuất vựa bán\n"
     ]
    }
   ],
   "source": [
    "from underthesea import pos_tag\n",
    "import string\n",
    "# Xử lý câu có điểm cao nhất / Process the sentence with the highest score\n",
    "\n",
    "# lấy các token của câu / get tokens of the sentence\n",
    "top_sentence_tokens = word_tokenize(top_sentence)\n",
    "\n",
    "# loại bỏ các token là dấu câu / remove punctuation tokens\n",
    "top_sentence_tokens = [t for t in top_sentence_tokens if t not in string.punctuation]\n",
    "\n",
    "# loại bỏ các token là stopword / remove stopword tokens\n",
    "top_sentence_tokens = [t for t in top_sentence_tokens if t not in stop_words]\n",
    "\n",
    "# Chuyển thành đoạn văn bản xúc tích / Convert to sentiment text\n",
    "top_sentence_tokens = ' '.join(top_sentence_tokens)\n",
    "\n",
    "print('Đoạn văn nói về: ', top_sentence_tokens)"
   ]
  }
 ],
 "metadata": {
  "kernelspec": {
   "display_name": "Python 3.10.8 64-bit (microsoft store)",
   "language": "python",
   "name": "python3"
  },
  "language_info": {
   "codemirror_mode": {
    "name": "ipython",
    "version": 3
   },
   "file_extension": ".py",
   "mimetype": "text/x-python",
   "name": "python",
   "nbconvert_exporter": "python",
   "pygments_lexer": "ipython3",
   "version": "3.10.8"
  },
  "orig_nbformat": 4,
  "vscode": {
   "interpreter": {
    "hash": "cdfbf7b7304e05408e799db5ef32899d3a083826c8173734f898b7fad24dd3fd"
   }
  }
 },
 "nbformat": 4,
 "nbformat_minor": 2
}
