{
 "cells": [
  {
   "cell_type": "code",
   "execution_count": 388,
   "metadata": {},
   "outputs": [],
   "source": [
    "import pandas as pd\n",
    "import numpy as np\n",
    "from bs4 import BeautifulSoup\n",
    "import requests\n",
    "import warnings\n",
    "warnings.filterwarnings(\"ignore\")"
   ]
  },
  {
   "cell_type": "code",
   "execution_count": 389,
   "metadata": {},
   "outputs": [],
   "source": [
    "stop_words = open(os.getcwd() + '/../Data/vietnamese-stopwords.txt', 'r', encoding='utf-8').read()\n",
    "stop_words = stop_words.split()"
   ]
  },
  {
   "cell_type": "code",
   "execution_count": 390,
   "metadata": {},
   "outputs": [
    {
     "data": {
      "text/plain": [
       "' Thực tế, những người phụ nữ có thể đặt cuộc sống của mình vào \"chế độ im lặng\" thường không đơn giản, hơn ai hết, họ đều rất hiểu những điều sau đây:\\xa0 Không cần mặt trời để chói chang mới là hạnh phúc Có nhiều người đặc biệt thích chia sẻ những bức hình sang chảnh, lộng lẫy của mình lên cho người khác xem, dù ở trong hoàn cảnh nào cũng cố tạo ra trạng thái hoàn hảo để chứng minh cho người ngoài thấy bản thân đang rất hạnh phúc. Sự thật là, trên thế giới này, không ai thực sự quan tâm bạn có hạnh phúc hay không mà luôn có người ghen tị với bạn khi bạn làm tốt và có người làm tổn thương bạn khi bạn làm không tốt.\\xa0Bản chất con người rất phức tạp\\xa0và cách tốt nhất để bảo vệ chính bạn là không thách thức người khác. Những người phụ nữ thực sự khôn ngoan\\xa0biết cách kiềm chế sự phù phiếm của mình. Họ hiểu rằng cuộc sống không phải để người khác nhìn thấy. Hạnh phúc như cốc nước lọc, hãy uống và tự mình biết, không nhất thiết phải phơi bày ra ngoài. Họ chuyển\\xa0cuộc sống của mình sang\"chế độ im lặng\", giữ hạnh phúc cho riêng mình,\\xa0trân trọng những người xung quanh; dành thời gian, tình cảm cho những người và những điều\\xa0quan trọng. Trái tim của họ phong phú hơn, ý thức về giá trị bản thân cũng cao hơn và niềm hạnh phúc đó tỏa ra từ trong ra ngoài. Đó là bởi họ\\xa0biết bản thân mình muốn gì và sẽ hướng đến điều trái tim mình mong đợi thay vì bận lòng bởi\\xa0việc người khác nghĩ gì về hạnh phúc của mình. Những người phụ nữ như vậy, họ có sức hút rất đặc biệt, khiến người ta cảm thấy ấm áp và không thể không muốn lại gần.  Một số người,\\xa0không đáng để quan tâm Trong cuộc sống, chúng ta ai cũng sẽ\\xa0gặp phải những người không ưa mình, không thích mình. Bất kể bạn nói và làm gì, họ cũng sẽ thấy không thuận mắt thuận tai, nói những lời khó nghe về bạn. Nhớ rằng, bạn không thể cấm người khác nói hay nghĩ gì nhưng hoàn toàn có quyền lựa chọn những điều mình nghe và nhập vào đầu. Đừng bao giờ bị thu hút bởi những lời nói độc hại đó, thậm chí vì chúng mà sinh mâu thuẫn, cãi vã lần nhau, hủy hoại tâm trạng của chính mình.\\xa0 Một người phụ nữ thực sự mạnh mẽ biết cách đặt cuộc sống của mình ở \"chế độ im lặng\". Gặp phải những lời khó nghe, tiêu cực\\xa0thì họ sẽ không nghe;\\xa0không thể bắt người khác im lặng thì bịt chặt tai mình lại và\\xa0tránh xa người đó.\\xa0Gặp phải người khó ưa, quyết không thay đổi thì hãy cứ phớt lờ, không cần vì một phút nóng giận mà cãi vã, dây dưa để rồi\\xa0rơi vào những cảm xúc tiêu cực.\\xa0 Trong cuộc sống, ai cũng cần học cho mình chữ \"nhẫn\", học\\xa0cách kiềm chế cảm xúc của mình và không bị cuốn vào những người cũng như những điều tiêu cực.\\xa0  Giữ im lặng, tu dưỡng chính mình Một người phụ nữ đặt cuộc sống của mình ở \"chế độ im lặng\" là\\xa0vì cô ấy ngăn chặn sự can thiệp và làm hại từ thế giới bên ngoài. Người như vậy chọn\\xa0không còn lãng phí thời gian và sức lực cho những người và những thứ không xứng đáng, có nhiều thời gian và năng lượng để tập trung hơn cho việc\\xa0tu dưỡng, hoàn thiện\\xa0bản thân. Nhớ rằng, cho dù một người lựa chọn cuộc sống như thế nào, đi theo con đường ra sao\\xa0thì đó cũng là cuộc sống của chính họ, không liên quan gì đến người khác. Bớt phô trương đi, hãy dùng trái tim để hiểu được niềm hạnh phúc mà mình đang có.\\xa0Lặng lẽ, bình tĩnh, khiêm tốn và giản dị, để cảm nhận tình yêu thương ta được mọi người trao cho cũng như\\xa0niềm hạnh phúc do chính mình tạo ra. Bớt tranh cãi đi, phớt lờ và mỉm cười trước những lời nói không mấy thiện cảm đó, đừng mang suy nghĩ của họ làm thước đo cho hành động của mình. Hãy chọn điều mình muốn nghe, điều mình sẵn sàng nghe và điều mình thấy hữu ích.\\xa0'"
      ]
     },
     "execution_count": 390,
     "metadata": {},
     "output_type": "execute_result"
    }
   ],
   "source": [
    "url = 'https://phunuvietnam.vn/nhung-nguoi-phu-nu-dat-cuoc-song-vao-che-do-im-lang-ho-thuong-khong-don-gian-512022112114044393.htm'\n",
    "result = requests.get(url)\n",
    "c = result.content\n",
    "soup = BeautifulSoup(c,\"lxml\")\n",
    "\n",
    "summary = soup.find('div',class_=\"content-detail\")\n",
    "summary = summary.find_all('p')\n",
    "summary = summary[1:-1]\n",
    "summary = [i.text for i in summary]\n",
    "summary = ' '.join(summary)\n",
    "summary"
   ]
  },
  {
   "cell_type": "code",
   "execution_count": 391,
   "metadata": {},
   "outputs": [],
   "source": [
    "# Load modul \n",
    "import os\n",
    "from gensim.models import KeyedVectors \n",
    "\n",
    "w2v = KeyedVectors.load_word2vec_format(os.getcwd() + '/../Data/vi.vec')"
   ]
  },
  {
   "cell_type": "code",
   "execution_count": 392,
   "metadata": {},
   "outputs": [],
   "source": [
    "from underthesea import sent_tokenize,word_tokenize\n",
    "#  convert sentence to vector / Hàm chuyển câu thành vector\n",
    "\n",
    "def sent2vec(s):\n",
    "    words = str(s).lower()\n",
    "    words = word_tokenize(words)\n",
    "    words = [w for w in words if w.isalpha()]\n",
    "    M = []\n",
    "    for w in words:\n",
    "        try:\n",
    "            M.append(w2v[w])\n",
    "        except:\n",
    "            continue\n",
    "    M = np.array(M)\n",
    "    v = M.sum(axis=0)\n",
    "    return v / np.sqrt((v ** 2).sum())\n",
    "\n",
    "#  chuyển văn bản thành từng câu / Convert text to sentences\n",
    "def text2sent(text):\n",
    "    sentences = [[sentences.lower()] for sentences in sent_tokenize(text)]\n",
    "    return sentences\n",
    "\n",
    "#  tính độ tương tự giữa 2 câu / Calculate the similarity between 2 sentences\n",
    "def similarity(s1, s2):\n",
    "    return np.dot(s1, s2)\n",
    "\n",
    "#  tính độ tương tự giữa 1 câu với tất cả các câu khác / Calculate the similarity between 1 sentence and all other sentences\n",
    "def sim_matrix(sentences):\n",
    "    n = len(sentences)\n",
    "    A = np.zeros((n, n))\n",
    "    for i in range(n):\n",
    "        for j in range(n):\n",
    "            if i == j:\n",
    "                continue\n",
    "            A[i][j] = similarity(sentences[i], sentences[j])\n",
    "    return A\n"
   ]
  },
  {
   "cell_type": "code",
   "execution_count": 393,
   "metadata": {},
   "outputs": [
    {
     "data": {
      "text/plain": [
       "[[' thực tế, những người phụ nữ có thể đặt cuộc sống của mình vào \"chế độ im lặng\" thường không đơn giản, hơn ai hết, họ đều rất hiểu những điều sau đây:\\xa0 không cần mặt trời để chói chang mới là hạnh phúc có nhiều người đặc biệt thích chia sẻ những bức hình sang chảnh, lộng lẫy của mình lên cho người khác xem, dù ở trong hoàn cảnh nào cũng cố tạo ra trạng thái hoàn hảo để chứng minh cho người ngoài thấy bản thân đang rất hạnh phúc.'],\n",
       " ['sự thật là, trên thế giới này, không ai thực sự quan tâm bạn có hạnh phúc hay không mà luôn có người ghen tị với bạn khi bạn làm tốt và có người làm tổn thương bạn khi bạn làm không tốt.'],\n",
       " ['bản chất con người rất phức tạp\\xa0và cách tốt nhất để bảo vệ chính bạn là không thách thức người khác.'],\n",
       " ['những người phụ nữ thực sự khôn ngoan\\xa0biết cách kiềm chế sự phù phiếm của mình.'],\n",
       " ['họ hiểu rằng cuộc sống không phải để người khác nhìn thấy.'],\n",
       " ['hạnh phúc như cốc nước lọc, hãy uống và tự mình biết, không nhất thiết phải phơi bày ra ngoài.'],\n",
       " ['họ chuyển\\xa0cuộc sống của mình sang\"chế độ im lặng\", giữ hạnh phúc cho riêng mình,\\xa0trân trọng những người xung quanh; dành thời gian, tình cảm cho những người và những điều\\xa0quan trọng.'],\n",
       " ['trái tim của họ phong phú hơn, ý thức về giá trị bản thân cũng cao hơn và niềm hạnh phúc đó tỏa ra từ trong ra ngoài.'],\n",
       " ['đó là bởi họ\\xa0biết bản thân mình muốn gì và sẽ hướng đến điều trái tim mình mong đợi thay vì bận lòng bởi\\xa0việc người khác nghĩ gì về hạnh phúc của mình.'],\n",
       " ['những người phụ nữ như vậy, họ có sức hút rất đặc biệt, khiến người ta cảm thấy ấm áp và không thể không muốn lại gần.'],\n",
       " ['một số người,\\xa0không đáng để quan tâm trong cuộc sống, chúng ta ai cũng sẽ\\xa0gặp phải những người không ưa mình, không thích mình.'],\n",
       " ['bất kể bạn nói và làm gì, họ cũng sẽ thấy không thuận mắt thuận tai, nói những lời khó nghe về bạn.'],\n",
       " ['nhớ rằng, bạn không thể cấm người khác nói hay nghĩ gì nhưng hoàn toàn có quyền lựa chọn những điều mình nghe và nhập vào đầu.'],\n",
       " ['đừng bao giờ bị thu hút bởi những lời nói độc hại đó, thậm chí vì chúng mà sinh mâu thuẫn, cãi vã lần nhau, hủy hoại tâm trạng của chính mình.'],\n",
       " ['một người phụ nữ thực sự mạnh mẽ biết cách đặt cuộc sống của mình ở \"chế độ im lặng\".'],\n",
       " ['gặp phải những lời khó nghe, tiêu cực\\xa0thì họ sẽ không nghe;\\xa0không thể bắt người khác im lặng thì bịt chặt tai mình lại và\\xa0tránh xa người đó.'],\n",
       " ['gặp phải người khó ưa, quyết không thay đổi thì hãy cứ phớt lờ, không cần vì một phút nóng giận mà cãi vã, dây dưa để rồi\\xa0rơi vào những cảm xúc tiêu cực.'],\n",
       " ['trong cuộc sống, ai cũng cần học cho mình chữ \"nhẫn\", học\\xa0cách kiềm chế cảm xúc của mình và không bị cuốn vào những người cũng như những điều tiêu cực.'],\n",
       " ['giữ im lặng, tu dưỡng chính mình một người phụ nữ đặt cuộc sống của mình ở \"chế độ im lặng\" là\\xa0vì cô ấy ngăn chặn sự can thiệp và làm hại từ thế giới bên ngoài.'],\n",
       " ['người như vậy chọn\\xa0không còn lãng phí thời gian và sức lực cho những người và những thứ không xứng đáng, có nhiều thời gian và năng lượng để tập trung hơn cho việc\\xa0tu dưỡng, hoàn thiện\\xa0bản thân.'],\n",
       " ['nhớ rằng, cho dù một người lựa chọn cuộc sống như thế nào, đi theo con đường ra sao\\xa0thì đó cũng là cuộc sống của chính họ, không liên quan gì đến người khác.'],\n",
       " ['bớt phô trương đi, hãy dùng trái tim để hiểu được niềm hạnh phúc mà mình đang có.'],\n",
       " ['lặng lẽ, bình tĩnh, khiêm tốn và giản dị, để cảm nhận tình yêu thương ta được mọi người trao cho cũng như\\xa0niềm hạnh phúc do chính mình tạo ra.'],\n",
       " ['bớt tranh cãi đi, phớt lờ và mỉm cười trước những lời nói không mấy thiện cảm đó, đừng mang suy nghĩ của họ làm thước đo cho hành động của mình.'],\n",
       " ['hãy chọn điều mình muốn nghe, điều mình sẵn sàng nghe và điều mình thấy hữu ích.']]"
      ]
     },
     "execution_count": 393,
     "metadata": {},
     "output_type": "execute_result"
    }
   ],
   "source": [
    "#  chuyển văn bản thành từng câu / Convert text to sentences\n",
    "sentences = text2sent(summary)\n",
    "sentences"
   ]
  },
  {
   "cell_type": "code",
   "execution_count": 394,
   "metadata": {},
   "outputs": [],
   "source": [
    "#  Chuyển câu thành vector / Convert sentences to vector\n",
    "sentences_vec = [sent2vec(i) for i in sentences]"
   ]
  },
  {
   "cell_type": "markdown",
   "metadata": {},
   "source": [
    "# Tóm tắt văn bản thông thường theo cách tính trọng số"
   ]
  },
  {
   "cell_type": "code",
   "execution_count": 395,
   "metadata": {},
   "outputs": [],
   "source": [
    "#  Tính ma trận độ tương tự / Calculate similarity matrix\n",
    "A = sim_matrix(sentences_vec)\n",
    "\n",
    "#  Tính độ tương tự trung bình của câu / Calculate the average similarity of the sentence\n",
    "avg = A.sum(axis=1) / (A.shape[0] - 1)\n"
   ]
  },
  {
   "cell_type": "code",
   "execution_count": 396,
   "metadata": {},
   "outputs": [],
   "source": [
    "#  Xây dựng trọng số cho từng câu / Build weight for each sentence\n",
    "weighted_avg = ((avg - avg.min()) / (avg.max() - avg.min()))\n",
    "#  Tính điểm cho từng câu / Calculate the score for each sentence\n",
    "score = (A.dot(weighted_avg)) / weighted_avg.sum()\n",
    "#  Sắp xếp câu theo thứ tự giảm dần / Sort sentences in descending order\n",
    "ranked_sentences = sorted(((score[i],s) for i,s in enumerate(sentences_vec)), reverse=True)\n",
    "    "
   ]
  },
  {
   "cell_type": "code",
   "execution_count": 397,
   "metadata": {},
   "outputs": [
    {
     "name": "stdout",
     "output_type": "stream",
     "text": [
      "[ 4.11238484e-02  1.22845158e-01 -1.31692141e-01 -1.62222367e-02\n",
      " -4.16941941e-02 -1.77136436e-02 -8.52024630e-02 -9.61658061e-02\n",
      " -3.24561223e-02  1.94812626e-01 -4.56974022e-02  5.48962131e-02\n",
      " -4.92873713e-02 -1.58097386e-01 -1.57553121e-01 -2.38210279e-02\n",
      " -3.61653343e-02 -5.52021600e-02  6.65742606e-02 -1.70826942e-01\n",
      " -4.43071872e-02  8.39349106e-02 -8.49167183e-02  2.62495084e-03\n",
      " -1.00982428e-01  6.65790141e-02  4.60896306e-02 -7.60807004e-03\n",
      "  9.41832215e-02 -2.31427103e-02 -3.49766202e-02  6.06022887e-02\n",
      "  7.57375592e-03 -4.17144448e-02  3.03093120e-02 -1.28938928e-01\n",
      " -4.38637212e-02 -7.58463377e-03 -9.27459747e-02  1.03246653e-02\n",
      "  5.85571155e-02  8.27160105e-02 -1.10986680e-01 -6.98416084e-02\n",
      " -8.02593827e-02 -2.11955398e-01  9.65059772e-02 -2.10440144e-01\n",
      " -2.39501558e-02  2.23915372e-02 -1.17677990e-02 -1.12086453e-01\n",
      "  6.29667044e-02 -1.54151186e-01  2.25538723e-02 -2.23089859e-01\n",
      "  2.94058886e-03 -7.65654296e-02  5.49421236e-02 -2.04139784e-01\n",
      "  3.31139229e-02  1.32791430e-01  3.47027183e-02  5.60596511e-02\n",
      " -7.27468282e-02  8.90340880e-02 -1.11576878e-01  1.94489166e-01\n",
      " -1.72614008e-02  8.22661519e-02 -5.98757267e-02 -2.13398278e-01\n",
      " -1.32067725e-01  9.96987000e-02  5.11203744e-02 -1.12376653e-01\n",
      " -5.74169941e-02  1.28829345e-01  1.03966005e-01  5.61291389e-02\n",
      "  1.20464936e-01 -3.01937852e-02 -7.29211718e-02  3.41379382e-02\n",
      "  2.73752230e-04 -6.19810857e-02  4.95948121e-02 -4.43715528e-02\n",
      " -7.12750107e-03 -1.07054092e-01  1.94577336e-01  9.76019725e-02\n",
      "  1.52803585e-01 -8.78933743e-02  7.20510557e-02  2.84538120e-01\n",
      " -4.11260836e-02 -5.73125184e-02 -7.96397254e-02 -1.52167737e-01]\n",
      "[ 0.04028258  0.05199492 -0.09688039 -0.03155776 -0.05345607 -0.02806233\n",
      " -0.05656536 -0.12370951 -0.00762405  0.19537404 -0.05192003  0.1046867\n",
      " -0.12175833 -0.17886634 -0.11580816 -0.00631546 -0.00899512 -0.01114671\n",
      "  0.01369052 -0.23857535 -0.04389966  0.07090105 -0.09683422  0.03951667\n",
      " -0.08418716  0.0284507   0.0729481  -0.04137566  0.08566345 -0.04589055\n",
      "  0.03709061  0.03286785  0.05455674 -0.04015812 -0.01965646 -0.17631546\n",
      " -0.0091217  -0.02589492 -0.13501768  0.02754368  0.07467167  0.17532916\n",
      " -0.16875036 -0.05476581 -0.06533258 -0.27273175  0.0614058  -0.19469889\n",
      " -0.02898511  0.00687342 -0.04416992 -0.1062444   0.03143281 -0.20545468\n",
      "  0.01247886 -0.11891583 -0.03584411 -0.17555088  0.03541957 -0.21835682\n",
      "  0.09529838  0.10852938  0.03162571  0.02111958 -0.06547826  0.04097662\n",
      " -0.0688291   0.20338973 -0.064216    0.04972249 -0.06154412 -0.11825913\n",
      " -0.12219191  0.16887137  0.00345633 -0.10651875 -0.03520533  0.12284463\n",
      "  0.06968318 -0.00862761  0.07982752 -0.04471133 -0.00781308  0.00914354\n",
      " -0.03265397 -0.05513103  0.02925445 -0.02936018 -0.06523605 -0.09056164\n",
      "  0.22547333  0.11494672  0.11020409 -0.05417246  0.07153506  0.23589666\n",
      "  0.00256111 -0.05303971 -0.05463909 -0.07112427]\n",
      "[ 0.07921676  0.0499048  -0.07060549 -0.00856124 -0.03632598  0.03959721\n",
      " -0.06879024 -0.06638905 -0.02835523  0.19924562 -0.05649361  0.01246444\n",
      " -0.06283182 -0.15499985 -0.07556818  0.01767142 -0.02258303 -0.07246125\n",
      "  0.04108824 -0.12764333  0.02484571  0.05315894 -0.12942964  0.07931332\n",
      " -0.1817196   0.02051173  0.03215907 -0.02300675  0.05945154 -0.01613869\n",
      "  0.01743847  0.05652487  0.01132417  0.01392535  0.05103854 -0.12693916\n",
      " -0.04350928  0.03133957 -0.04810935  0.00762858  0.08108485  0.13361758\n",
      " -0.10333712 -0.10183493 -0.10728185 -0.28456068  0.12575495 -0.22115058\n",
      " -0.01727166 -0.03941788  0.02530313 -0.07086352  0.03980924 -0.14891809\n",
      "  0.07293093 -0.19960341 -0.02744425 -0.06401896  0.12950031 -0.16652946\n",
      "  0.13683604  0.11470024  0.02941848  0.03321202 -0.06514779  0.11660068\n",
      " -0.01730629  0.21222484  0.03200785  0.11093436 -0.0841288  -0.18294989\n",
      " -0.17604473  0.1460577   0.04719679 -0.08224006 -0.00918119  0.06538616\n",
      "  0.20179237  0.00379488  0.03676088 -0.04562526 -0.06468723  0.05120298\n",
      " -0.03223173 -0.05430887  0.08578088 -0.00537309 -0.01168508 -0.11120249\n",
      "  0.19037439  0.13639475  0.14772415 -0.07051779  0.08605448  0.23529238\n",
      "  0.02261228 -0.05004936 -0.03553176 -0.1043651 ]\n",
      "[ 0.02946999  0.03835018 -0.09156037 -0.0195657  -0.04921846  0.02683285\n",
      " -0.02462048 -0.127324   -0.06068346  0.17138164 -0.12901625  0.03203206\n",
      " -0.03204886 -0.15486641 -0.18913248  0.00907037 -0.03334949 -0.07027859\n",
      "  0.06022919 -0.16558388  0.02306827 -0.01860237 -0.08615289  0.02322282\n",
      " -0.12488498 -0.03354212  0.07465971  0.00399487  0.12992395 -0.07232771\n",
      " -0.00040358  0.0613156   0.01869144 -0.06936535  0.04626017 -0.1078764\n",
      " -0.00486034  0.05489783 -0.12281968  0.05467534  0.02503728  0.10191757\n",
      " -0.13419744 -0.08116306 -0.10382131 -0.25219062  0.03377291 -0.1779443\n",
      "  0.03424007 -0.00205767 -0.03893866 -0.07879455  0.08024781 -0.20173258\n",
      "  0.05905539 -0.19492693 -0.04301761 -0.10147368  0.09737926 -0.20086397\n",
      "  0.11859234  0.09269569  0.00710958  0.04028393 -0.11438872  0.0616123\n",
      " -0.07914332  0.22752178 -0.06097989  0.07940979 -0.06770342 -0.15279634\n",
      " -0.1819441   0.08825979  0.01206738 -0.10053774 -0.0198166   0.11483636\n",
      "  0.13179103 -0.02098224  0.10378609  0.04528219 -0.04510871  0.02518693\n",
      "  0.04964392 -0.06959433  0.00784677  0.02982971  0.0065607  -0.07097995\n",
      "  0.19261414  0.09807291  0.13799459 -0.05022387 -0.01299399  0.21435714\n",
      "  0.02185803 -0.1479834  -0.04979346 -0.18183294]\n",
      "[ 0.0393269   0.12658204 -0.07885435  0.01176665 -0.03002511  0.0154463\n",
      " -0.10879266 -0.05578787 -0.04222781  0.18563825 -0.10396776  0.01224285\n",
      " -0.00501764 -0.11319988 -0.18980898 -0.0288139  -0.03817446 -0.088509\n",
      "  0.05673593 -0.2062986  -0.01046768  0.06133606 -0.0831994   0.02917405\n",
      " -0.04625902  0.04026233  0.08668204 -0.06927196  0.08067891  0.00306796\n",
      " -0.04739245  0.04995185  0.00036593 -0.00738951  0.10364314 -0.15184087\n",
      " -0.0412095   0.01384676 -0.09575942  0.01667816  0.10963443  0.13928613\n",
      " -0.06412737 -0.07155048 -0.14776036 -0.23988618  0.07124618 -0.21615396\n",
      " -0.03088374 -0.06252176 -0.00323898 -0.02592833  0.01779097 -0.13043\n",
      "  0.04442425 -0.17840557 -0.0034066  -0.04359427  0.08640644 -0.1925783\n",
      "  0.11609954  0.13937177 -0.04662537  0.03990947 -0.01546554  0.14374952\n",
      " -0.1125664   0.15512662 -0.0514135   0.08451524 -0.05459147 -0.13664384\n",
      " -0.10952972  0.152796    0.03733548 -0.11591162 -0.06312311  0.11812913\n",
      "  0.10685907  0.03927631  0.12755963  0.05335353 -0.02103038  0.01739196\n",
      "  0.00932202 -0.03941533  0.10840692 -0.00782647  0.02632363 -0.12919647\n",
      "  0.2103123   0.12436911  0.17651285 -0.00935142  0.02859362  0.23663253\n",
      " -0.01639655 -0.08368742 -0.05694851 -0.18189193]\n"
     ]
    }
   ],
   "source": [
    "#  In ra 5 câu có điểm cao nhất / Print the top 5 sentences\n",
    "for i in range(5):\n",
    "    print(ranked_sentences[i][1])"
   ]
  },
  {
   "cell_type": "code",
   "execution_count": 398,
   "metadata": {},
   "outputs": [
    {
     "name": "stdout",
     "output_type": "stream",
     "text": [
      " thực tế, những người phụ nữ có thể đặt cuộc sống của mình vào \"chế độ im lặng\" thường không đơn giản, hơn ai hết, họ đều rất hiểu những điều sau đây:  không cần mặt trời để chói chang mới là hạnh phúc có nhiều người đặc biệt thích chia sẻ những bức hình sang chảnh, lộng lẫy của mình lên cho người khác xem, dù ở trong hoàn cảnh nào cũng cố tạo ra trạng thái hoàn hảo để chứng minh cho người ngoài thấy bản thân đang rất hạnh phúc. một số người, không đáng để quan tâm trong cuộc sống, chúng ta ai cũng sẽ gặp phải những người không ưa mình, không thích mình. bớt tranh cãi đi, phớt lờ và mỉm cười trước những lời nói không mấy thiện cảm đó, đừng mang suy nghĩ của họ làm thước đo cho hành động của mình. nhớ rằng, bạn không thể cấm người khác nói hay nghĩ gì nhưng hoàn toàn có quyền lựa chọn những điều mình nghe và nhập vào đầu. nhớ rằng, cho dù một người lựa chọn cuộc sống như thế nào, đi theo con đường ra sao thì đó cũng là cuộc sống của chính họ, không liên quan gì đến người khác. \n"
     ]
    }
   ],
   "source": [
    "#  Tạo ra văn bản tóm tắt với vector tương ứng / Create a summary text with the corresponding vector\n",
    "summary_wv = ''\n",
    "for i in range(5):\n",
    "    summary_wv += sentences[np.where(sentences_vec == ranked_sentences[i][1])[0][0]][0] + ' '\n",
    "\n",
    "print(summary_wv)\n"
   ]
  },
  {
   "cell_type": "markdown",
   "metadata": {},
   "source": [
    "# Sử dụng TFIDF và phương pháp cosine"
   ]
  },
  {
   "cell_type": "code",
   "execution_count": 399,
   "metadata": {},
   "outputs": [
    {
     "name": "stdout",
     "output_type": "stream",
     "text": [
      " thực tế, những người phụ nữ có thể đặt cuộc sống của mình vào \"chế độ im lặng\" thường không đơn giản, hơn ai hết, họ đều rất hiểu những điều sau đây:  không cần mặt trời để chói chang mới là hạnh phúc có nhiều người đặc biệt thích chia sẻ những bức hình sang chảnh, lộng lẫy của mình lên cho người khác xem, dù ở trong hoàn cảnh nào cũng cố tạo ra trạng thái hoàn hảo để chứng minh cho người ngoài thấy bản thân đang rất hạnh phúc. một số người, không đáng để quan tâm trong cuộc sống, chúng ta ai cũng sẽ gặp phải những người không ưa mình, không thích mình. nhớ rằng, cho dù một người lựa chọn cuộc sống như thế nào, đi theo con đường ra sao thì đó cũng là cuộc sống của chính họ, không liên quan gì đến người khác. trong cuộc sống, ai cũng cần học cho mình chữ \"nhẫn\", học cách kiềm chế cảm xúc của mình và không bị cuốn vào những người cũng như những điều tiêu cực. họ chuyển cuộc sống của mình sang\"chế độ im lặng\", giữ hạnh phúc cho riêng mình, trân trọng những người xung quanh; dành thời gian, tình cảm cho những người và những điều quan trọng. \n"
     ]
    }
   ],
   "source": [
    "from sklearn.feature_extraction.text import TfidfVectorizer\n",
    "from sklearn.metrics.pairwise import cosine_similarity\n",
    "\n",
    "#  Tạo ma trận tf-idf / Create tf-idf matrix\n",
    "vectorizer = TfidfVectorizer()\n",
    "tf_idf_matrix = vectorizer.fit_transform([s[0] for s in sentences])\n",
    "\n",
    "#  Tính độ tương tự giữa các câu / Calculate the similarity between sentences\n",
    "sim_mat = cosine_similarity(tf_idf_matrix, tf_idf_matrix)\n",
    "\n",
    "#  Tính điểm cho từng câu / Calculate the score for each sentence\n",
    "sim_scores = sim_mat.sum(axis=0)\n",
    "ranked_sentences = sorted(((sim_scores[i],s) for i,s in enumerate(sentences)), reverse=True)\n",
    "\n",
    "#  Chuyển 5 câu có điểm cao nhất thành văn bản tóm tắt / Convert the top 5 sentences to a summary text\n",
    "summary_tfvec = ''\n",
    "for i in range(5):\n",
    "    summary_tfvec += ranked_sentences[i][1][0] + ' '\n",
    "\n",
    "print(summary_tfvec)\n",
    "\n"
   ]
  },
  {
   "cell_type": "markdown",
   "metadata": {},
   "source": [
    "# Sử dụng Count vector thay cho tfidfvector"
   ]
  },
  {
   "cell_type": "code",
   "execution_count": 400,
   "metadata": {},
   "outputs": [
    {
     "name": "stdout",
     "output_type": "stream",
     "text": [
      " thực tế, những người phụ nữ có thể đặt cuộc sống của mình vào \"chế độ im lặng\" thường không đơn giản, hơn ai hết, họ đều rất hiểu những điều sau đây:  không cần mặt trời để chói chang mới là hạnh phúc có nhiều người đặc biệt thích chia sẻ những bức hình sang chảnh, lộng lẫy của mình lên cho người khác xem, dù ở trong hoàn cảnh nào cũng cố tạo ra trạng thái hoàn hảo để chứng minh cho người ngoài thấy bản thân đang rất hạnh phúc. một số người, không đáng để quan tâm trong cuộc sống, chúng ta ai cũng sẽ gặp phải những người không ưa mình, không thích mình. họ chuyển cuộc sống của mình sang\"chế độ im lặng\", giữ hạnh phúc cho riêng mình, trân trọng những người xung quanh; dành thời gian, tình cảm cho những người và những điều quan trọng. trong cuộc sống, ai cũng cần học cho mình chữ \"nhẫn\", học cách kiềm chế cảm xúc của mình và không bị cuốn vào những người cũng như những điều tiêu cực. gặp phải những lời khó nghe, tiêu cực thì họ sẽ không nghe; không thể bắt người khác im lặng thì bịt chặt tai mình lại và tránh xa người đó. \n"
     ]
    }
   ],
   "source": [
    "from sklearn.feature_extraction.text import CountVectorizer\n",
    "from sklearn.metrics.pairwise import cosine_similarity\n",
    "\n",
    "#  Tạo ma trận tf-idf / Create tf-idf matrix\n",
    "vectorizer = CountVectorizer()\n",
    "tf_idf_matrix = vectorizer.fit_transform([s[0] for s in sentences])\n",
    "\n",
    "#  Tính độ tương tự giữa các câu / Calculate the similarity between sentences\n",
    "sim_mat = cosine_similarity(tf_idf_matrix, tf_idf_matrix)\n",
    "\n",
    "#  Tính điểm cho từng câu / Calculate the score for each sentence\n",
    "sim_scores = sim_mat.sum(axis=0)\n",
    "ranked_sentences = sorted(((sim_scores[i],s) for i,s in enumerate(sentences)), reverse=True)\n",
    "\n",
    "#  Chuyển 5 câu có điểm cao nhất thành văn bản tóm tắt / Convert the top 5 sentences to a summary text\n",
    "summary_countvec = ''\n",
    "for i in range(5):\n",
    "    summary_countvec += ranked_sentences[i][1][0] + ' '\n",
    "\n",
    "print(summary_countvec)"
   ]
  },
  {
   "cell_type": "markdown",
   "metadata": {},
   "source": [
    "# Sử dụng model kmeans dự đoán"
   ]
  },
  {
   "cell_type": "code",
   "execution_count": 401,
   "metadata": {},
   "outputs": [
    {
     "name": "stdout",
     "output_type": "stream",
     "text": [
      "một số người, không đáng để quan tâm trong cuộc sống, chúng ta ai cũng sẽ gặp phải những người không ưa mình, không thích mình. sự thật là, trên thế giới này, không ai thực sự quan tâm bạn có hạnh phúc hay không mà luôn có người ghen tị với bạn khi bạn làm tốt và có người làm tổn thương bạn khi bạn làm không tốt. họ hiểu rằng cuộc sống không phải để người khác nhìn thấy.  thực tế, những người phụ nữ có thể đặt cuộc sống của mình vào \"chế độ im lặng\" thường không đơn giản, hơn ai hết, họ đều rất hiểu những điều sau đây:  không cần mặt trời để chói chang mới là hạnh phúc có nhiều người đặc biệt thích chia sẻ những bức hình sang chảnh, lộng lẫy của mình lên cho người khác xem, dù ở trong hoàn cảnh nào cũng cố tạo ra trạng thái hoàn hảo để chứng minh cho người ngoài thấy bản thân đang rất hạnh phúc. một người phụ nữ thực sự mạnh mẽ biết cách đặt cuộc sống của mình ở \"chế độ im lặng\". \n"
     ]
    }
   ],
   "source": [
    "from sklearn.cluster import KMeans\n",
    "from sklearn.metrics import pairwise_distances_argmin_min\n",
    "\n",
    "#  Tạo ma trận tf-idf / Create tf-idf matrix\n",
    "vectorizer_C = CountVectorizer()\n",
    "tf_idf_matrix_C = vectorizer_C.fit_transform([s[0] for s in sentences])\n",
    "\n",
    "#  Tạo model KMeans / Create KMeans model\n",
    "kmeans = KMeans(n_clusters=5, random_state=0).fit(tf_idf_matrix_C)\n",
    "\n",
    "#  Tìm ra các câu có cùng cluster / Find sentences with the same cluster\n",
    "closest, _ = pairwise_distances_argmin_min(kmeans.cluster_centers_, tf_idf_matrix_C)\n",
    "\n",
    "#  Chuyển các câu có cùng cluster thành văn bản tóm tắt / Convert sentences with the same cluster to a summary text\n",
    "summary_KM_C = ''\n",
    "for i in closest:\n",
    "    summary_KM_C += sentences[i][0] + ' '\n",
    "\n",
    "print(summary_KM_C)"
   ]
  },
  {
   "cell_type": "code",
   "execution_count": 402,
   "metadata": {},
   "outputs": [
    {
     "name": "stdout",
     "output_type": "stream",
     "text": [
      "một số người, không đáng để quan tâm trong cuộc sống, chúng ta ai cũng sẽ gặp phải những người không ưa mình, không thích mình. họ chuyển cuộc sống của mình sang\"chế độ im lặng\", giữ hạnh phúc cho riêng mình, trân trọng những người xung quanh; dành thời gian, tình cảm cho những người và những điều quan trọng. đó là bởi họ biết bản thân mình muốn gì và sẽ hướng đến điều trái tim mình mong đợi thay vì bận lòng bởi việc người khác nghĩ gì về hạnh phúc của mình. sự thật là, trên thế giới này, không ai thực sự quan tâm bạn có hạnh phúc hay không mà luôn có người ghen tị với bạn khi bạn làm tốt và có người làm tổn thương bạn khi bạn làm không tốt. một người phụ nữ thực sự mạnh mẽ biết cách đặt cuộc sống của mình ở \"chế độ im lặng\". \n"
     ]
    }
   ],
   "source": [
    "#  Tạo ma trận tf-idf / Create tf-idf matrix\n",
    "vectorizer_T = TfidfVectorizer()\n",
    "tf_idf_matrix_T = vectorizer_T.fit_transform([s[0] for s in sentences])\n",
    "\n",
    "#  Tạo model KMeans / Create KMeans model\n",
    "kmeans = KMeans(n_clusters=5, random_state=0).fit(tf_idf_matrix_T)\n",
    "\n",
    "#  Tìm ra các câu có cùng cluster / Find sentences with the same cluster\n",
    "closest, _ = pairwise_distances_argmin_min(kmeans.cluster_centers_, tf_idf_matrix_T)\n",
    "\n",
    "#  Chuyển các câu có cùng cluster thành văn bản tóm tắt / Convert sentences with the same cluster to a summary text\n",
    "summary_KM_T = ''\n",
    "for i in closest:\n",
    "    summary_KM_T += sentences[i][0] + ' '\n",
    "\n",
    "print(summary_KM_T)\n"
   ]
  },
  {
   "cell_type": "code",
   "execution_count": 403,
   "metadata": {},
   "outputs": [
    {
     "name": "stdout",
     "output_type": "stream",
     "text": [
      "bớt tranh cãi đi, phớt lờ và mỉm cười trước những lời nói không mấy thiện cảm đó, đừng mang suy nghĩ của họ làm thước đo cho hành động của mình. bản chất con người rất phức tạp và cách tốt nhất để bảo vệ chính bạn là không thách thức người khác.  thực tế, những người phụ nữ có thể đặt cuộc sống của mình vào \"chế độ im lặng\" thường không đơn giản, hơn ai hết, họ đều rất hiểu những điều sau đây:  không cần mặt trời để chói chang mới là hạnh phúc có nhiều người đặc biệt thích chia sẻ những bức hình sang chảnh, lộng lẫy của mình lên cho người khác xem, dù ở trong hoàn cảnh nào cũng cố tạo ra trạng thái hoàn hảo để chứng minh cho người ngoài thấy bản thân đang rất hạnh phúc. trái tim của họ phong phú hơn, ý thức về giá trị bản thân cũng cao hơn và niềm hạnh phúc đó tỏa ra từ trong ra ngoài. bất kể bạn nói và làm gì, họ cũng sẽ thấy không thuận mắt thuận tai, nói những lời khó nghe về bạn. \n"
     ]
    }
   ],
   "source": [
    "kmeans = KMeans(n_clusters=5, random_state=0).fit(sentences_vec)\n",
    "\n",
    "#  Tìm ra các câu có cùng cluster / Find sentences with the same cluster\n",
    "closest, _ = pairwise_distances_argmin_min(kmeans.cluster_centers_, sentences_vec)\n",
    "\n",
    "#  Chuyển các câu có cùng cluster thành văn bản tóm tắt / Convert sentences with the same cluster to a summary text\n",
    "\n",
    "summary_KM_WV = ''\n",
    "for i in closest:\n",
    "    summary_KM_WV += sentences[i][0] + ' '\n",
    "\n",
    "print(summary_KM_WV)\n"
   ]
  },
  {
   "cell_type": "markdown",
   "metadata": {},
   "source": [
    "# Thực hiện tóm tắt lại văn bản thành 1 câu với tất cả cá mô hình đã làm"
   ]
  },
  {
   "cell_type": "code",
   "execution_count": 404,
   "metadata": {},
   "outputs": [
    {
     "data": {
      "text/plain": [
       "' thực tế, những người phụ nữ có thể đặt cuộc sống của mình vào \"chế độ im lặng\" thường không đơn giản, hơn ai hết, họ đều rất hiểu những điều sau đây:\\xa0 không cần mặt trời để chói chang mới là hạnh phúc có nhiều người đặc biệt thích chia sẻ những bức hình sang chảnh, lộng lẫy của mình lên cho người khác xem, dù ở trong hoàn cảnh nào cũng cố tạo ra trạng thái hoàn hảo để chứng minh cho người ngoài thấy bản thân đang rất hạnh phúc.'"
      ]
     },
     "execution_count": 404,
     "metadata": {},
     "output_type": "execute_result"
    }
   ],
   "source": [
    "# Chuyển các summeries thành dạng list / Convert summeries to list\n",
    "summary_list = [summary_wv, summary_tfvec, summary_countvec, summary_KM_C, summary_KM_T, summary_KM_WV]\n",
    "\n",
    "# Tách các câu trong các summeries / Split sentences in summeries\n",
    "summary_list = [s.split('. ') for s in summary_list]\n",
    "\n",
    "# Tạo ma trận tf-idf / Create tf-idf matrix\n",
    "vectorizer = TfidfVectorizer()\n",
    "tf_idf_matrix = vectorizer.fit_transform([s[0] for s in sentences])\n",
    "\n",
    "# Tính độ tương tự giữa các câu / Calculate the similarity between sentences\n",
    "sim_mat = cosine_similarity(tf_idf_matrix, tf_idf_matrix)\n",
    "\n",
    "# Tính điểm cho từng câu / Calculate the score for each sentence\n",
    "sim_scores = sim_mat.sum(axis=0)\n",
    "\n",
    "# Tạo một list chứa các câu có điểm cao nhất / Create a list containing the sentences with the highest score\n",
    "ranked_sentences = sorted(((sim_scores[i],s) for i,s in enumerate(sentences)), reverse=True)\n",
    "\n",
    "# Lấy câu có điểm cao nhất / Get the sentence with the highest score\n",
    "top_sentence = ranked_sentences[0][1][0]\n",
    "top_sentence"
   ]
  },
  {
   "cell_type": "code",
   "execution_count": 405,
   "metadata": {},
   "outputs": [
    {
     "name": "stdout",
     "output_type": "stream",
     "text": [
      "Đoạn văn nói về:  thực tế phụ nữ có thể đặt cuộc sống chế độ im lặng đơn giản hiểu mặt trời chói chang hạnh phúc đặc biệt thích chia sẻ bức hình sang chảnh lộng lẫy xem dù hoàn cảnh cố tạo trạng thái hoàn hảo chứng minh bản thân hạnh phúc\n"
     ]
    }
   ],
   "source": [
    "from underthesea import pos_tag\n",
    "import string\n",
    "# Xử lý câu có điểm cao nhất / Process the sentence with the highest score\n",
    "\n",
    "# lấy các token của câu / get tokens of the sentence\n",
    "top_sentence_tokens = word_tokenize(top_sentence)\n",
    "\n",
    "# loại bỏ các token là dấu câu / remove punctuation tokens\n",
    "top_sentence_tokens = [t for t in top_sentence_tokens if t not in string.punctuation]\n",
    "\n",
    "# loại bỏ các token là stopword / remove stopword tokens\n",
    "top_sentence_tokens = [t for t in top_sentence_tokens if t not in stop_words]\n",
    "\n",
    "# Chuyển thành đoạn văn bản xúc tích / Convert to sentiment text\n",
    "top_sentence_tokens = ' '.join(top_sentence_tokens)\n",
    "\n",
    "print('Đoạn văn nói về: ', top_sentence_tokens)"
   ]
  }
 ],
 "metadata": {
  "kernelspec": {
   "display_name": "Python 3.10.8 64-bit (microsoft store)",
   "language": "python",
   "name": "python3"
  },
  "language_info": {
   "codemirror_mode": {
    "name": "ipython",
    "version": 3
   },
   "file_extension": ".py",
   "mimetype": "text/x-python",
   "name": "python",
   "nbconvert_exporter": "python",
   "pygments_lexer": "ipython3",
   "version": "3.10.8"
  },
  "orig_nbformat": 4,
  "vscode": {
   "interpreter": {
    "hash": "cdfbf7b7304e05408e799db5ef32899d3a083826c8173734f898b7fad24dd3fd"
   }
  }
 },
 "nbformat": 4,
 "nbformat_minor": 2
}
